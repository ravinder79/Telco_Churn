{
 "cells": [
  {
   "cell_type": "code",
   "execution_count": 1,
   "metadata": {},
   "outputs": [],
   "source": [
    "import pandas as pd\n",
    "import env\n",
    "import numpy as np\n",
    "import seaborn as sns\n",
    "import matplotlib.pyplot as plt\n",
    "%matplotlib inline\n",
    "import acquire_r\n",
    "from sklearn.preprocessing import LabelEncoder, OneHotEncoder, MinMaxScaler\n",
    "import sklearn.model_selection\n",
    "import warnings\n",
    "warnings.filterwarnings(\"ignore\")\n",
    "from sklearn.linear_model import LogisticRegression\n",
    "from sklearn.metrics import classification_report\n",
    "from sklearn.metrics import confusion_matrix\n",
    "import logistic_regression_util\n",
    "from sklearn.tree import DecisionTreeClassifier\n",
    "from sklearn.ensemble import RandomForestClassifier\n",
    "from sklearn.neighbors import KNeighborsClassifier\n",
    "import knn_lesson_util as util\n",
    "import wrangle\n",
    "import encode\n",
    "from sklearn.model_selection import KFold, cross_val_score\n",
    "import time\n",
    "import model\n",
    "from sklearn.metrics import accuracy_score, precision_score, recall_score, f1_score, log_loss, fbeta_score\n",
    "from sklearn.metrics import auc, roc_curve, roc_auc_score, precision_recall_curve\n",
    "from scipy import stats\n",
    "sns.set()"
   ]
  },
  {
   "cell_type": "markdown",
   "metadata": {},
   "source": [
    "### Start with acquiring data from SQL database"
   ]
  },
  {
   "cell_type": "code",
   "execution_count": 2,
   "metadata": {},
   "outputs": [],
   "source": [
    "df = acquire_r.get_data_from_sql()"
   ]
  },
  {
   "cell_type": "code",
   "execution_count": 3,
   "metadata": {},
   "outputs": [
    {
     "data": {
      "text/html": [
       "<div>\n",
       "<style scoped>\n",
       "    .dataframe tbody tr th:only-of-type {\n",
       "        vertical-align: middle;\n",
       "    }\n",
       "\n",
       "    .dataframe tbody tr th {\n",
       "        vertical-align: top;\n",
       "    }\n",
       "\n",
       "    .dataframe thead th {\n",
       "        text-align: right;\n",
       "    }\n",
       "</style>\n",
       "<table border=\"1\" class=\"dataframe\">\n",
       "  <thead>\n",
       "    <tr style=\"text-align: right;\">\n",
       "      <th></th>\n",
       "      <th>payment_type_id</th>\n",
       "      <th>internet_service_type_id</th>\n",
       "      <th>contract_type_id</th>\n",
       "      <th>customer_id</th>\n",
       "      <th>gender</th>\n",
       "      <th>senior_citizen</th>\n",
       "      <th>partner</th>\n",
       "      <th>dependents</th>\n",
       "      <th>tenure</th>\n",
       "      <th>phone_service</th>\n",
       "      <th>...</th>\n",
       "      <th>tech_support</th>\n",
       "      <th>streaming_tv</th>\n",
       "      <th>streaming_movies</th>\n",
       "      <th>paperless_billing</th>\n",
       "      <th>monthly_charges</th>\n",
       "      <th>total_charges</th>\n",
       "      <th>churn</th>\n",
       "      <th>contract_type</th>\n",
       "      <th>internet_service_type</th>\n",
       "      <th>payment_type</th>\n",
       "    </tr>\n",
       "  </thead>\n",
       "  <tbody>\n",
       "    <tr>\n",
       "      <th>0</th>\n",
       "      <td>2</td>\n",
       "      <td>1</td>\n",
       "      <td>1</td>\n",
       "      <td>0003-MKNFE</td>\n",
       "      <td>Male</td>\n",
       "      <td>0</td>\n",
       "      <td>No</td>\n",
       "      <td>No</td>\n",
       "      <td>9</td>\n",
       "      <td>Yes</td>\n",
       "      <td>...</td>\n",
       "      <td>No</td>\n",
       "      <td>No</td>\n",
       "      <td>Yes</td>\n",
       "      <td>No</td>\n",
       "      <td>59.9</td>\n",
       "      <td>542.4</td>\n",
       "      <td>No</td>\n",
       "      <td>Month-to-month</td>\n",
       "      <td>DSL</td>\n",
       "      <td>Mailed check</td>\n",
       "    </tr>\n",
       "    <tr>\n",
       "      <th>1</th>\n",
       "      <td>4</td>\n",
       "      <td>1</td>\n",
       "      <td>1</td>\n",
       "      <td>0013-MHZWF</td>\n",
       "      <td>Female</td>\n",
       "      <td>0</td>\n",
       "      <td>No</td>\n",
       "      <td>Yes</td>\n",
       "      <td>9</td>\n",
       "      <td>Yes</td>\n",
       "      <td>...</td>\n",
       "      <td>Yes</td>\n",
       "      <td>Yes</td>\n",
       "      <td>Yes</td>\n",
       "      <td>Yes</td>\n",
       "      <td>69.4</td>\n",
       "      <td>571.45</td>\n",
       "      <td>No</td>\n",
       "      <td>Month-to-month</td>\n",
       "      <td>DSL</td>\n",
       "      <td>Credit card (automatic)</td>\n",
       "    </tr>\n",
       "    <tr>\n",
       "      <th>2</th>\n",
       "      <td>1</td>\n",
       "      <td>1</td>\n",
       "      <td>1</td>\n",
       "      <td>0015-UOCOJ</td>\n",
       "      <td>Female</td>\n",
       "      <td>1</td>\n",
       "      <td>No</td>\n",
       "      <td>No</td>\n",
       "      <td>7</td>\n",
       "      <td>Yes</td>\n",
       "      <td>...</td>\n",
       "      <td>No</td>\n",
       "      <td>No</td>\n",
       "      <td>No</td>\n",
       "      <td>Yes</td>\n",
       "      <td>48.2</td>\n",
       "      <td>340.35</td>\n",
       "      <td>No</td>\n",
       "      <td>Month-to-month</td>\n",
       "      <td>DSL</td>\n",
       "      <td>Electronic check</td>\n",
       "    </tr>\n",
       "    <tr>\n",
       "      <th>3</th>\n",
       "      <td>1</td>\n",
       "      <td>1</td>\n",
       "      <td>1</td>\n",
       "      <td>0023-HGHWL</td>\n",
       "      <td>Male</td>\n",
       "      <td>1</td>\n",
       "      <td>No</td>\n",
       "      <td>No</td>\n",
       "      <td>1</td>\n",
       "      <td>No</td>\n",
       "      <td>...</td>\n",
       "      <td>No</td>\n",
       "      <td>No</td>\n",
       "      <td>No</td>\n",
       "      <td>Yes</td>\n",
       "      <td>25.1</td>\n",
       "      <td>25.1</td>\n",
       "      <td>Yes</td>\n",
       "      <td>Month-to-month</td>\n",
       "      <td>DSL</td>\n",
       "      <td>Electronic check</td>\n",
       "    </tr>\n",
       "  </tbody>\n",
       "</table>\n",
       "<p>4 rows × 24 columns</p>\n",
       "</div>"
      ],
      "text/plain": [
       "   payment_type_id  internet_service_type_id  contract_type_id customer_id  \\\n",
       "0                2                         1                 1  0003-MKNFE   \n",
       "1                4                         1                 1  0013-MHZWF   \n",
       "2                1                         1                 1  0015-UOCOJ   \n",
       "3                1                         1                 1  0023-HGHWL   \n",
       "\n",
       "   gender  senior_citizen partner dependents  tenure phone_service  ...  \\\n",
       "0    Male               0      No         No       9           Yes  ...   \n",
       "1  Female               0      No        Yes       9           Yes  ...   \n",
       "2  Female               1      No         No       7           Yes  ...   \n",
       "3    Male               1      No         No       1            No  ...   \n",
       "\n",
       "  tech_support streaming_tv streaming_movies paperless_billing  \\\n",
       "0           No           No              Yes                No   \n",
       "1          Yes          Yes              Yes               Yes   \n",
       "2           No           No               No               Yes   \n",
       "3           No           No               No               Yes   \n",
       "\n",
       "  monthly_charges total_charges churn   contract_type  internet_service_type  \\\n",
       "0            59.9         542.4    No  Month-to-month                    DSL   \n",
       "1            69.4        571.45    No  Month-to-month                    DSL   \n",
       "2            48.2        340.35    No  Month-to-month                    DSL   \n",
       "3            25.1          25.1   Yes  Month-to-month                    DSL   \n",
       "\n",
       "              payment_type  \n",
       "0             Mailed check  \n",
       "1  Credit card (automatic)  \n",
       "2         Electronic check  \n",
       "3         Electronic check  \n",
       "\n",
       "[4 rows x 24 columns]"
      ]
     },
     "execution_count": 3,
     "metadata": {},
     "output_type": "execute_result"
    }
   ],
   "source": [
    "# check head of the dataset\n",
    "df.head(4)"
   ]
  },
  {
   "cell_type": "code",
   "execution_count": 4,
   "metadata": {},
   "outputs": [
    {
     "data": {
      "text/html": [
       "<div>\n",
       "<style scoped>\n",
       "    .dataframe tbody tr th:only-of-type {\n",
       "        vertical-align: middle;\n",
       "    }\n",
       "\n",
       "    .dataframe tbody tr th {\n",
       "        vertical-align: top;\n",
       "    }\n",
       "\n",
       "    .dataframe thead th {\n",
       "        text-align: right;\n",
       "    }\n",
       "</style>\n",
       "<table border=\"1\" class=\"dataframe\">\n",
       "  <thead>\n",
       "    <tr style=\"text-align: right;\">\n",
       "      <th></th>\n",
       "      <th>payment_type_id</th>\n",
       "      <th>internet_service_type_id</th>\n",
       "      <th>contract_type_id</th>\n",
       "      <th>customer_id</th>\n",
       "      <th>gender</th>\n",
       "      <th>senior_citizen</th>\n",
       "      <th>partner</th>\n",
       "      <th>dependents</th>\n",
       "      <th>tenure</th>\n",
       "      <th>phone_service</th>\n",
       "      <th>...</th>\n",
       "      <th>tech_support</th>\n",
       "      <th>streaming_tv</th>\n",
       "      <th>streaming_movies</th>\n",
       "      <th>paperless_billing</th>\n",
       "      <th>monthly_charges</th>\n",
       "      <th>total_charges</th>\n",
       "      <th>churn</th>\n",
       "      <th>contract_type</th>\n",
       "      <th>internet_service_type</th>\n",
       "      <th>payment_type</th>\n",
       "    </tr>\n",
       "  </thead>\n",
       "  <tbody>\n",
       "    <tr>\n",
       "      <th>7039</th>\n",
       "      <td>2</td>\n",
       "      <td>3</td>\n",
       "      <td>3</td>\n",
       "      <td>9953-ZMKSM</td>\n",
       "      <td>Male</td>\n",
       "      <td>0</td>\n",
       "      <td>No</td>\n",
       "      <td>No</td>\n",
       "      <td>63</td>\n",
       "      <td>Yes</td>\n",
       "      <td>...</td>\n",
       "      <td>No internet service</td>\n",
       "      <td>No internet service</td>\n",
       "      <td>No internet service</td>\n",
       "      <td>No</td>\n",
       "      <td>25.25</td>\n",
       "      <td>1559.3</td>\n",
       "      <td>No</td>\n",
       "      <td>Two year</td>\n",
       "      <td>None</td>\n",
       "      <td>Mailed check</td>\n",
       "    </tr>\n",
       "    <tr>\n",
       "      <th>7040</th>\n",
       "      <td>4</td>\n",
       "      <td>3</td>\n",
       "      <td>3</td>\n",
       "      <td>9964-WBQDJ</td>\n",
       "      <td>Female</td>\n",
       "      <td>0</td>\n",
       "      <td>Yes</td>\n",
       "      <td>No</td>\n",
       "      <td>71</td>\n",
       "      <td>Yes</td>\n",
       "      <td>...</td>\n",
       "      <td>No internet service</td>\n",
       "      <td>No internet service</td>\n",
       "      <td>No internet service</td>\n",
       "      <td>Yes</td>\n",
       "      <td>24.40</td>\n",
       "      <td>1725.4</td>\n",
       "      <td>No</td>\n",
       "      <td>Two year</td>\n",
       "      <td>None</td>\n",
       "      <td>Credit card (automatic)</td>\n",
       "    </tr>\n",
       "    <tr>\n",
       "      <th>7041</th>\n",
       "      <td>3</td>\n",
       "      <td>3</td>\n",
       "      <td>3</td>\n",
       "      <td>9972-EWRJS</td>\n",
       "      <td>Female</td>\n",
       "      <td>0</td>\n",
       "      <td>Yes</td>\n",
       "      <td>Yes</td>\n",
       "      <td>67</td>\n",
       "      <td>Yes</td>\n",
       "      <td>...</td>\n",
       "      <td>No internet service</td>\n",
       "      <td>No internet service</td>\n",
       "      <td>No internet service</td>\n",
       "      <td>Yes</td>\n",
       "      <td>19.25</td>\n",
       "      <td>1372.9</td>\n",
       "      <td>No</td>\n",
       "      <td>Two year</td>\n",
       "      <td>None</td>\n",
       "      <td>Bank transfer (automatic)</td>\n",
       "    </tr>\n",
       "    <tr>\n",
       "      <th>7042</th>\n",
       "      <td>4</td>\n",
       "      <td>3</td>\n",
       "      <td>3</td>\n",
       "      <td>9975-GPKZU</td>\n",
       "      <td>Male</td>\n",
       "      <td>0</td>\n",
       "      <td>Yes</td>\n",
       "      <td>Yes</td>\n",
       "      <td>46</td>\n",
       "      <td>Yes</td>\n",
       "      <td>...</td>\n",
       "      <td>No internet service</td>\n",
       "      <td>No internet service</td>\n",
       "      <td>No internet service</td>\n",
       "      <td>No</td>\n",
       "      <td>19.75</td>\n",
       "      <td>856.5</td>\n",
       "      <td>No</td>\n",
       "      <td>Two year</td>\n",
       "      <td>None</td>\n",
       "      <td>Credit card (automatic)</td>\n",
       "    </tr>\n",
       "  </tbody>\n",
       "</table>\n",
       "<p>4 rows × 24 columns</p>\n",
       "</div>"
      ],
      "text/plain": [
       "      payment_type_id  internet_service_type_id  contract_type_id customer_id  \\\n",
       "7039                2                         3                 3  9953-ZMKSM   \n",
       "7040                4                         3                 3  9964-WBQDJ   \n",
       "7041                3                         3                 3  9972-EWRJS   \n",
       "7042                4                         3                 3  9975-GPKZU   \n",
       "\n",
       "      gender  senior_citizen partner dependents  tenure phone_service  ...  \\\n",
       "7039    Male               0      No         No      63           Yes  ...   \n",
       "7040  Female               0     Yes         No      71           Yes  ...   \n",
       "7041  Female               0     Yes        Yes      67           Yes  ...   \n",
       "7042    Male               0     Yes        Yes      46           Yes  ...   \n",
       "\n",
       "             tech_support         streaming_tv     streaming_movies  \\\n",
       "7039  No internet service  No internet service  No internet service   \n",
       "7040  No internet service  No internet service  No internet service   \n",
       "7041  No internet service  No internet service  No internet service   \n",
       "7042  No internet service  No internet service  No internet service   \n",
       "\n",
       "     paperless_billing monthly_charges total_charges churn contract_type  \\\n",
       "7039                No           25.25        1559.3    No      Two year   \n",
       "7040               Yes           24.40        1725.4    No      Two year   \n",
       "7041               Yes           19.25        1372.9    No      Two year   \n",
       "7042                No           19.75         856.5    No      Two year   \n",
       "\n",
       "      internet_service_type               payment_type  \n",
       "7039                   None               Mailed check  \n",
       "7040                   None    Credit card (automatic)  \n",
       "7041                   None  Bank transfer (automatic)  \n",
       "7042                   None    Credit card (automatic)  \n",
       "\n",
       "[4 rows x 24 columns]"
      ]
     },
     "execution_count": 4,
     "metadata": {},
     "output_type": "execute_result"
    }
   ],
   "source": [
    "## check tail of the dataset\n",
    "df.tail(4)"
   ]
  },
  {
   "cell_type": "code",
   "execution_count": 5,
   "metadata": {},
   "outputs": [
    {
     "data": {
      "text/plain": [
       "(7043, 24)"
      ]
     },
     "execution_count": 5,
     "metadata": {},
     "output_type": "execute_result"
    }
   ],
   "source": [
    "#check the shape of the dataset\n",
    "df.shape"
   ]
  },
  {
   "cell_type": "markdown",
   "metadata": {},
   "source": [
    "## Start with looking for missing values  data integrity issues "
   ]
  },
  {
   "cell_type": "code",
   "execution_count": 6,
   "metadata": {},
   "outputs": [
    {
     "name": "stdout",
     "output_type": "stream",
     "text": [
      "<class 'pandas.core.frame.DataFrame'>\n",
      "RangeIndex: 7043 entries, 0 to 7042\n",
      "Data columns (total 24 columns):\n",
      "payment_type_id             7043 non-null int64\n",
      "internet_service_type_id    7043 non-null int64\n",
      "contract_type_id            7043 non-null int64\n",
      "customer_id                 7043 non-null object\n",
      "gender                      7043 non-null object\n",
      "senior_citizen              7043 non-null int64\n",
      "partner                     7043 non-null object\n",
      "dependents                  7043 non-null object\n",
      "tenure                      7043 non-null int64\n",
      "phone_service               7043 non-null object\n",
      "multiple_lines              7043 non-null object\n",
      "online_security             7043 non-null object\n",
      "online_backup               7043 non-null object\n",
      "device_protection           7043 non-null object\n",
      "tech_support                7043 non-null object\n",
      "streaming_tv                7043 non-null object\n",
      "streaming_movies            7043 non-null object\n",
      "paperless_billing           7043 non-null object\n",
      "monthly_charges             7043 non-null float64\n",
      "total_charges               7043 non-null object\n",
      "churn                       7043 non-null object\n",
      "contract_type               7043 non-null object\n",
      "internet_service_type       7043 non-null object\n",
      "payment_type                7043 non-null object\n",
      "dtypes: float64(1), int64(5), object(18)\n",
      "memory usage: 1.3+ MB\n"
     ]
    }
   ],
   "source": [
    "df.info()"
   ]
  },
  {
   "cell_type": "markdown",
   "metadata": {},
   "source": [
    "### Looks like there are no null values in dataset. However the total_charges is an 'object' instead of float. Lets explore it further"
   ]
  },
  {
   "cell_type": "code",
   "execution_count": 7,
   "metadata": {},
   "outputs": [
    {
     "data": {
      "text/html": [
       "<div>\n",
       "<style scoped>\n",
       "    .dataframe tbody tr th:only-of-type {\n",
       "        vertical-align: middle;\n",
       "    }\n",
       "\n",
       "    .dataframe tbody tr th {\n",
       "        vertical-align: top;\n",
       "    }\n",
       "\n",
       "    .dataframe thead th {\n",
       "        text-align: right;\n",
       "    }\n",
       "</style>\n",
       "<table border=\"1\" class=\"dataframe\">\n",
       "  <thead>\n",
       "    <tr style=\"text-align: right;\">\n",
       "      <th></th>\n",
       "      <th>payment_type_id</th>\n",
       "      <th>internet_service_type_id</th>\n",
       "      <th>contract_type_id</th>\n",
       "      <th>customer_id</th>\n",
       "      <th>gender</th>\n",
       "      <th>senior_citizen</th>\n",
       "      <th>partner</th>\n",
       "      <th>dependents</th>\n",
       "      <th>tenure</th>\n",
       "      <th>phone_service</th>\n",
       "      <th>...</th>\n",
       "      <th>tech_support</th>\n",
       "      <th>streaming_tv</th>\n",
       "      <th>streaming_movies</th>\n",
       "      <th>paperless_billing</th>\n",
       "      <th>monthly_charges</th>\n",
       "      <th>total_charges</th>\n",
       "      <th>churn</th>\n",
       "      <th>contract_type</th>\n",
       "      <th>internet_service_type</th>\n",
       "      <th>payment_type</th>\n",
       "    </tr>\n",
       "  </thead>\n",
       "  <tbody>\n",
       "    <tr>\n",
       "      <th>2048</th>\n",
       "      <td>3</td>\n",
       "      <td>1</td>\n",
       "      <td>3</td>\n",
       "      <td>4472-LVYGI</td>\n",
       "      <td>Female</td>\n",
       "      <td>0</td>\n",
       "      <td>Yes</td>\n",
       "      <td>Yes</td>\n",
       "      <td>0</td>\n",
       "      <td>No</td>\n",
       "      <td>...</td>\n",
       "      <td>Yes</td>\n",
       "      <td>Yes</td>\n",
       "      <td>No</td>\n",
       "      <td>Yes</td>\n",
       "      <td>52.55</td>\n",
       "      <td></td>\n",
       "      <td>No</td>\n",
       "      <td>Two year</td>\n",
       "      <td>DSL</td>\n",
       "      <td>Bank transfer (automatic)</td>\n",
       "    </tr>\n",
       "    <tr>\n",
       "      <th>6143</th>\n",
       "      <td>2</td>\n",
       "      <td>3</td>\n",
       "      <td>2</td>\n",
       "      <td>2923-ARZLG</td>\n",
       "      <td>Male</td>\n",
       "      <td>0</td>\n",
       "      <td>Yes</td>\n",
       "      <td>Yes</td>\n",
       "      <td>0</td>\n",
       "      <td>Yes</td>\n",
       "      <td>...</td>\n",
       "      <td>No internet service</td>\n",
       "      <td>No internet service</td>\n",
       "      <td>No internet service</td>\n",
       "      <td>Yes</td>\n",
       "      <td>19.70</td>\n",
       "      <td></td>\n",
       "      <td>No</td>\n",
       "      <td>One year</td>\n",
       "      <td>None</td>\n",
       "      <td>Mailed check</td>\n",
       "    </tr>\n",
       "    <tr>\n",
       "      <th>1949</th>\n",
       "      <td>3</td>\n",
       "      <td>1</td>\n",
       "      <td>3</td>\n",
       "      <td>2775-SEFEE</td>\n",
       "      <td>Male</td>\n",
       "      <td>0</td>\n",
       "      <td>No</td>\n",
       "      <td>Yes</td>\n",
       "      <td>0</td>\n",
       "      <td>Yes</td>\n",
       "      <td>...</td>\n",
       "      <td>Yes</td>\n",
       "      <td>No</td>\n",
       "      <td>No</td>\n",
       "      <td>Yes</td>\n",
       "      <td>61.90</td>\n",
       "      <td></td>\n",
       "      <td>No</td>\n",
       "      <td>Two year</td>\n",
       "      <td>DSL</td>\n",
       "      <td>Bank transfer (automatic)</td>\n",
       "    </tr>\n",
       "    <tr>\n",
       "      <th>1878</th>\n",
       "      <td>4</td>\n",
       "      <td>1</td>\n",
       "      <td>3</td>\n",
       "      <td>1371-DWPAZ</td>\n",
       "      <td>Female</td>\n",
       "      <td>0</td>\n",
       "      <td>Yes</td>\n",
       "      <td>Yes</td>\n",
       "      <td>0</td>\n",
       "      <td>No</td>\n",
       "      <td>...</td>\n",
       "      <td>Yes</td>\n",
       "      <td>Yes</td>\n",
       "      <td>No</td>\n",
       "      <td>No</td>\n",
       "      <td>56.05</td>\n",
       "      <td></td>\n",
       "      <td>No</td>\n",
       "      <td>Two year</td>\n",
       "      <td>DSL</td>\n",
       "      <td>Credit card (automatic)</td>\n",
       "    </tr>\n",
       "    <tr>\n",
       "      <th>6615</th>\n",
       "      <td>2</td>\n",
       "      <td>3</td>\n",
       "      <td>3</td>\n",
       "      <td>3213-VVOLG</td>\n",
       "      <td>Male</td>\n",
       "      <td>0</td>\n",
       "      <td>Yes</td>\n",
       "      <td>Yes</td>\n",
       "      <td>0</td>\n",
       "      <td>Yes</td>\n",
       "      <td>...</td>\n",
       "      <td>No internet service</td>\n",
       "      <td>No internet service</td>\n",
       "      <td>No internet service</td>\n",
       "      <td>No</td>\n",
       "      <td>25.35</td>\n",
       "      <td></td>\n",
       "      <td>No</td>\n",
       "      <td>Two year</td>\n",
       "      <td>None</td>\n",
       "      <td>Mailed check</td>\n",
       "    </tr>\n",
       "    <tr>\n",
       "      <th>...</th>\n",
       "      <td>...</td>\n",
       "      <td>...</td>\n",
       "      <td>...</td>\n",
       "      <td>...</td>\n",
       "      <td>...</td>\n",
       "      <td>...</td>\n",
       "      <td>...</td>\n",
       "      <td>...</td>\n",
       "      <td>...</td>\n",
       "      <td>...</td>\n",
       "      <td>...</td>\n",
       "      <td>...</td>\n",
       "      <td>...</td>\n",
       "      <td>...</td>\n",
       "      <td>...</td>\n",
       "      <td>...</td>\n",
       "      <td>...</td>\n",
       "      <td>...</td>\n",
       "      <td>...</td>\n",
       "      <td>...</td>\n",
       "      <td>...</td>\n",
       "    </tr>\n",
       "    <tr>\n",
       "      <th>6341</th>\n",
       "      <td>2</td>\n",
       "      <td>3</td>\n",
       "      <td>2</td>\n",
       "      <td>8249-THVEC</td>\n",
       "      <td>Male</td>\n",
       "      <td>0</td>\n",
       "      <td>Yes</td>\n",
       "      <td>Yes</td>\n",
       "      <td>51</td>\n",
       "      <td>Yes</td>\n",
       "      <td>...</td>\n",
       "      <td>No internet service</td>\n",
       "      <td>No internet service</td>\n",
       "      <td>No internet service</td>\n",
       "      <td>No</td>\n",
       "      <td>19.40</td>\n",
       "      <td>997.75</td>\n",
       "      <td>No</td>\n",
       "      <td>One year</td>\n",
       "      <td>None</td>\n",
       "      <td>Mailed check</td>\n",
       "    </tr>\n",
       "    <tr>\n",
       "      <th>6261</th>\n",
       "      <td>4</td>\n",
       "      <td>3</td>\n",
       "      <td>2</td>\n",
       "      <td>6051-PTVNS</td>\n",
       "      <td>Female</td>\n",
       "      <td>0</td>\n",
       "      <td>Yes</td>\n",
       "      <td>Yes</td>\n",
       "      <td>55</td>\n",
       "      <td>Yes</td>\n",
       "      <td>...</td>\n",
       "      <td>No internet service</td>\n",
       "      <td>No internet service</td>\n",
       "      <td>No internet service</td>\n",
       "      <td>No</td>\n",
       "      <td>19.15</td>\n",
       "      <td>998.1</td>\n",
       "      <td>No</td>\n",
       "      <td>One year</td>\n",
       "      <td>None</td>\n",
       "      <td>Credit card (automatic)</td>\n",
       "    </tr>\n",
       "    <tr>\n",
       "      <th>3702</th>\n",
       "      <td>2</td>\n",
       "      <td>2</td>\n",
       "      <td>1</td>\n",
       "      <td>5899-MQZZL</td>\n",
       "      <td>Female</td>\n",
       "      <td>0</td>\n",
       "      <td>No</td>\n",
       "      <td>No</td>\n",
       "      <td>13</td>\n",
       "      <td>Yes</td>\n",
       "      <td>...</td>\n",
       "      <td>No</td>\n",
       "      <td>No</td>\n",
       "      <td>No</td>\n",
       "      <td>Yes</td>\n",
       "      <td>75.00</td>\n",
       "      <td>999.45</td>\n",
       "      <td>Yes</td>\n",
       "      <td>Month-to-month</td>\n",
       "      <td>Fiber optic</td>\n",
       "      <td>Mailed check</td>\n",
       "    </tr>\n",
       "    <tr>\n",
       "      <th>3392</th>\n",
       "      <td>4</td>\n",
       "      <td>2</td>\n",
       "      <td>1</td>\n",
       "      <td>4536-PLEQY</td>\n",
       "      <td>Male</td>\n",
       "      <td>0</td>\n",
       "      <td>Yes</td>\n",
       "      <td>No</td>\n",
       "      <td>12</td>\n",
       "      <td>Yes</td>\n",
       "      <td>...</td>\n",
       "      <td>No</td>\n",
       "      <td>No</td>\n",
       "      <td>Yes</td>\n",
       "      <td>Yes</td>\n",
       "      <td>85.05</td>\n",
       "      <td>999.8</td>\n",
       "      <td>No</td>\n",
       "      <td>Month-to-month</td>\n",
       "      <td>Fiber optic</td>\n",
       "      <td>Credit card (automatic)</td>\n",
       "    </tr>\n",
       "    <tr>\n",
       "      <th>4349</th>\n",
       "      <td>1</td>\n",
       "      <td>2</td>\n",
       "      <td>1</td>\n",
       "      <td>9093-FPDLG</td>\n",
       "      <td>Female</td>\n",
       "      <td>0</td>\n",
       "      <td>No</td>\n",
       "      <td>No</td>\n",
       "      <td>11</td>\n",
       "      <td>Yes</td>\n",
       "      <td>...</td>\n",
       "      <td>Yes</td>\n",
       "      <td>No</td>\n",
       "      <td>Yes</td>\n",
       "      <td>Yes</td>\n",
       "      <td>94.20</td>\n",
       "      <td>999.9</td>\n",
       "      <td>No</td>\n",
       "      <td>Month-to-month</td>\n",
       "      <td>Fiber optic</td>\n",
       "      <td>Electronic check</td>\n",
       "    </tr>\n",
       "  </tbody>\n",
       "</table>\n",
       "<p>7043 rows × 24 columns</p>\n",
       "</div>"
      ],
      "text/plain": [
       "      payment_type_id  internet_service_type_id  contract_type_id customer_id  \\\n",
       "2048                3                         1                 3  4472-LVYGI   \n",
       "6143                2                         3                 2  2923-ARZLG   \n",
       "1949                3                         1                 3  2775-SEFEE   \n",
       "1878                4                         1                 3  1371-DWPAZ   \n",
       "6615                2                         3                 3  3213-VVOLG   \n",
       "...               ...                       ...               ...         ...   \n",
       "6341                2                         3                 2  8249-THVEC   \n",
       "6261                4                         3                 2  6051-PTVNS   \n",
       "3702                2                         2                 1  5899-MQZZL   \n",
       "3392                4                         2                 1  4536-PLEQY   \n",
       "4349                1                         2                 1  9093-FPDLG   \n",
       "\n",
       "      gender  senior_citizen partner dependents  tenure phone_service  ...  \\\n",
       "2048  Female               0     Yes        Yes       0            No  ...   \n",
       "6143    Male               0     Yes        Yes       0           Yes  ...   \n",
       "1949    Male               0      No        Yes       0           Yes  ...   \n",
       "1878  Female               0     Yes        Yes       0            No  ...   \n",
       "6615    Male               0     Yes        Yes       0           Yes  ...   \n",
       "...      ...             ...     ...        ...     ...           ...  ...   \n",
       "6341    Male               0     Yes        Yes      51           Yes  ...   \n",
       "6261  Female               0     Yes        Yes      55           Yes  ...   \n",
       "3702  Female               0      No         No      13           Yes  ...   \n",
       "3392    Male               0     Yes         No      12           Yes  ...   \n",
       "4349  Female               0      No         No      11           Yes  ...   \n",
       "\n",
       "             tech_support         streaming_tv     streaming_movies  \\\n",
       "2048                  Yes                  Yes                   No   \n",
       "6143  No internet service  No internet service  No internet service   \n",
       "1949                  Yes                   No                   No   \n",
       "1878                  Yes                  Yes                   No   \n",
       "6615  No internet service  No internet service  No internet service   \n",
       "...                   ...                  ...                  ...   \n",
       "6341  No internet service  No internet service  No internet service   \n",
       "6261  No internet service  No internet service  No internet service   \n",
       "3702                   No                   No                   No   \n",
       "3392                   No                   No                  Yes   \n",
       "4349                  Yes                   No                  Yes   \n",
       "\n",
       "     paperless_billing monthly_charges total_charges churn   contract_type  \\\n",
       "2048               Yes           52.55                  No        Two year   \n",
       "6143               Yes           19.70                  No        One year   \n",
       "1949               Yes           61.90                  No        Two year   \n",
       "1878                No           56.05                  No        Two year   \n",
       "6615                No           25.35                  No        Two year   \n",
       "...                ...             ...           ...   ...             ...   \n",
       "6341                No           19.40        997.75    No        One year   \n",
       "6261                No           19.15         998.1    No        One year   \n",
       "3702               Yes           75.00        999.45   Yes  Month-to-month   \n",
       "3392               Yes           85.05         999.8    No  Month-to-month   \n",
       "4349               Yes           94.20         999.9    No  Month-to-month   \n",
       "\n",
       "      internet_service_type               payment_type  \n",
       "2048                    DSL  Bank transfer (automatic)  \n",
       "6143                   None               Mailed check  \n",
       "1949                    DSL  Bank transfer (automatic)  \n",
       "1878                    DSL    Credit card (automatic)  \n",
       "6615                   None               Mailed check  \n",
       "...                     ...                        ...  \n",
       "6341                   None               Mailed check  \n",
       "6261                   None    Credit card (automatic)  \n",
       "3702            Fiber optic               Mailed check  \n",
       "3392            Fiber optic    Credit card (automatic)  \n",
       "4349            Fiber optic           Electronic check  \n",
       "\n",
       "[7043 rows x 24 columns]"
      ]
     },
     "execution_count": 7,
     "metadata": {},
     "output_type": "execute_result"
    }
   ],
   "source": [
    "df.sort_values(by = 'total_charges')"
   ]
  },
  {
   "cell_type": "markdown",
   "metadata": {},
   "source": [
    "### Looks like there are 11 rows with no total_charges_values.  All these 11 customers have tenure of zero. We decided to drop these 11 datapoints since we have fairly big dataset to work with. "
   ]
  },
  {
   "cell_type": "markdown",
   "metadata": {},
   "source": [
    "### Wrangle the dataset and split it into train, validate and test. The wrangle module (wrangle_telco.py ) does the following:\n",
    "\n",
    "##### Replace spaces with 'NaN'.\n",
    "##### Drop rows with those NaN values (total of 11 rows)\n",
    "##### Changes total_charges column values from 'object' to 'float'\n",
    "##### Changes 'Yes' to 1 and 'No' to 0. \n",
    "##### creates a new column 'tenure years' using 'tenure\n",
    "\n",
    "***"
   ]
  },
  {
   "cell_type": "code",
   "execution_count": 8,
   "metadata": {},
   "outputs": [],
   "source": [
    "#using wrangle_telco.py file to wrangle and split the data\n",
    "df = wrangle.wrangle_telco(df)"
   ]
  },
  {
   "cell_type": "code",
   "execution_count": 9,
   "metadata": {},
   "outputs": [],
   "source": [
    "# Split data into train and test (80:20 split).Random state is set to 42 \n",
    "train, test = sklearn.model_selection.train_test_split(df, train_size=.8, random_state=42)\n",
    "\n",
    "#The train dataset is split further (80:20) into train and validate. Random state is set to 42 \n",
    "train, validate = sklearn.model_selection.train_test_split(train, train_size=.8, random_state=42)"
   ]
  },
  {
   "cell_type": "code",
   "execution_count": 10,
   "metadata": {},
   "outputs": [
    {
     "data": {
      "text/plain": [
       "((4500, 25), (1125, 25), (1407, 25))"
      ]
     },
     "execution_count": 10,
     "metadata": {},
     "output_type": "execute_result"
    }
   ],
   "source": [
    "# confirm the shape of train, validate and test dataset\n",
    "train.shape, validate.shape, test.shape"
   ]
  },
  {
   "cell_type": "markdown",
   "metadata": {},
   "source": [
    "# We will start with exploratory data analysis (EDA) below on the train dataset"
   ]
  },
  {
   "cell_type": "code",
   "execution_count": 11,
   "metadata": {},
   "outputs": [
    {
     "data": {
      "text/html": [
       "<div>\n",
       "<style scoped>\n",
       "    .dataframe tbody tr th:only-of-type {\n",
       "        vertical-align: middle;\n",
       "    }\n",
       "\n",
       "    .dataframe tbody tr th {\n",
       "        vertical-align: top;\n",
       "    }\n",
       "\n",
       "    .dataframe thead th {\n",
       "        text-align: right;\n",
       "    }\n",
       "</style>\n",
       "<table border=\"1\" class=\"dataframe\">\n",
       "  <thead>\n",
       "    <tr style=\"text-align: right;\">\n",
       "      <th></th>\n",
       "      <th>payment_type_id</th>\n",
       "      <th>internet_service_type_id</th>\n",
       "      <th>contract_type_id</th>\n",
       "      <th>customer_id</th>\n",
       "      <th>gender</th>\n",
       "      <th>senior_citizen</th>\n",
       "      <th>partner</th>\n",
       "      <th>dependents</th>\n",
       "      <th>tenure</th>\n",
       "      <th>phone_service</th>\n",
       "      <th>...</th>\n",
       "      <th>streaming_tv</th>\n",
       "      <th>streaming_movies</th>\n",
       "      <th>paperless_billing</th>\n",
       "      <th>monthly_charges</th>\n",
       "      <th>total_charges</th>\n",
       "      <th>churn</th>\n",
       "      <th>contract_type</th>\n",
       "      <th>internet_service_type</th>\n",
       "      <th>payment_type</th>\n",
       "      <th>tenure_years</th>\n",
       "    </tr>\n",
       "  </thead>\n",
       "  <tbody>\n",
       "    <tr>\n",
       "      <th>5217</th>\n",
       "      <td>4</td>\n",
       "      <td>2</td>\n",
       "      <td>3</td>\n",
       "      <td>3134-DSHVC</td>\n",
       "      <td>Female</td>\n",
       "      <td>0</td>\n",
       "      <td>0</td>\n",
       "      <td>0</td>\n",
       "      <td>63</td>\n",
       "      <td>1</td>\n",
       "      <td>...</td>\n",
       "      <td>1</td>\n",
       "      <td>0</td>\n",
       "      <td>0</td>\n",
       "      <td>98.0</td>\n",
       "      <td>6218.45</td>\n",
       "      <td>0</td>\n",
       "      <td>Two year</td>\n",
       "      <td>Fiber optic</td>\n",
       "      <td>Credit card (automatic)</td>\n",
       "      <td>5.0</td>\n",
       "    </tr>\n",
       "    <tr>\n",
       "      <th>5496</th>\n",
       "      <td>3</td>\n",
       "      <td>2</td>\n",
       "      <td>3</td>\n",
       "      <td>9586-JGQKH</td>\n",
       "      <td>Female</td>\n",
       "      <td>0</td>\n",
       "      <td>1</td>\n",
       "      <td>0</td>\n",
       "      <td>64</td>\n",
       "      <td>1</td>\n",
       "      <td>...</td>\n",
       "      <td>1</td>\n",
       "      <td>1</td>\n",
       "      <td>1</td>\n",
       "      <td>105.4</td>\n",
       "      <td>6794.75</td>\n",
       "      <td>0</td>\n",
       "      <td>Two year</td>\n",
       "      <td>Fiber optic</td>\n",
       "      <td>Bank transfer (automatic)</td>\n",
       "      <td>5.0</td>\n",
       "    </tr>\n",
       "  </tbody>\n",
       "</table>\n",
       "<p>2 rows × 25 columns</p>\n",
       "</div>"
      ],
      "text/plain": [
       "      payment_type_id  internet_service_type_id  contract_type_id customer_id  \\\n",
       "5217                4                         2                 3  3134-DSHVC   \n",
       "5496                3                         2                 3  9586-JGQKH   \n",
       "\n",
       "      gender  senior_citizen  partner  dependents  tenure  phone_service  ...  \\\n",
       "5217  Female               0        0           0      63              1  ...   \n",
       "5496  Female               0        1           0      64              1  ...   \n",
       "\n",
       "     streaming_tv  streaming_movies  paperless_billing  monthly_charges  \\\n",
       "5217            1                 0                  0             98.0   \n",
       "5496            1                 1                  1            105.4   \n",
       "\n",
       "      total_charges  churn  contract_type  internet_service_type  \\\n",
       "5217        6218.45      0       Two year            Fiber optic   \n",
       "5496        6794.75      0       Two year            Fiber optic   \n",
       "\n",
       "                   payment_type  tenure_years  \n",
       "5217    Credit card (automatic)           5.0  \n",
       "5496  Bank transfer (automatic)           5.0  \n",
       "\n",
       "[2 rows x 25 columns]"
      ]
     },
     "execution_count": 11,
     "metadata": {},
     "output_type": "execute_result"
    }
   ],
   "source": [
    "train.head(2)"
   ]
  },
  {
   "cell_type": "code",
   "execution_count": 12,
   "metadata": {},
   "outputs": [
    {
     "data": {
      "text/plain": [
       "0    3289\n",
       "1    1211\n",
       "Name: churn, dtype: int64"
      ]
     },
     "execution_count": 12,
     "metadata": {},
     "output_type": "execute_result"
    }
   ],
   "source": [
    "train.churn.value_counts()"
   ]
  },
  {
   "cell_type": "markdown",
   "metadata": {},
   "source": [
    "### This seems like a 'unbalanced dataset' where 74% are non-churners and 26% as churners\n",
    "***"
   ]
  },
  {
   "cell_type": "markdown",
   "metadata": {},
   "source": [
    "### Let's start with pair plot for continueous variables: tenure, total charges and monthly charges"
   ]
  },
  {
   "cell_type": "code",
   "execution_count": 13,
   "metadata": {},
   "outputs": [],
   "source": [
    "# create a dataset of continuous variable and 'churn'for 'hue'\n",
    "train_cont = train[['tenure', 'total_charges', 'monthly_charges','churn']]"
   ]
  },
  {
   "cell_type": "code",
   "execution_count": 14,
   "metadata": {},
   "outputs": [
    {
     "data": {
      "text/plain": [
       "<seaborn.axisgrid.PairGrid at 0x123a18390>"
      ]
     },
     "execution_count": 14,
     "metadata": {},
     "output_type": "execute_result"
    },
    {
     "data": {
      "image/png": "[encoded data removed]",
      "text/plain": [
       "<Figure size 585.725x540 with 12 Axes>"
      ]
     },
     "metadata": {
      "needs_background": "light"
     },
     "output_type": "display_data"
    }
   ],
   "source": [
    "sns.pairplot(train_cont, vars = train_cont.columns[:-1], hue='churn', plot_kws=dict(alpha=.4, edgecolor='none'))"
   ]
  },
  {
   "cell_type": "markdown",
   "metadata": {},
   "source": [
    "#### The pairplot above implies:\n",
    "1. Churners seems to have much shorter tenure compared to non-churners\n",
    "2. Churners might be paying more (or using higher priced services) than non-churners\n",
    "3. Monthly charges for churners are higher (possibly due to subscription) to higher priced services compared to non-churners"
   ]
  },
  {
   "cell_type": "markdown",
   "metadata": {},
   "source": [
    "### Lets do a statistical test to see if monthly charges (contineous variable) are different between churners/non-churners (categorical variable). We can do a two sample t-test.\n",
    "\n",
    "#### $H_0$: There is no difference in monthly charges between churners and non-churners\n",
    "#### $H_a$: There is difference in monthly charges between churners and non-churners"
   ]
  },
  {
   "cell_type": "code",
   "execution_count": 15,
   "metadata": {},
   "outputs": [],
   "source": [
    "x1 = train[train.churn ==1].monthly_charges\n",
    "x2 = train[train.churn ==0].monthly_charges"
   ]
  },
  {
   "cell_type": "code",
   "execution_count": 16,
   "metadata": {},
   "outputs": [
    {
     "data": {
      "text/plain": [
       "Ttest_indResult(statistic=12.997107440581107, pvalue=6.081507718988995e-38)"
      ]
     },
     "execution_count": 16,
     "metadata": {},
     "output_type": "execute_result"
    }
   ],
   "source": [
    "stats.ttest_ind(x1, x2)"
   ]
  },
  {
   "cell_type": "markdown",
   "metadata": {},
   "source": [
    "### The p value is almost zero. This means that we can reject our null hypothesis which means that there is statistical difference between monthly charges for churners and non-churners\n",
    "***"
   ]
  },
  {
   "cell_type": "markdown",
   "metadata": {},
   "source": [
    "### Lets explore if there is any gender relationship with churners"
   ]
  },
  {
   "cell_type": "code",
   "execution_count": 137,
   "metadata": {},
   "outputs": [
    {
     "data": {
      "text/plain": [
       "(array([0, 1]), <a list of 2 Text major ticklabel objects>)"
      ]
     },
     "execution_count": 137,
     "metadata": {},
     "output_type": "execute_result"
    },
    {
     "data": {
      "image/png": "[encoded data removed]",
      "text/plain": [
       "<Figure size 432x288 with 1 Axes>"
      ]
     },
     "metadata": {},
     "output_type": "display_data"
    }
   ],
   "source": [
    "train_gender = pd.crosstab(train.gender, train.churn)\n",
    "train_gender.plot(kind='bar', stacked=True)\n",
    "plt.ylabel('Number of customer')\n",
    "plt.xticks(rotation=0)"
   ]
  },
  {
   "cell_type": "markdown",
   "metadata": {},
   "source": [
    "#### It seems like the rate of churn is same between male and females\n",
    "***\n"
   ]
  },
  {
   "cell_type": "code",
   "execution_count": 18,
   "metadata": {},
   "outputs": [
    {
     "data": {
      "text/plain": [
       "<matplotlib.axes._subplots.AxesSubplot at 0x1249919d0>"
      ]
     },
     "execution_count": 18,
     "metadata": {},
     "output_type": "execute_result"
    },
    {
     "data": {
      "image/png": "[encoded data removed]",
      "text/plain": [
       "<Figure size 432x288 with 2 Axes>"
      ]
     },
     "metadata": {
      "needs_background": "light"
     },
     "output_type": "display_data"
    }
   ],
   "source": [
    "# Lets do a heatmap \n",
    "sns.heatmap(train.corr(), cmap='Blues')"
   ]
  },
  {
   "cell_type": "markdown",
   "metadata": {},
   "source": [
    "### This chart looks too busy. We can just look at table of correlation instead below"
   ]
  },
  {
   "cell_type": "code",
   "execution_count": 19,
   "metadata": {},
   "outputs": [
    {
     "data": {
      "text/html": [
       "<div>\n",
       "<style scoped>\n",
       "    .dataframe tbody tr th:only-of-type {\n",
       "        vertical-align: middle;\n",
       "    }\n",
       "\n",
       "    .dataframe tbody tr th {\n",
       "        vertical-align: top;\n",
       "    }\n",
       "\n",
       "    .dataframe thead th {\n",
       "        text-align: right;\n",
       "    }\n",
       "</style>\n",
       "<table border=\"1\" class=\"dataframe\">\n",
       "  <thead>\n",
       "    <tr style=\"text-align: right;\">\n",
       "      <th></th>\n",
       "      <th>payment_type_id</th>\n",
       "      <th>internet_service_type_id</th>\n",
       "      <th>contract_type_id</th>\n",
       "      <th>senior_citizen</th>\n",
       "      <th>partner</th>\n",
       "      <th>dependents</th>\n",
       "      <th>tenure</th>\n",
       "      <th>phone_service</th>\n",
       "      <th>online_security</th>\n",
       "      <th>online_backup</th>\n",
       "      <th>device_protection</th>\n",
       "      <th>tech_support</th>\n",
       "      <th>streaming_tv</th>\n",
       "      <th>streaming_movies</th>\n",
       "      <th>paperless_billing</th>\n",
       "      <th>monthly_charges</th>\n",
       "      <th>total_charges</th>\n",
       "      <th>churn</th>\n",
       "      <th>tenure_years</th>\n",
       "    </tr>\n",
       "  </thead>\n",
       "  <tbody>\n",
       "    <tr>\n",
       "      <th>payment_type_id</th>\n",
       "      <td>1.000000</td>\n",
       "      <td>0.010196</td>\n",
       "      <td>0.355552</td>\n",
       "      <td>-0.103203</td>\n",
       "      <td>0.123602</td>\n",
       "      <td>0.131392</td>\n",
       "      <td>0.331152</td>\n",
       "      <td>-0.012785</td>\n",
       "      <td>0.207083</td>\n",
       "      <td>0.187786</td>\n",
       "      <td>0.184068</td>\n",
       "      <td>0.212969</td>\n",
       "      <td>0.107194</td>\n",
       "      <td>0.116705</td>\n",
       "      <td>-0.094247</td>\n",
       "      <td>-0.083413</td>\n",
       "      <td>0.207307</td>\n",
       "      <td>-0.266530</td>\n",
       "      <td>0.327591</td>\n",
       "    </tr>\n",
       "    <tr>\n",
       "      <th>internet_service_type_id</th>\n",
       "      <td>0.010196</td>\n",
       "      <td>1.000000</td>\n",
       "      <td>0.109694</td>\n",
       "      <td>-0.029249</td>\n",
       "      <td>0.004398</td>\n",
       "      <td>0.051347</td>\n",
       "      <td>-0.017016</td>\n",
       "      <td>0.386718</td>\n",
       "      <td>0.621092</td>\n",
       "      <td>0.666058</td>\n",
       "      <td>0.667515</td>\n",
       "      <td>0.618590</td>\n",
       "      <td>0.714865</td>\n",
       "      <td>0.709063</td>\n",
       "      <td>-0.148740</td>\n",
       "      <td>-0.329540</td>\n",
       "      <td>-0.177037</td>\n",
       "      <td>-0.054453</td>\n",
       "      <td>-0.018147</td>\n",
       "    </tr>\n",
       "    <tr>\n",
       "      <th>contract_type_id</th>\n",
       "      <td>0.355552</td>\n",
       "      <td>0.109694</td>\n",
       "      <td>1.000000</td>\n",
       "      <td>-0.155734</td>\n",
       "      <td>0.285199</td>\n",
       "      <td>0.235638</td>\n",
       "      <td>0.675999</td>\n",
       "      <td>-0.009143</td>\n",
       "      <td>0.397776</td>\n",
       "      <td>0.362559</td>\n",
       "      <td>0.400807</td>\n",
       "      <td>0.432083</td>\n",
       "      <td>0.335675</td>\n",
       "      <td>0.349069</td>\n",
       "      <td>-0.167396</td>\n",
       "      <td>-0.089372</td>\n",
       "      <td>0.440414</td>\n",
       "      <td>-0.403699</td>\n",
       "      <td>0.674348</td>\n",
       "    </tr>\n",
       "    <tr>\n",
       "      <th>senior_citizen</th>\n",
       "      <td>-0.103203</td>\n",
       "      <td>-0.029249</td>\n",
       "      <td>-0.155734</td>\n",
       "      <td>1.000000</td>\n",
       "      <td>0.018139</td>\n",
       "      <td>-0.209509</td>\n",
       "      <td>0.009426</td>\n",
       "      <td>0.027526</td>\n",
       "      <td>-0.215005</td>\n",
       "      <td>-0.162786</td>\n",
       "      <td>-0.154695</td>\n",
       "      <td>-0.227421</td>\n",
       "      <td>-0.133915</td>\n",
       "      <td>-0.130352</td>\n",
       "      <td>0.157127</td>\n",
       "      <td>0.228021</td>\n",
       "      <td>0.103035</td>\n",
       "      <td>0.149408</td>\n",
       "      <td>0.006921</td>\n",
       "    </tr>\n",
       "    <tr>\n",
       "      <th>partner</th>\n",
       "      <td>0.123602</td>\n",
       "      <td>0.004398</td>\n",
       "      <td>0.285199</td>\n",
       "      <td>0.018139</td>\n",
       "      <td>1.000000</td>\n",
       "      <td>0.448175</td>\n",
       "      <td>0.375354</td>\n",
       "      <td>0.019449</td>\n",
       "      <td>0.073268</td>\n",
       "      <td>0.088690</td>\n",
       "      <td>0.094374</td>\n",
       "      <td>0.068276</td>\n",
       "      <td>0.073090</td>\n",
       "      <td>0.073642</td>\n",
       "      <td>-0.007685</td>\n",
       "      <td>0.089039</td>\n",
       "      <td>0.307353</td>\n",
       "      <td>-0.169257</td>\n",
       "      <td>0.367897</td>\n",
       "    </tr>\n",
       "    <tr>\n",
       "      <th>dependents</th>\n",
       "      <td>0.131392</td>\n",
       "      <td>0.051347</td>\n",
       "      <td>0.235638</td>\n",
       "      <td>-0.209509</td>\n",
       "      <td>0.448175</td>\n",
       "      <td>1.000000</td>\n",
       "      <td>0.165728</td>\n",
       "      <td>-0.000516</td>\n",
       "      <td>0.186705</td>\n",
       "      <td>0.165236</td>\n",
       "      <td>0.159343</td>\n",
       "      <td>0.180574</td>\n",
       "      <td>0.136003</td>\n",
       "      <td>0.124239</td>\n",
       "      <td>-0.112298</td>\n",
       "      <td>-0.119796</td>\n",
       "      <td>0.064202</td>\n",
       "      <td>-0.171815</td>\n",
       "      <td>0.161974</td>\n",
       "    </tr>\n",
       "    <tr>\n",
       "      <th>tenure</th>\n",
       "      <td>0.331152</td>\n",
       "      <td>-0.017016</td>\n",
       "      <td>0.675999</td>\n",
       "      <td>0.009426</td>\n",
       "      <td>0.375354</td>\n",
       "      <td>0.165728</td>\n",
       "      <td>1.000000</td>\n",
       "      <td>-0.002991</td>\n",
       "      <td>0.154416</td>\n",
       "      <td>0.192637</td>\n",
       "      <td>0.195737</td>\n",
       "      <td>0.164005</td>\n",
       "      <td>0.144816</td>\n",
       "      <td>0.155948</td>\n",
       "      <td>0.006441</td>\n",
       "      <td>0.230045</td>\n",
       "      <td>0.817362</td>\n",
       "      <td>-0.364808</td>\n",
       "      <td>0.988998</td>\n",
       "    </tr>\n",
       "    <tr>\n",
       "      <th>phone_service</th>\n",
       "      <td>-0.012785</td>\n",
       "      <td>0.386718</td>\n",
       "      <td>-0.009143</td>\n",
       "      <td>0.027526</td>\n",
       "      <td>0.019449</td>\n",
       "      <td>-0.000516</td>\n",
       "      <td>-0.002991</td>\n",
       "      <td>1.000000</td>\n",
       "      <td>0.131856</td>\n",
       "      <td>0.150252</td>\n",
       "      <td>0.134244</td>\n",
       "      <td>0.122561</td>\n",
       "      <td>0.175114</td>\n",
       "      <td>0.164008</td>\n",
       "      <td>0.034202</td>\n",
       "      <td>0.243624</td>\n",
       "      <td>0.104611</td>\n",
       "      <td>0.017386</td>\n",
       "      <td>-0.005153</td>\n",
       "    </tr>\n",
       "    <tr>\n",
       "      <th>online_security</th>\n",
       "      <td>0.207083</td>\n",
       "      <td>0.621092</td>\n",
       "      <td>0.397776</td>\n",
       "      <td>-0.215005</td>\n",
       "      <td>0.073268</td>\n",
       "      <td>0.186705</td>\n",
       "      <td>0.154416</td>\n",
       "      <td>0.131856</td>\n",
       "      <td>1.000000</td>\n",
       "      <td>0.758825</td>\n",
       "      <td>0.758639</td>\n",
       "      <td>0.800254</td>\n",
       "      <td>0.705387</td>\n",
       "      <td>0.716494</td>\n",
       "      <td>-0.342207</td>\n",
       "      <td>-0.622544</td>\n",
       "      <td>-0.158139</td>\n",
       "      <td>-0.327007</td>\n",
       "      <td>0.154427</td>\n",
       "    </tr>\n",
       "    <tr>\n",
       "      <th>online_backup</th>\n",
       "      <td>0.187786</td>\n",
       "      <td>0.666058</td>\n",
       "      <td>0.362559</td>\n",
       "      <td>-0.162786</td>\n",
       "      <td>0.088690</td>\n",
       "      <td>0.165236</td>\n",
       "      <td>0.192637</td>\n",
       "      <td>0.150252</td>\n",
       "      <td>0.758825</td>\n",
       "      <td>1.000000</td>\n",
       "      <td>0.746879</td>\n",
       "      <td>0.760471</td>\n",
       "      <td>0.724159</td>\n",
       "      <td>0.717200</td>\n",
       "      <td>-0.270229</td>\n",
       "      <td>-0.547190</td>\n",
       "      <td>-0.088103</td>\n",
       "      <td>-0.293977</td>\n",
       "      <td>0.193743</td>\n",
       "    </tr>\n",
       "    <tr>\n",
       "      <th>device_protection</th>\n",
       "      <td>0.184068</td>\n",
       "      <td>0.667515</td>\n",
       "      <td>0.400807</td>\n",
       "      <td>-0.154695</td>\n",
       "      <td>0.094374</td>\n",
       "      <td>0.159343</td>\n",
       "      <td>0.195737</td>\n",
       "      <td>0.134244</td>\n",
       "      <td>0.758639</td>\n",
       "      <td>0.746879</td>\n",
       "      <td>1.000000</td>\n",
       "      <td>0.772645</td>\n",
       "      <td>0.768175</td>\n",
       "      <td>0.775428</td>\n",
       "      <td>-0.287227</td>\n",
       "      <td>-0.520546</td>\n",
       "      <td>-0.077895</td>\n",
       "      <td>-0.289563</td>\n",
       "      <td>0.195162</td>\n",
       "    </tr>\n",
       "    <tr>\n",
       "      <th>tech_support</th>\n",
       "      <td>0.212969</td>\n",
       "      <td>0.618590</td>\n",
       "      <td>0.432083</td>\n",
       "      <td>-0.227421</td>\n",
       "      <td>0.068276</td>\n",
       "      <td>0.180574</td>\n",
       "      <td>0.164005</td>\n",
       "      <td>0.122561</td>\n",
       "      <td>0.800254</td>\n",
       "      <td>0.760471</td>\n",
       "      <td>0.772645</td>\n",
       "      <td>1.000000</td>\n",
       "      <td>0.745152</td>\n",
       "      <td>0.747252</td>\n",
       "      <td>-0.324284</td>\n",
       "      <td>-0.600891</td>\n",
       "      <td>-0.137075</td>\n",
       "      <td>-0.333430</td>\n",
       "      <td>0.163388</td>\n",
       "    </tr>\n",
       "    <tr>\n",
       "      <th>streaming_tv</th>\n",
       "      <td>0.107194</td>\n",
       "      <td>0.714865</td>\n",
       "      <td>0.335675</td>\n",
       "      <td>-0.133915</td>\n",
       "      <td>0.073090</td>\n",
       "      <td>0.136003</td>\n",
       "      <td>0.144816</td>\n",
       "      <td>0.175114</td>\n",
       "      <td>0.705387</td>\n",
       "      <td>0.724159</td>\n",
       "      <td>0.768175</td>\n",
       "      <td>0.745152</td>\n",
       "      <td>1.000000</td>\n",
       "      <td>0.817436</td>\n",
       "      <td>-0.216057</td>\n",
       "      <td>-0.427035</td>\n",
       "      <td>-0.080931</td>\n",
       "      <td>-0.209256</td>\n",
       "      <td>0.142052</td>\n",
       "    </tr>\n",
       "    <tr>\n",
       "      <th>streaming_movies</th>\n",
       "      <td>0.116705</td>\n",
       "      <td>0.709063</td>\n",
       "      <td>0.349069</td>\n",
       "      <td>-0.130352</td>\n",
       "      <td>0.073642</td>\n",
       "      <td>0.124239</td>\n",
       "      <td>0.155948</td>\n",
       "      <td>0.164008</td>\n",
       "      <td>0.716494</td>\n",
       "      <td>0.717200</td>\n",
       "      <td>0.775428</td>\n",
       "      <td>0.747252</td>\n",
       "      <td>0.817436</td>\n",
       "      <td>1.000000</td>\n",
       "      <td>-0.229393</td>\n",
       "      <td>-0.428848</td>\n",
       "      <td>-0.072716</td>\n",
       "      <td>-0.211497</td>\n",
       "      <td>0.154944</td>\n",
       "    </tr>\n",
       "    <tr>\n",
       "      <th>paperless_billing</th>\n",
       "      <td>-0.094247</td>\n",
       "      <td>-0.148740</td>\n",
       "      <td>-0.167396</td>\n",
       "      <td>0.157127</td>\n",
       "      <td>-0.007685</td>\n",
       "      <td>-0.112298</td>\n",
       "      <td>0.006441</td>\n",
       "      <td>0.034202</td>\n",
       "      <td>-0.342207</td>\n",
       "      <td>-0.270229</td>\n",
       "      <td>-0.287227</td>\n",
       "      <td>-0.324284</td>\n",
       "      <td>-0.216057</td>\n",
       "      <td>-0.229393</td>\n",
       "      <td>1.000000</td>\n",
       "      <td>0.366440</td>\n",
       "      <td>0.168557</td>\n",
       "      <td>0.192453</td>\n",
       "      <td>0.005498</td>\n",
       "    </tr>\n",
       "    <tr>\n",
       "      <th>monthly_charges</th>\n",
       "      <td>-0.083413</td>\n",
       "      <td>-0.329540</td>\n",
       "      <td>-0.089372</td>\n",
       "      <td>0.228021</td>\n",
       "      <td>0.089039</td>\n",
       "      <td>-0.119796</td>\n",
       "      <td>0.230045</td>\n",
       "      <td>0.243624</td>\n",
       "      <td>-0.622544</td>\n",
       "      <td>-0.547190</td>\n",
       "      <td>-0.520546</td>\n",
       "      <td>-0.600891</td>\n",
       "      <td>-0.427035</td>\n",
       "      <td>-0.428848</td>\n",
       "      <td>0.366440</td>\n",
       "      <td>1.000000</td>\n",
       "      <td>0.648979</td>\n",
       "      <td>0.190253</td>\n",
       "      <td>0.225688</td>\n",
       "    </tr>\n",
       "    <tr>\n",
       "      <th>total_charges</th>\n",
       "      <td>0.207307</td>\n",
       "      <td>-0.177037</td>\n",
       "      <td>0.440414</td>\n",
       "      <td>0.103035</td>\n",
       "      <td>0.307353</td>\n",
       "      <td>0.064202</td>\n",
       "      <td>0.817362</td>\n",
       "      <td>0.104611</td>\n",
       "      <td>-0.158139</td>\n",
       "      <td>-0.088103</td>\n",
       "      <td>-0.077895</td>\n",
       "      <td>-0.137075</td>\n",
       "      <td>-0.080931</td>\n",
       "      <td>-0.072716</td>\n",
       "      <td>0.168557</td>\n",
       "      <td>0.648979</td>\n",
       "      <td>1.000000</td>\n",
       "      <td>-0.207336</td>\n",
       "      <td>0.811934</td>\n",
       "    </tr>\n",
       "    <tr>\n",
       "      <th>churn</th>\n",
       "      <td>-0.266530</td>\n",
       "      <td>-0.054453</td>\n",
       "      <td>-0.403699</td>\n",
       "      <td>0.149408</td>\n",
       "      <td>-0.169257</td>\n",
       "      <td>-0.171815</td>\n",
       "      <td>-0.364808</td>\n",
       "      <td>0.017386</td>\n",
       "      <td>-0.327007</td>\n",
       "      <td>-0.293977</td>\n",
       "      <td>-0.289563</td>\n",
       "      <td>-0.333430</td>\n",
       "      <td>-0.209256</td>\n",
       "      <td>-0.211497</td>\n",
       "      <td>0.192453</td>\n",
       "      <td>0.190253</td>\n",
       "      <td>-0.207336</td>\n",
       "      <td>1.000000</td>\n",
       "      <td>-0.356645</td>\n",
       "    </tr>\n",
       "    <tr>\n",
       "      <th>tenure_years</th>\n",
       "      <td>0.327591</td>\n",
       "      <td>-0.018147</td>\n",
       "      <td>0.674348</td>\n",
       "      <td>0.006921</td>\n",
       "      <td>0.367897</td>\n",
       "      <td>0.161974</td>\n",
       "      <td>0.988998</td>\n",
       "      <td>-0.005153</td>\n",
       "      <td>0.154427</td>\n",
       "      <td>0.193743</td>\n",
       "      <td>0.195162</td>\n",
       "      <td>0.163388</td>\n",
       "      <td>0.142052</td>\n",
       "      <td>0.154944</td>\n",
       "      <td>0.005498</td>\n",
       "      <td>0.225688</td>\n",
       "      <td>0.811934</td>\n",
       "      <td>-0.356645</td>\n",
       "      <td>1.000000</td>\n",
       "    </tr>\n",
       "  </tbody>\n",
       "</table>\n",
       "</div>"
      ],
      "text/plain": [
       "                          payment_type_id  internet_service_type_id  \\\n",
       "payment_type_id                  1.000000                  0.010196   \n",
       "internet_service_type_id         0.010196                  1.000000   \n",
       "contract_type_id                 0.355552                  0.109694   \n",
       "senior_citizen                  -0.103203                 -0.029249   \n",
       "partner                          0.123602                  0.004398   \n",
       "dependents                       0.131392                  0.051347   \n",
       "tenure                           0.331152                 -0.017016   \n",
       "phone_service                   -0.012785                  0.386718   \n",
       "online_security                  0.207083                  0.621092   \n",
       "online_backup                    0.187786                  0.666058   \n",
       "device_protection                0.184068                  0.667515   \n",
       "tech_support                     0.212969                  0.618590   \n",
       "streaming_tv                     0.107194                  0.714865   \n",
       "streaming_movies                 0.116705                  0.709063   \n",
       "paperless_billing               -0.094247                 -0.148740   \n",
       "monthly_charges                 -0.083413                 -0.329540   \n",
       "total_charges                    0.207307                 -0.177037   \n",
       "churn                           -0.266530                 -0.054453   \n",
       "tenure_years                     0.327591                 -0.018147   \n",
       "\n",
       "                          contract_type_id  senior_citizen   partner  \\\n",
       "payment_type_id                   0.355552       -0.103203  0.123602   \n",
       "internet_service_type_id          0.109694       -0.029249  0.004398   \n",
       "contract_type_id                  1.000000       -0.155734  0.285199   \n",
       "senior_citizen                   -0.155734        1.000000  0.018139   \n",
       "partner                           0.285199        0.018139  1.000000   \n",
       "dependents                        0.235638       -0.209509  0.448175   \n",
       "tenure                            0.675999        0.009426  0.375354   \n",
       "phone_service                    -0.009143        0.027526  0.019449   \n",
       "online_security                   0.397776       -0.215005  0.073268   \n",
       "online_backup                     0.362559       -0.162786  0.088690   \n",
       "device_protection                 0.400807       -0.154695  0.094374   \n",
       "tech_support                      0.432083       -0.227421  0.068276   \n",
       "streaming_tv                      0.335675       -0.133915  0.073090   \n",
       "streaming_movies                  0.349069       -0.130352  0.073642   \n",
       "paperless_billing                -0.167396        0.157127 -0.007685   \n",
       "monthly_charges                  -0.089372        0.228021  0.089039   \n",
       "total_charges                     0.440414        0.103035  0.307353   \n",
       "churn                            -0.403699        0.149408 -0.169257   \n",
       "tenure_years                      0.674348        0.006921  0.367897   \n",
       "\n",
       "                          dependents    tenure  phone_service  \\\n",
       "payment_type_id             0.131392  0.331152      -0.012785   \n",
       "internet_service_type_id    0.051347 -0.017016       0.386718   \n",
       "contract_type_id            0.235638  0.675999      -0.009143   \n",
       "senior_citizen             -0.209509  0.009426       0.027526   \n",
       "partner                     0.448175  0.375354       0.019449   \n",
       "dependents                  1.000000  0.165728      -0.000516   \n",
       "tenure                      0.165728  1.000000      -0.002991   \n",
       "phone_service              -0.000516 -0.002991       1.000000   \n",
       "online_security             0.186705  0.154416       0.131856   \n",
       "online_backup               0.165236  0.192637       0.150252   \n",
       "device_protection           0.159343  0.195737       0.134244   \n",
       "tech_support                0.180574  0.164005       0.122561   \n",
       "streaming_tv                0.136003  0.144816       0.175114   \n",
       "streaming_movies            0.124239  0.155948       0.164008   \n",
       "paperless_billing          -0.112298  0.006441       0.034202   \n",
       "monthly_charges            -0.119796  0.230045       0.243624   \n",
       "total_charges               0.064202  0.817362       0.104611   \n",
       "churn                      -0.171815 -0.364808       0.017386   \n",
       "tenure_years                0.161974  0.988998      -0.005153   \n",
       "\n",
       "                          online_security  online_backup  device_protection  \\\n",
       "payment_type_id                  0.207083       0.187786           0.184068   \n",
       "internet_service_type_id         0.621092       0.666058           0.667515   \n",
       "contract_type_id                 0.397776       0.362559           0.400807   \n",
       "senior_citizen                  -0.215005      -0.162786          -0.154695   \n",
       "partner                          0.073268       0.088690           0.094374   \n",
       "dependents                       0.186705       0.165236           0.159343   \n",
       "tenure                           0.154416       0.192637           0.195737   \n",
       "phone_service                    0.131856       0.150252           0.134244   \n",
       "online_security                  1.000000       0.758825           0.758639   \n",
       "online_backup                    0.758825       1.000000           0.746879   \n",
       "device_protection                0.758639       0.746879           1.000000   \n",
       "tech_support                     0.800254       0.760471           0.772645   \n",
       "streaming_tv                     0.705387       0.724159           0.768175   \n",
       "streaming_movies                 0.716494       0.717200           0.775428   \n",
       "paperless_billing               -0.342207      -0.270229          -0.287227   \n",
       "monthly_charges                 -0.622544      -0.547190          -0.520546   \n",
       "total_charges                   -0.158139      -0.088103          -0.077895   \n",
       "churn                           -0.327007      -0.293977          -0.289563   \n",
       "tenure_years                     0.154427       0.193743           0.195162   \n",
       "\n",
       "                          tech_support  streaming_tv  streaming_movies  \\\n",
       "payment_type_id               0.212969      0.107194          0.116705   \n",
       "internet_service_type_id      0.618590      0.714865          0.709063   \n",
       "contract_type_id              0.432083      0.335675          0.349069   \n",
       "senior_citizen               -0.227421     -0.133915         -0.130352   \n",
       "partner                       0.068276      0.073090          0.073642   \n",
       "dependents                    0.180574      0.136003          0.124239   \n",
       "tenure                        0.164005      0.144816          0.155948   \n",
       "phone_service                 0.122561      0.175114          0.164008   \n",
       "online_security               0.800254      0.705387          0.716494   \n",
       "online_backup                 0.760471      0.724159          0.717200   \n",
       "device_protection             0.772645      0.768175          0.775428   \n",
       "tech_support                  1.000000      0.745152          0.747252   \n",
       "streaming_tv                  0.745152      1.000000          0.817436   \n",
       "streaming_movies              0.747252      0.817436          1.000000   \n",
       "paperless_billing            -0.324284     -0.216057         -0.229393   \n",
       "monthly_charges              -0.600891     -0.427035         -0.428848   \n",
       "total_charges                -0.137075     -0.080931         -0.072716   \n",
       "churn                        -0.333430     -0.209256         -0.211497   \n",
       "tenure_years                  0.163388      0.142052          0.154944   \n",
       "\n",
       "                          paperless_billing  monthly_charges  total_charges  \\\n",
       "payment_type_id                   -0.094247        -0.083413       0.207307   \n",
       "internet_service_type_id          -0.148740        -0.329540      -0.177037   \n",
       "contract_type_id                  -0.167396        -0.089372       0.440414   \n",
       "senior_citizen                     0.157127         0.228021       0.103035   \n",
       "partner                           -0.007685         0.089039       0.307353   \n",
       "dependents                        -0.112298        -0.119796       0.064202   \n",
       "tenure                             0.006441         0.230045       0.817362   \n",
       "phone_service                      0.034202         0.243624       0.104611   \n",
       "online_security                   -0.342207        -0.622544      -0.158139   \n",
       "online_backup                     -0.270229        -0.547190      -0.088103   \n",
       "device_protection                 -0.287227        -0.520546      -0.077895   \n",
       "tech_support                      -0.324284        -0.600891      -0.137075   \n",
       "streaming_tv                      -0.216057        -0.427035      -0.080931   \n",
       "streaming_movies                  -0.229393        -0.428848      -0.072716   \n",
       "paperless_billing                  1.000000         0.366440       0.168557   \n",
       "monthly_charges                    0.366440         1.000000       0.648979   \n",
       "total_charges                      0.168557         0.648979       1.000000   \n",
       "churn                              0.192453         0.190253      -0.207336   \n",
       "tenure_years                       0.005498         0.225688       0.811934   \n",
       "\n",
       "                             churn  tenure_years  \n",
       "payment_type_id          -0.266530      0.327591  \n",
       "internet_service_type_id -0.054453     -0.018147  \n",
       "contract_type_id         -0.403699      0.674348  \n",
       "senior_citizen            0.149408      0.006921  \n",
       "partner                  -0.169257      0.367897  \n",
       "dependents               -0.171815      0.161974  \n",
       "tenure                   -0.364808      0.988998  \n",
       "phone_service             0.017386     -0.005153  \n",
       "online_security          -0.327007      0.154427  \n",
       "online_backup            -0.293977      0.193743  \n",
       "device_protection        -0.289563      0.195162  \n",
       "tech_support             -0.333430      0.163388  \n",
       "streaming_tv             -0.209256      0.142052  \n",
       "streaming_movies         -0.211497      0.154944  \n",
       "paperless_billing         0.192453      0.005498  \n",
       "monthly_charges           0.190253      0.225688  \n",
       "total_charges            -0.207336      0.811934  \n",
       "churn                     1.000000     -0.356645  \n",
       "tenure_years             -0.356645      1.000000  "
      ]
     },
     "execution_count": 19,
     "metadata": {},
     "output_type": "execute_result"
    }
   ],
   "source": [
    "corr = train.corr()\n",
    "corr"
   ]
  },
  {
   "cell_type": "code",
   "execution_count": 20,
   "metadata": {},
   "outputs": [
    {
     "data": {
      "text/plain": [
       "contract_type_id    -0.403699\n",
       "tenure              -0.364808\n",
       "tenure_years        -0.356645\n",
       "tech_support        -0.333430\n",
       "online_security     -0.327007\n",
       "online_backup       -0.293977\n",
       "device_protection   -0.289563\n",
       "payment_type_id     -0.266530\n",
       "streaming_movies    -0.211497\n",
       "streaming_tv        -0.209256\n",
       "Name: churn, dtype: float64"
      ]
     },
     "execution_count": 20,
     "metadata": {},
     "output_type": "execute_result"
    }
   ],
   "source": [
    "#The chart above is still to much information to look at.\n",
    "# so instead  We can look at top 10 features corelated with churn\n",
    "train.corr().iloc[17].sort_values()[0:10]"
   ]
  },
  {
   "cell_type": "markdown",
   "metadata": {},
   "source": [
    "#### The features most correlated with churn is contract_type,Tenure, payment_type_id, and other value added services. \n",
    "#### However it is worth nothing that value added services like 'tech support', 'online security', 'online backup', 'device protection', 'streaming movies', 'streaming tv' are highly co-related themselves. So we should use only one of these features for modeling."
   ]
  },
  {
   "cell_type": "markdown",
   "metadata": {},
   "source": [
    "### We can further explore the features identified above as highly correlated with Churn"
   ]
  },
  {
   "cell_type": "code",
   "execution_count": 21,
   "metadata": {},
   "outputs": [
    {
     "data": {
      "text/plain": [
       "Month-to-month    2480\n",
       "Two year          1081\n",
       "One year           939\n",
       "Name: contract_type, dtype: int64"
      ]
     },
     "execution_count": 21,
     "metadata": {},
     "output_type": "execute_result"
    }
   ],
   "source": [
    "train.contract_type.value_counts()"
   ]
  },
  {
   "cell_type": "code",
   "execution_count": 22,
   "metadata": {},
   "outputs": [
    {
     "data": {
      "text/html": [
       "<div>\n",
       "<style scoped>\n",
       "    .dataframe tbody tr th:only-of-type {\n",
       "        vertical-align: middle;\n",
       "    }\n",
       "\n",
       "    .dataframe tbody tr th {\n",
       "        vertical-align: top;\n",
       "    }\n",
       "\n",
       "    .dataframe thead th {\n",
       "        text-align: right;\n",
       "    }\n",
       "</style>\n",
       "<table border=\"1\" class=\"dataframe\">\n",
       "  <thead>\n",
       "    <tr style=\"text-align: right;\">\n",
       "      <th>contract_type</th>\n",
       "      <th>Month-to-month</th>\n",
       "      <th>One year</th>\n",
       "      <th>Two year</th>\n",
       "    </tr>\n",
       "    <tr>\n",
       "      <th>churn</th>\n",
       "      <th></th>\n",
       "      <th></th>\n",
       "      <th></th>\n",
       "    </tr>\n",
       "  </thead>\n",
       "  <tbody>\n",
       "    <tr>\n",
       "      <th>0</th>\n",
       "      <td>1402</td>\n",
       "      <td>836</td>\n",
       "      <td>1051</td>\n",
       "    </tr>\n",
       "    <tr>\n",
       "      <th>1</th>\n",
       "      <td>1078</td>\n",
       "      <td>103</td>\n",
       "      <td>30</td>\n",
       "    </tr>\n",
       "  </tbody>\n",
       "</table>\n",
       "</div>"
      ],
      "text/plain": [
       "contract_type  Month-to-month  One year  Two year\n",
       "churn                                            \n",
       "0                        1402       836      1051\n",
       "1                        1078       103        30"
      ]
     },
     "execution_count": 22,
     "metadata": {},
     "output_type": "execute_result"
    }
   ],
   "source": [
    "observed = pd.crosstab(train.churn, train.contract_type)\n",
    "observed"
   ]
  },
  {
   "cell_type": "markdown",
   "metadata": {},
   "source": [
    "### The cross tabulation suggest that month-to-month customers are more likely to churn than those with One or two year contract. We can do a statictical chi2 test to if these two groups are really different"
   ]
  },
  {
   "cell_type": "markdown",
   "metadata": {},
   "source": [
    "### Null Hypothesis $H_0$ : There is no difference in churn rate between month-to-month and One-year contract customers\n",
    "### Alternate Hypothesis $H_a$: The churn rate is different  between month-to-month and One-year contract customers\n"
   ]
  },
  {
   "cell_type": "code",
   "execution_count": 23,
   "metadata": {},
   "outputs": [
    {
     "name": "stdout",
     "output_type": "stream",
     "text": [
      "Observed\n",
      "\n",
      "[[1402  836 1051]\n",
      " [1078  103   30]]\n",
      "---\n",
      "Expected\n",
      "\n",
      "[[1812.60444444  686.30466667  790.09088889]\n",
      " [ 667.39555556  252.69533333  290.90911111]]\n",
      "---\n",
      "\n",
      "chi^2 = 787.1229\n",
      "p     = 0.0000\n"
     ]
    }
   ],
   "source": [
    "chi2, p, degf, expected = stats.chi2_contingency(observed)\n",
    "\n",
    "print('Observed\\n')\n",
    "print(observed.values)\n",
    "print('---\\nExpected\\n')\n",
    "print(expected)\n",
    "print('---\\n')\n",
    "print(f'chi^2 = {chi2:.4f}')\n",
    "print(f'p     = {p:.4f}')"
   ]
  },
  {
   "cell_type": "markdown",
   "metadata": {},
   "source": [
    "### The p value is less than 0.05, so we can reject the null hypothesis. This implies that rate of churn in month to month customers is significantly higher than other customers\n",
    "***"
   ]
  },
  {
   "cell_type": "markdown",
   "metadata": {},
   "source": [
    "### Next question to answer: Is there a tenure that month-to-month customers are most likely to churn? 1-year contract customers?"
   ]
  },
  {
   "cell_type": "code",
   "execution_count": 24,
   "metadata": {},
   "outputs": [
    {
     "data": {
      "text/html": [
       "<div>\n",
       "<style scoped>\n",
       "    .dataframe tbody tr th:only-of-type {\n",
       "        vertical-align: middle;\n",
       "    }\n",
       "\n",
       "    .dataframe tbody tr th {\n",
       "        vertical-align: top;\n",
       "    }\n",
       "\n",
       "    .dataframe thead th {\n",
       "        text-align: right;\n",
       "    }\n",
       "</style>\n",
       "<table border=\"1\" class=\"dataframe\">\n",
       "  <thead>\n",
       "    <tr style=\"text-align: right;\">\n",
       "      <th>churn</th>\n",
       "      <th>0</th>\n",
       "      <th>1</th>\n",
       "    </tr>\n",
       "    <tr>\n",
       "      <th>tenure_years</th>\n",
       "      <th></th>\n",
       "      <th></th>\n",
       "    </tr>\n",
       "  </thead>\n",
       "  <tbody>\n",
       "    <tr>\n",
       "      <th>0.0</th>\n",
       "      <td>0.467662</td>\n",
       "      <td>0.532338</td>\n",
       "    </tr>\n",
       "    <tr>\n",
       "      <th>1.0</th>\n",
       "      <td>0.616438</td>\n",
       "      <td>0.383562</td>\n",
       "    </tr>\n",
       "    <tr>\n",
       "      <th>2.0</th>\n",
       "      <td>0.668693</td>\n",
       "      <td>0.331307</td>\n",
       "    </tr>\n",
       "    <tr>\n",
       "      <th>3.0</th>\n",
       "      <td>0.645933</td>\n",
       "      <td>0.354067</td>\n",
       "    </tr>\n",
       "    <tr>\n",
       "      <th>4.0</th>\n",
       "      <td>0.736486</td>\n",
       "      <td>0.263514</td>\n",
       "    </tr>\n",
       "    <tr>\n",
       "      <th>5.0</th>\n",
       "      <td>0.760000</td>\n",
       "      <td>0.240000</td>\n",
       "    </tr>\n",
       "    <tr>\n",
       "      <th>6.0</th>\n",
       "      <td>1.000000</td>\n",
       "      <td>0.000000</td>\n",
       "    </tr>\n",
       "  </tbody>\n",
       "</table>\n",
       "</div>"
      ],
      "text/plain": [
       "churn                0         1\n",
       "tenure_years                    \n",
       "0.0           0.467662  0.532338\n",
       "1.0           0.616438  0.383562\n",
       "2.0           0.668693  0.331307\n",
       "3.0           0.645933  0.354067\n",
       "4.0           0.736486  0.263514\n",
       "5.0           0.760000  0.240000\n",
       "6.0           1.000000  0.000000"
      ]
     },
     "execution_count": 24,
     "metadata": {},
     "output_type": "execute_result"
    }
   ],
   "source": [
    "# Cross tabulation churn rate of month-to-month customers as function of tenure years (1= churn, 0 = no churn)\n",
    "ten0 = pd.crosstab(train[train.contract_type_id ==1].tenure_years,train[train.contract_type_id ==1].churn, normalize = 'index')\n",
    "ten0"
   ]
  },
  {
   "cell_type": "code",
   "execution_count": 25,
   "metadata": {},
   "outputs": [
    {
     "data": {
      "text/html": [
       "<div>\n",
       "<style scoped>\n",
       "    .dataframe tbody tr th:only-of-type {\n",
       "        vertical-align: middle;\n",
       "    }\n",
       "\n",
       "    .dataframe tbody tr th {\n",
       "        vertical-align: top;\n",
       "    }\n",
       "\n",
       "    .dataframe thead th {\n",
       "        text-align: right;\n",
       "    }\n",
       "</style>\n",
       "<table border=\"1\" class=\"dataframe\">\n",
       "  <thead>\n",
       "    <tr style=\"text-align: right;\">\n",
       "      <th>churn</th>\n",
       "      <th>0</th>\n",
       "      <th>1</th>\n",
       "    </tr>\n",
       "    <tr>\n",
       "      <th>tenure_years</th>\n",
       "      <th></th>\n",
       "      <th></th>\n",
       "    </tr>\n",
       "  </thead>\n",
       "  <tbody>\n",
       "    <tr>\n",
       "      <th>0.0</th>\n",
       "      <td>0.897059</td>\n",
       "      <td>0.102941</td>\n",
       "    </tr>\n",
       "    <tr>\n",
       "      <th>1.0</th>\n",
       "      <td>0.881890</td>\n",
       "      <td>0.118110</td>\n",
       "    </tr>\n",
       "    <tr>\n",
       "      <th>2.0</th>\n",
       "      <td>0.919753</td>\n",
       "      <td>0.080247</td>\n",
       "    </tr>\n",
       "    <tr>\n",
       "      <th>3.0</th>\n",
       "      <td>0.893750</td>\n",
       "      <td>0.106250</td>\n",
       "    </tr>\n",
       "    <tr>\n",
       "      <th>4.0</th>\n",
       "      <td>0.861244</td>\n",
       "      <td>0.138756</td>\n",
       "    </tr>\n",
       "    <tr>\n",
       "      <th>5.0</th>\n",
       "      <td>0.895000</td>\n",
       "      <td>0.105000</td>\n",
       "    </tr>\n",
       "    <tr>\n",
       "      <th>6.0</th>\n",
       "      <td>0.923077</td>\n",
       "      <td>0.076923</td>\n",
       "    </tr>\n",
       "  </tbody>\n",
       "</table>\n",
       "</div>"
      ],
      "text/plain": [
       "churn                0         1\n",
       "tenure_years                    \n",
       "0.0           0.897059  0.102941\n",
       "1.0           0.881890  0.118110\n",
       "2.0           0.919753  0.080247\n",
       "3.0           0.893750  0.106250\n",
       "4.0           0.861244  0.138756\n",
       "5.0           0.895000  0.105000\n",
       "6.0           0.923077  0.076923"
      ]
     },
     "execution_count": 25,
     "metadata": {},
     "output_type": "execute_result"
    }
   ],
   "source": [
    "# Cross tabulation churn rate of one-year contract customers as function of tenure years (1= churn, 0 = no churn)\n",
    "ten1 = pd.crosstab(train[train.contract_type_id ==2].tenure_years,train[train.contract_type_id ==2].churn, normalize = 'index')\n",
    "ten1"
   ]
  },
  {
   "cell_type": "code",
   "execution_count": 26,
   "metadata": {},
   "outputs": [
    {
     "data": {
      "text/html": [
       "<div>\n",
       "<style scoped>\n",
       "    .dataframe tbody tr th:only-of-type {\n",
       "        vertical-align: middle;\n",
       "    }\n",
       "\n",
       "    .dataframe tbody tr th {\n",
       "        vertical-align: top;\n",
       "    }\n",
       "\n",
       "    .dataframe thead th {\n",
       "        text-align: right;\n",
       "    }\n",
       "</style>\n",
       "<table border=\"1\" class=\"dataframe\">\n",
       "  <thead>\n",
       "    <tr style=\"text-align: right;\">\n",
       "      <th>churn</th>\n",
       "      <th>0</th>\n",
       "      <th>1</th>\n",
       "    </tr>\n",
       "    <tr>\n",
       "      <th>tenure_years</th>\n",
       "      <th></th>\n",
       "      <th></th>\n",
       "    </tr>\n",
       "  </thead>\n",
       "  <tbody>\n",
       "    <tr>\n",
       "      <th>0.0</th>\n",
       "      <td>1.000000</td>\n",
       "      <td>0.000000</td>\n",
       "    </tr>\n",
       "    <tr>\n",
       "      <th>1.0</th>\n",
       "      <td>1.000000</td>\n",
       "      <td>0.000000</td>\n",
       "    </tr>\n",
       "    <tr>\n",
       "      <th>2.0</th>\n",
       "      <td>0.968254</td>\n",
       "      <td>0.031746</td>\n",
       "    </tr>\n",
       "    <tr>\n",
       "      <th>3.0</th>\n",
       "      <td>0.991150</td>\n",
       "      <td>0.008850</td>\n",
       "    </tr>\n",
       "    <tr>\n",
       "      <th>4.0</th>\n",
       "      <td>0.951220</td>\n",
       "      <td>0.048780</td>\n",
       "    </tr>\n",
       "    <tr>\n",
       "      <th>5.0</th>\n",
       "      <td>0.959732</td>\n",
       "      <td>0.040268</td>\n",
       "    </tr>\n",
       "    <tr>\n",
       "      <th>6.0</th>\n",
       "      <td>0.995238</td>\n",
       "      <td>0.004762</td>\n",
       "    </tr>\n",
       "  </tbody>\n",
       "</table>\n",
       "</div>"
      ],
      "text/plain": [
       "churn                0         1\n",
       "tenure_years                    \n",
       "0.0           1.000000  0.000000\n",
       "1.0           1.000000  0.000000\n",
       "2.0           0.968254  0.031746\n",
       "3.0           0.991150  0.008850\n",
       "4.0           0.951220  0.048780\n",
       "5.0           0.959732  0.040268\n",
       "6.0           0.995238  0.004762"
      ]
     },
     "execution_count": 26,
     "metadata": {},
     "output_type": "execute_result"
    }
   ],
   "source": [
    "# Cross tabulation churn rate of two-year contract customers as function of tenure years (1= churn, 0 = no churn)\n",
    "ten2 = pd.crosstab(train[train.contract_type_id ==3].tenure_years,train[train.contract_type_id ==3].churn, normalize = 'index')\n",
    "ten2"
   ]
  },
  {
   "cell_type": "code",
   "execution_count": 27,
   "metadata": {},
   "outputs": [
    {
     "data": {
      "text/plain": [
       "Text(0, 0.5, '% Churn')"
      ]
     },
     "execution_count": 27,
     "metadata": {},
     "output_type": "execute_result"
    },
    {
     "data": {
      "image/png": "[encoded data removed]",
      "text/plain": [
       "<Figure size 648x432 with 1 Axes>"
      ]
     },
     "metadata": {
      "needs_background": "light"
     },
     "output_type": "display_data"
    }
   ],
   "source": [
    "plt.figure(figsize = (9,6))\n",
    "sns.lineplot( x = ten0.index, y = ten0[1], data = ten0, label = 'month to month')\n",
    "sns.lineplot( x = ten1.index, y = ten1[1], data = ten1, label = 'one year contract')\n",
    "sns.lineplot( x = ten2.index, y = ten2[1], data = ten2, label = 'two year contract')\n",
    "#sns.lineplot( x = t.index, y = t[1], data = t, label = 'All Customers')\n",
    "plt.title(\"% of customers churning\")\n",
    "plt.xlabel('Tenure (years)')\n",
    "plt.ylabel('% Churn')"
   ]
  },
  {
   "cell_type": "markdown",
   "metadata": {},
   "source": [
    "### Based on the chart above we can conclude that:\n",
    "#### 1. Month-to month customers are most likely to churn early in their tenure (4-5 times higher!!)\n",
    "#### 2. The churn rate for month-month customers declines longer they stay with the company\n",
    "#### 3. The churn rate for one-year-contract and two-year-contract customers stays low and constant throughout their tenure\n",
    "***\n"
   ]
  },
  {
   "cell_type": "markdown",
   "metadata": {},
   "source": [
    "### Next we plot tenure vs  monthly charges for churners vs non churners"
   ]
  },
  {
   "cell_type": "code",
   "execution_count": 28,
   "metadata": {
    "scrolled": true
   },
   "outputs": [
    {
     "data": {
      "text/plain": [
       "<matplotlib.axes._subplots.AxesSubplot at 0x124ad0950>"
      ]
     },
     "execution_count": 28,
     "metadata": {},
     "output_type": "execute_result"
    },
    {
     "data": {
      "image/png": "[encoded data removed]",
      "text/plain": [
       "<Figure size 576x360 with 1 Axes>"
      ]
     },
     "metadata": {
      "needs_background": "light"
     },
     "output_type": "display_data"
    }
   ],
   "source": [
    "plt.figure(figsize = (8,5))\n",
    "sns.lineplot(x='tenure', y = 'monthly_charges', data = train[train.churn==1], ci =95, label = 'churn')\n",
    "sns.lineplot(x='tenure', y = 'monthly_charges', data = train[train.churn==0], ci =95, label = 'no_churn')"
   ]
  },
  {
   "cell_type": "markdown",
   "metadata": {},
   "source": [
    "### From the chart  above we can conclude:\n",
    "#### Churners (who are mostly month-to-month)  are paying more compared to non-churners. But why? Are they using higher priced services or are they charged more because of month-to-month contract?\n",
    "***"
   ]
  },
  {
   "cell_type": "code",
   "execution_count": 29,
   "metadata": {},
   "outputs": [
    {
     "data": {
      "text/plain": [
       "Text(0, 0.5, 'no of customers churned')"
      ]
     },
     "execution_count": 29,
     "metadata": {},
     "output_type": "execute_result"
    },
    {
     "data": {
      "image/png": "[encoded data removed]",
      "text/plain": [
       "<Figure size 576x360 with 1 Axes>"
      ]
     },
     "metadata": {
      "needs_background": "light"
     },
     "output_type": "display_data"
    }
   ],
   "source": [
    "plt.figure(figsize = (8,5))\n",
    "plt.hist(train[train.churn ==1].monthly_charges,bins = 60, alpha = 0.7, color = 'orange')\n",
    "plt.xlabel('Monthly Charges')\n",
    "plt.ylabel('no of customers churned')"
   ]
  },
  {
   "cell_type": "markdown",
   "metadata": {},
   "source": [
    "#### The chart above shows that most of the churners have high monthly charges (possibly due to fact that they are subscribing to higher cost services e.g. Fiber optic\n",
    "***"
   ]
  },
  {
   "cell_type": "markdown",
   "metadata": {},
   "source": [
    "### The next question to explore is why these customers are paying more on average? Are they using higer priced services? Lets explore"
   ]
  },
  {
   "cell_type": "markdown",
   "metadata": {},
   "source": [
    "##### Are there features that indicate a higher propensity to churn? like type of internet service, type of phone service, online security and backup, senior citizens, paying more than x% of customers with the same services, etc.?"
   ]
  },
  {
   "cell_type": "code",
   "execution_count": 30,
   "metadata": {},
   "outputs": [
    {
     "data": {
      "text/plain": [
       "<matplotlib.axes._subplots.AxesSubplot at 0x125ee4ad0>"
      ]
     },
     "execution_count": 30,
     "metadata": {},
     "output_type": "execute_result"
    },
    {
     "data": {
      "image/png": "[encoded data removed]",
      "text/plain": [
       "<Figure size 432x288 with 1 Axes>"
      ]
     },
     "metadata": {
      "needs_background": "light"
     },
     "output_type": "display_data"
    }
   ],
   "source": [
    "df_plot = pd.crosstab(train.internet_service_type, train.churn)\n",
    "df_plot.plot(kind='bar', stacked=True)"
   ]
  },
  {
   "cell_type": "markdown",
   "metadata": {},
   "source": [
    "### From this chart we can conclude that churuners are more likely to have Fiber optic > DSL > No internet. Which explains the fact that their average monthly charges are higher than non-churners\n",
    "***"
   ]
  },
  {
   "cell_type": "code",
   "execution_count": 134,
   "metadata": {},
   "outputs": [
    {
     "data": {
      "text/plain": [
       "(array([0, 1, 2, 3]), <a list of 4 Text major ticklabel objects>)"
      ]
     },
     "execution_count": 134,
     "metadata": {},
     "output_type": "execute_result"
    },
    {
     "data": {
      "image/png": "[encoded data removed]",
      "text/plain": [
       "<Figure size 504x288 with 1 Axes>"
      ]
     },
     "metadata": {},
     "output_type": "display_data"
    }
   ],
   "source": [
    "# Here we plot distrbution of payment type among churners and non-churners\n",
    "plt.figure(figsize=(7, 4))\n",
    "\n",
    "sns.countplot(x=\"payment_type\", hue=\"churn\",data=train)\n",
    "plt.xticks(rotation=45)"
   ]
  },
  {
   "cell_type": "markdown",
   "metadata": {},
   "source": [
    "### The chart suggests that Churners seems to prefer Electronic checks compared to other payment methods. There seems to be no preference among non-churners. So this feature could be useful for predicting churn\n",
    "***"
   ]
  },
  {
   "cell_type": "markdown",
   "metadata": {},
   "source": [
    "# Modeling: We will use classification ML algorithms to predict customers who will churn. \n",
    "### We need to be mindful of cost of False positives and False negatives and benefits of True Positives\n",
    "### Cost of false fositive: We end up providing discounts to customers who will not churn\n",
    "### Cost of false negative: We will lose customers who could have been retained (lost revenue)\n",
    "### Maximize true positives: Will lead of higher revenues/profit.\n",
    "\n",
    "### Given these constrints we will try to optimize our models to achieve higher F1 value (balance between recall and precision)\n",
    "***\n"
   ]
  },
  {
   "cell_type": "markdown",
   "metadata": {},
   "source": [
    "### Before we start modeling we need to encode and scale our predictors"
   ]
  },
  {
   "cell_type": "code",
   "execution_count": 32,
   "metadata": {},
   "outputs": [],
   "source": [
    "# Create dataframes with  variables which have highest correlation with Churn:  \n",
    "y_train = train[['churn']]\n",
    "y_validate = validate[['churn']]\n",
    "y_test = test[['churn']]\n",
    "X_train = train[['senior_citizen', 'tech_support', 'contract_type', 'internet_service_type','payment_type','tenure_years', 'total_charges']]\n",
    "X_validate = validate[['senior_citizen', 'tech_support', 'contract_type', 'internet_service_type','payment_type','tenure_years', 'total_charges']]\n",
    "X_test = test[['senior_citizen','tech_support', 'contract_type', 'internet_service_type','payment_type','tenure_years', 'total_charges']]"
   ]
  },
  {
   "cell_type": "code",
   "execution_count": 33,
   "metadata": {},
   "outputs": [
    {
     "data": {
      "text/html": [
       "<div>\n",
       "<style scoped>\n",
       "    .dataframe tbody tr th:only-of-type {\n",
       "        vertical-align: middle;\n",
       "    }\n",
       "\n",
       "    .dataframe tbody tr th {\n",
       "        vertical-align: top;\n",
       "    }\n",
       "\n",
       "    .dataframe thead th {\n",
       "        text-align: right;\n",
       "    }\n",
       "</style>\n",
       "<table border=\"1\" class=\"dataframe\">\n",
       "  <thead>\n",
       "    <tr style=\"text-align: right;\">\n",
       "      <th></th>\n",
       "      <th>senior_citizen</th>\n",
       "      <th>tech_support</th>\n",
       "      <th>total_charges</th>\n",
       "      <th>contract_type_Month-to-month</th>\n",
       "      <th>contract_type_One year</th>\n",
       "      <th>contract_type_Two year</th>\n",
       "      <th>internet_service_type_DSL</th>\n",
       "      <th>internet_service_type_Fiber optic</th>\n",
       "      <th>internet_service_type_None</th>\n",
       "      <th>payment_type_Bank transfer (automatic)</th>\n",
       "      <th>payment_type_Credit card (automatic)</th>\n",
       "      <th>payment_type_Electronic check</th>\n",
       "      <th>payment_type_Mailed check</th>\n",
       "      <th>tenure_years_0.0</th>\n",
       "      <th>tenure_years_1.0</th>\n",
       "      <th>tenure_years_2.0</th>\n",
       "      <th>tenure_years_3.0</th>\n",
       "      <th>tenure_years_4.0</th>\n",
       "      <th>tenure_years_5.0</th>\n",
       "      <th>tenure_years_6.0</th>\n",
       "    </tr>\n",
       "  </thead>\n",
       "  <tbody>\n",
       "    <tr>\n",
       "      <th>2481</th>\n",
       "      <td>0</td>\n",
       "      <td>0</td>\n",
       "      <td>842.90</td>\n",
       "      <td>1.0</td>\n",
       "      <td>0.0</td>\n",
       "      <td>0.0</td>\n",
       "      <td>0.0</td>\n",
       "      <td>1.0</td>\n",
       "      <td>0.0</td>\n",
       "      <td>0.0</td>\n",
       "      <td>0.0</td>\n",
       "      <td>1.0</td>\n",
       "      <td>0.0</td>\n",
       "      <td>1.0</td>\n",
       "      <td>0.0</td>\n",
       "      <td>0.0</td>\n",
       "      <td>0.0</td>\n",
       "      <td>0.0</td>\n",
       "      <td>0.0</td>\n",
       "      <td>0.0</td>\n",
       "    </tr>\n",
       "    <tr>\n",
       "      <th>6783</th>\n",
       "      <td>0</td>\n",
       "      <td>2</td>\n",
       "      <td>515.75</td>\n",
       "      <td>0.0</td>\n",
       "      <td>0.0</td>\n",
       "      <td>1.0</td>\n",
       "      <td>0.0</td>\n",
       "      <td>0.0</td>\n",
       "      <td>1.0</td>\n",
       "      <td>0.0</td>\n",
       "      <td>1.0</td>\n",
       "      <td>0.0</td>\n",
       "      <td>0.0</td>\n",
       "      <td>0.0</td>\n",
       "      <td>0.0</td>\n",
       "      <td>1.0</td>\n",
       "      <td>0.0</td>\n",
       "      <td>0.0</td>\n",
       "      <td>0.0</td>\n",
       "      <td>0.0</td>\n",
       "    </tr>\n",
       "  </tbody>\n",
       "</table>\n",
       "</div>"
      ],
      "text/plain": [
       "      senior_citizen  tech_support  total_charges  \\\n",
       "2481               0             0         842.90   \n",
       "6783               0             2         515.75   \n",
       "\n",
       "      contract_type_Month-to-month  contract_type_One year  \\\n",
       "2481                           1.0                     0.0   \n",
       "6783                           0.0                     0.0   \n",
       "\n",
       "      contract_type_Two year  internet_service_type_DSL  \\\n",
       "2481                     0.0                        0.0   \n",
       "6783                     1.0                        0.0   \n",
       "\n",
       "      internet_service_type_Fiber optic  internet_service_type_None  \\\n",
       "2481                                1.0                         0.0   \n",
       "6783                                0.0                         1.0   \n",
       "\n",
       "      payment_type_Bank transfer (automatic)  \\\n",
       "2481                                     0.0   \n",
       "6783                                     0.0   \n",
       "\n",
       "      payment_type_Credit card (automatic)  payment_type_Electronic check  \\\n",
       "2481                                   0.0                            1.0   \n",
       "6783                                   1.0                            0.0   \n",
       "\n",
       "      payment_type_Mailed check  tenure_years_0.0  tenure_years_1.0  \\\n",
       "2481                        0.0               1.0               0.0   \n",
       "6783                        0.0               0.0               0.0   \n",
       "\n",
       "      tenure_years_2.0  tenure_years_3.0  tenure_years_4.0  tenure_years_5.0  \\\n",
       "2481               0.0               0.0               0.0               0.0   \n",
       "6783               1.0               0.0               0.0               0.0   \n",
       "\n",
       "      tenure_years_6.0  \n",
       "2481               0.0  \n",
       "6783               0.0  "
      ]
     },
     "execution_count": 33,
     "metadata": {},
     "output_type": "execute_result"
    }
   ],
   "source": [
    "# Next we do onehot encoding for these variables\n",
    "l = ['contract_type','internet_service_type', 'payment_type','tenure_years']\n",
    "X_train = encode.encode(X_train,l)\n",
    "X_validate = encode.encode(X_validate,l)\n",
    "X_test = encode.encode(X_test,l)\n",
    "X_test.head(2)"
   ]
  },
  {
   "cell_type": "code",
   "execution_count": 34,
   "metadata": {},
   "outputs": [],
   "source": [
    "# Next we scale the total_charges column using min-max scaler\n",
    "column_list = ['total_charges']\n",
    "X_train_scaled = encode.scale_minmax(X_train, column_list)\n",
    "X_validate_scaled = encode.scale_minmax(X_validate, column_list)\n",
    "X_test_scaled = encode.scale_minmax(X_test, column_list)"
   ]
  },
  {
   "cell_type": "markdown",
   "metadata": {},
   "source": [
    "# Logistic Regression Modeling"
   ]
  },
  {
   "cell_type": "code",
   "execution_count": 80,
   "metadata": {},
   "outputs": [],
   "source": [
    "logit = LogisticRegression(C=0.21, random_state = 123)\n",
    "logit.fit(X_train_scaled, y_train)\n",
    "y_pred = logit.predict(X_train_scaled)\n",
    "y_pred_proba = logit.predict_proba(X_train_scaled)\n",
    "y_pred_proba = pd.DataFrame(y_pred_proba, columns = ['no churn', 'churn'], index = X_train_scaled.index)"
   ]
  },
  {
   "cell_type": "code",
   "execution_count": 36,
   "metadata": {},
   "outputs": [
    {
     "name": "stdout",
     "output_type": "stream",
     "text": [
      "              precision    recall  f1-score   support\n",
      "\n",
      "           0       0.83      0.91      0.87      3289\n",
      "           1       0.67      0.51      0.58      1211\n",
      "\n",
      "    accuracy                           0.80      4500\n",
      "   macro avg       0.75      0.71      0.72      4500\n",
      "weighted avg       0.79      0.80      0.79      4500\n",
      "\n"
     ]
    }
   ],
   "source": [
    "print(classification_report(y_train, y_pred))"
   ]
  },
  {
   "cell_type": "code",
   "execution_count": 37,
   "metadata": {},
   "outputs": [
    {
     "data": {
      "image/png": "[encoded data removed]",
      "text/plain": [
       "<Figure size 864x612 with 1 Axes>"
      ]
     },
     "metadata": {
      "needs_background": "light"
     },
     "output_type": "display_data"
    }
   ],
   "source": [
    "logistic_regression_util.plot_metrics_by_thresholds(y_train, y_pred_proba.churn)"
   ]
  },
  {
   "cell_type": "markdown",
   "metadata": {},
   "source": [
    "#### We can use the chart above to tweak our model hyperparameters to optimize F1"
   ]
  },
  {
   "cell_type": "code",
   "execution_count": 81,
   "metadata": {},
   "outputs": [
    {
     "name": "stdout",
     "output_type": "stream",
     "text": [
      "              precision    recall  f1-score   support\n",
      "\n",
      "           0       0.90      0.74      0.82      3289\n",
      "           1       0.53      0.78      0.63      1211\n",
      "\n",
      "    accuracy                           0.75      4500\n",
      "   macro avg       0.72      0.76      0.72      4500\n",
      "weighted avg       0.80      0.75      0.77      4500\n",
      "\n"
     ]
    }
   ],
   "source": [
    "y_pred_proba = logit.predict_proba(X_train_scaled)\n",
    "y_pred_proba = pd.DataFrame(y_pred_proba, columns = ['no churn', 'churn'], index = X_train_scaled.index)\n",
    "t = 0.3\n",
    "yhat = (y_pred_proba > t).astype(int)\n",
    "print(classification_report(y_train, yhat.churn))"
   ]
  },
  {
   "cell_type": "markdown",
   "metadata": {},
   "source": [
    "### The threshold of 0.3 leads to optimized F1-score. Lets try this model on our validate model"
   ]
  },
  {
   "cell_type": "code",
   "execution_count": 39,
   "metadata": {},
   "outputs": [
    {
     "name": "stdout",
     "output_type": "stream",
     "text": [
      "              precision    recall  f1-score   support\n",
      "\n",
      "           0       0.89      0.79      0.83       823\n",
      "           1       0.56      0.73      0.63       302\n",
      "\n",
      "    accuracy                           0.77      1125\n",
      "   macro avg       0.72      0.76      0.73      1125\n",
      "weighted avg       0.80      0.77      0.78      1125\n",
      "\n"
     ]
    }
   ],
   "source": [
    "# We now run the model on validate dataset\n",
    "y_pred = logit.predict(X_validate_scaled)\n",
    "y_pred_proba = logit.predict_proba(X_validate_scaled)\n",
    "y_pred_proba = pd.DataFrame(y_pred_proba, columns = ['no churn', 'churn'])\n",
    "t = 0.3\n",
    "yhat = (y_pred_proba > t).astype(int)\n",
    "print(classification_report(y_validate, yhat.churn))"
   ]
  },
  {
   "cell_type": "markdown",
   "metadata": {},
   "source": [
    "## The model performs decently on test dataset!\n",
    "\n",
    "***"
   ]
  },
  {
   "cell_type": "code",
   "execution_count": 40,
   "metadata": {},
   "outputs": [
    {
     "data": {
      "text/html": [
       "<div>\n",
       "<style scoped>\n",
       "    .dataframe tbody tr th:only-of-type {\n",
       "        vertical-align: middle;\n",
       "    }\n",
       "\n",
       "    .dataframe tbody tr th {\n",
       "        vertical-align: top;\n",
       "    }\n",
       "\n",
       "    .dataframe thead th {\n",
       "        text-align: right;\n",
       "    }\n",
       "</style>\n",
       "<table border=\"1\" class=\"dataframe\">\n",
       "  <thead>\n",
       "    <tr style=\"text-align: right;\">\n",
       "      <th></th>\n",
       "      <th>features</th>\n",
       "      <th>weights</th>\n",
       "    </tr>\n",
       "  </thead>\n",
       "  <tbody>\n",
       "    <tr>\n",
       "      <th>0</th>\n",
       "      <td>tenure_years_0.0</td>\n",
       "      <td>0.901781</td>\n",
       "    </tr>\n",
       "    <tr>\n",
       "      <th>1</th>\n",
       "      <td>contract_type_Month-to-month</td>\n",
       "      <td>0.478686</td>\n",
       "    </tr>\n",
       "    <tr>\n",
       "      <th>2</th>\n",
       "      <td>internet_service_type_Fiber optic</td>\n",
       "      <td>0.395684</td>\n",
       "    </tr>\n",
       "    <tr>\n",
       "      <th>3</th>\n",
       "      <td>senior_citizen</td>\n",
       "      <td>0.238687</td>\n",
       "    </tr>\n",
       "    <tr>\n",
       "      <th>4</th>\n",
       "      <td>payment_type_Electronic check</td>\n",
       "      <td>0.181595</td>\n",
       "    </tr>\n",
       "    <tr>\n",
       "      <th>5</th>\n",
       "      <td>tenure_years_1.0</td>\n",
       "      <td>0.135497</td>\n",
       "    </tr>\n",
       "    <tr>\n",
       "      <th>6</th>\n",
       "      <td>tenure_years_3.0</td>\n",
       "      <td>-0.146190</td>\n",
       "    </tr>\n",
       "    <tr>\n",
       "      <th>7</th>\n",
       "      <td>tenure_years_2.0</td>\n",
       "      <td>-0.205897</td>\n",
       "    </tr>\n",
       "    <tr>\n",
       "      <th>8</th>\n",
       "      <td>tenure_years_4.0</td>\n",
       "      <td>-0.241093</td>\n",
       "    </tr>\n",
       "    <tr>\n",
       "      <th>9</th>\n",
       "      <td>payment_type_Bank transfer (automatic)</td>\n",
       "      <td>-0.286611</td>\n",
       "    </tr>\n",
       "    <tr>\n",
       "      <th>10</th>\n",
       "      <td>contract_type_One year</td>\n",
       "      <td>-0.310481</td>\n",
       "    </tr>\n",
       "    <tr>\n",
       "      <th>11</th>\n",
       "      <td>payment_type_Credit card (automatic)</td>\n",
       "      <td>-0.365749</td>\n",
       "    </tr>\n",
       "    <tr>\n",
       "      <th>12</th>\n",
       "      <td>payment_type_Mailed check</td>\n",
       "      <td>-0.384215</td>\n",
       "    </tr>\n",
       "    <tr>\n",
       "      <th>13</th>\n",
       "      <td>tenure_years_5.0</td>\n",
       "      <td>-0.406375</td>\n",
       "    </tr>\n",
       "    <tr>\n",
       "      <th>14</th>\n",
       "      <td>tech_support</td>\n",
       "      <td>-0.419605</td>\n",
       "    </tr>\n",
       "    <tr>\n",
       "      <th>15</th>\n",
       "      <td>total_charges_scaled</td>\n",
       "      <td>-0.457375</td>\n",
       "    </tr>\n",
       "    <tr>\n",
       "      <th>16</th>\n",
       "      <td>internet_service_type_DSL</td>\n",
       "      <td>-0.566273</td>\n",
       "    </tr>\n",
       "    <tr>\n",
       "      <th>17</th>\n",
       "      <td>internet_service_type_None</td>\n",
       "      <td>-0.684390</td>\n",
       "    </tr>\n",
       "    <tr>\n",
       "      <th>18</th>\n",
       "      <td>tenure_years_6.0</td>\n",
       "      <td>-0.892703</td>\n",
       "    </tr>\n",
       "    <tr>\n",
       "      <th>19</th>\n",
       "      <td>contract_type_Two year</td>\n",
       "      <td>-1.023184</td>\n",
       "    </tr>\n",
       "  </tbody>\n",
       "</table>\n",
       "</div>"
      ],
      "text/plain": [
       "                                  features   weights\n",
       "0                         tenure_years_0.0  0.901781\n",
       "1             contract_type_Month-to-month  0.478686\n",
       "2        internet_service_type_Fiber optic  0.395684\n",
       "3                           senior_citizen  0.238687\n",
       "4            payment_type_Electronic check  0.181595\n",
       "5                         tenure_years_1.0  0.135497\n",
       "6                         tenure_years_3.0 -0.146190\n",
       "7                         tenure_years_2.0 -0.205897\n",
       "8                         tenure_years_4.0 -0.241093\n",
       "9   payment_type_Bank transfer (automatic) -0.286611\n",
       "10                  contract_type_One year -0.310481\n",
       "11    payment_type_Credit card (automatic) -0.365749\n",
       "12               payment_type_Mailed check -0.384215\n",
       "13                        tenure_years_5.0 -0.406375\n",
       "14                            tech_support -0.419605\n",
       "15                    total_charges_scaled -0.457375\n",
       "16               internet_service_type_DSL -0.566273\n",
       "17              internet_service_type_None -0.684390\n",
       "18                        tenure_years_6.0 -0.892703\n",
       "19                  contract_type_Two year -1.023184"
      ]
     },
     "execution_count": 40,
     "metadata": {},
     "output_type": "execute_result"
    }
   ],
   "source": [
    "#Next we look at weight of different variables from the logit model\n",
    "weights = pd.Series(logit.coef_[0],\n",
    "index=X_train_scaled.columns.values)\n",
    "features = pd.DataFrame(weights.sort_values(ascending = False)).reset_index()\n",
    "features.columns = ['features', 'weights']\n",
    "#features.to_csv('features.csv')\n",
    "features"
   ]
  },
  {
   "cell_type": "code",
   "execution_count": 133,
   "metadata": {},
   "outputs": [
    {
     "data": {
      "image/png": "[encoded data removed]",
      "text/plain": [
       "<Figure size 720x432 with 1 Axes>"
      ]
     },
     "metadata": {},
     "output_type": "display_data"
    }
   ],
   "source": [
    "plt.figure(figsize = (10,6))\n",
    "chart = sns.barplot(x = 'features', y = 'weights', data = features, palette=(\"Blues_d\"))\n",
    "sns.set()\n",
    "plt.xticks(rotation=90)\n",
    "for p in chart.patches:\n",
    "    chart.annotate(format(p.get_height(), '.2f'), (p.get_x() + p.get_width() / 2., p.get_height()), ha = 'center', va = \"center\", xytext = (0, 10), textcoords = 'offset points')"
   ]
  },
  {
   "cell_type": "markdown",
   "metadata": {},
   "source": [
    "# Random Forest"
   ]
  },
  {
   "cell_type": "code",
   "execution_count": 42,
   "metadata": {},
   "outputs": [],
   "source": [
    "# Create the RF model\n",
    "clf = RandomForestClassifier(bootstrap=True, \n",
    "                            class_weight=None, \n",
    "                            criterion='gini',\n",
    "                            min_samples_leaf=3,\n",
    "                            n_estimators=1000,\n",
    "                            max_depth=5, \n",
    "                            random_state=42)"
   ]
  },
  {
   "cell_type": "code",
   "execution_count": 43,
   "metadata": {},
   "outputs": [],
   "source": [
    "# Fit the model on train dataset and then predict\n",
    "clf.fit(X_train_scaled, y_train)\n",
    "y_pred = clf.predict(X_train_scaled)"
   ]
  },
  {
   "cell_type": "code",
   "execution_count": 44,
   "metadata": {},
   "outputs": [
    {
     "data": {
      "text/html": [
       "<div>\n",
       "<style scoped>\n",
       "    .dataframe tbody tr th:only-of-type {\n",
       "        vertical-align: middle;\n",
       "    }\n",
       "\n",
       "    .dataframe tbody tr th {\n",
       "        vertical-align: top;\n",
       "    }\n",
       "\n",
       "    .dataframe thead th {\n",
       "        text-align: right;\n",
       "    }\n",
       "</style>\n",
       "<table border=\"1\" class=\"dataframe\">\n",
       "  <thead>\n",
       "    <tr style=\"text-align: right;\">\n",
       "      <th></th>\n",
       "      <th>0</th>\n",
       "      <th>1</th>\n",
       "      <th>accuracy</th>\n",
       "      <th>macro avg</th>\n",
       "      <th>weighted avg</th>\n",
       "    </tr>\n",
       "  </thead>\n",
       "  <tbody>\n",
       "    <tr>\n",
       "      <th>precision</th>\n",
       "      <td>0.823911</td>\n",
       "      <td>0.697385</td>\n",
       "      <td>0.801333</td>\n",
       "      <td>0.760648</td>\n",
       "      <td>0.789862</td>\n",
       "    </tr>\n",
       "    <tr>\n",
       "      <th>recall</th>\n",
       "      <td>0.926117</td>\n",
       "      <td>0.462428</td>\n",
       "      <td>0.801333</td>\n",
       "      <td>0.694273</td>\n",
       "      <td>0.801333</td>\n",
       "    </tr>\n",
       "    <tr>\n",
       "      <th>f1-score</th>\n",
       "      <td>0.872030</td>\n",
       "      <td>0.556107</td>\n",
       "      <td>0.801333</td>\n",
       "      <td>0.714069</td>\n",
       "      <td>0.787012</td>\n",
       "    </tr>\n",
       "    <tr>\n",
       "      <th>support</th>\n",
       "      <td>3289.000000</td>\n",
       "      <td>1211.000000</td>\n",
       "      <td>0.801333</td>\n",
       "      <td>4500.000000</td>\n",
       "      <td>4500.000000</td>\n",
       "    </tr>\n",
       "  </tbody>\n",
       "</table>\n",
       "</div>"
      ],
      "text/plain": [
       "                     0            1  accuracy    macro avg  weighted avg\n",
       "precision     0.823911     0.697385  0.801333     0.760648      0.789862\n",
       "recall        0.926117     0.462428  0.801333     0.694273      0.801333\n",
       "f1-score      0.872030     0.556107  0.801333     0.714069      0.787012\n",
       "support    3289.000000  1211.000000  0.801333  4500.000000   4500.000000"
      ]
     },
     "execution_count": 44,
     "metadata": {},
     "output_type": "execute_result"
    }
   ],
   "source": [
    "#classification report for train dataset with default threshold of 0.5\n",
    "pd.DataFrame(classification_report(y_train, y_pred, output_dict=True))"
   ]
  },
  {
   "cell_type": "code",
   "execution_count": 45,
   "metadata": {},
   "outputs": [
    {
     "name": "stdout",
     "output_type": "stream",
     "text": [
      "              precision    recall  f1-score   support\n",
      "\n",
      "           0       0.91      0.73      0.81      3289\n",
      "           1       0.53      0.81      0.64      1211\n",
      "\n",
      "    accuracy                           0.75      4500\n",
      "   macro avg       0.72      0.77      0.73      4500\n",
      "weighted avg       0.81      0.75      0.77      4500\n",
      "\n"
     ]
    }
   ],
   "source": [
    "# Next we change the thershold to optimize for F1 score\n",
    "y_pred_proba = clf.predict_proba(X_train_scaled)\n",
    "y_pred_proba = pd.DataFrame(y_pred_proba, columns = ['no churn', 'churn'])\n",
    "t = 0.3\n",
    "yhat = (y_pred_proba > t).astype(int)\n",
    "print(classification_report(y_train, yhat.churn))"
   ]
  },
  {
   "cell_type": "markdown",
   "metadata": {},
   "source": [
    "### The F1 score above looks good. Next we use this model on validation dataset"
   ]
  },
  {
   "cell_type": "code",
   "execution_count": 46,
   "metadata": {},
   "outputs": [
    {
     "name": "stdout",
     "output_type": "stream",
     "text": [
      "              precision    recall  f1-score   support\n",
      "\n",
      "           0       0.91      0.76      0.82       823\n",
      "           1       0.54      0.79      0.64       302\n",
      "\n",
      "    accuracy                           0.77      1125\n",
      "   macro avg       0.73      0.77      0.73      1125\n",
      "weighted avg       0.81      0.77      0.78      1125\n",
      "\n"
     ]
    }
   ],
   "source": [
    "# use model on validation dataset and print classification report (threshold set to 0.3)\n",
    "y_pred = clf.predict(X_validate_scaled)\n",
    "y_pred_proba = clf.predict_proba(X_validate_scaled)\n",
    "y_pred_proba = pd.DataFrame(y_pred_proba, columns = ['no churn', 'churn'])\n",
    "t = 0.3\n",
    "yhat = (y_pred_proba > t).astype(int)\n",
    "print(classification_report(y_validate, yhat.churn))"
   ]
  },
  {
   "cell_type": "markdown",
   "metadata": {},
   "source": [
    "### The model's performance on validation dataset is similar to that on training dataset\n",
    "***"
   ]
  },
  {
   "cell_type": "markdown",
   "metadata": {},
   "source": [
    "\n",
    "# K Neighbor (KNN)"
   ]
  },
  {
   "cell_type": "code",
   "execution_count": 47,
   "metadata": {},
   "outputs": [],
   "source": [
    "# create a model with 5 neightbors and uniform weight\n",
    "knn = KNeighborsClassifier(n_neighbors=5, weights='uniform')"
   ]
  },
  {
   "cell_type": "code",
   "execution_count": 48,
   "metadata": {},
   "outputs": [
    {
     "data": {
      "text/plain": [
       "KNeighborsClassifier(algorithm='auto', leaf_size=30, metric='minkowski',\n",
       "                     metric_params=None, n_jobs=None, n_neighbors=5, p=2,\n",
       "                     weights='uniform')"
      ]
     },
     "execution_count": 48,
     "metadata": {},
     "output_type": "execute_result"
    }
   ],
   "source": [
    "# Fit the model on train data\n",
    "knn.fit(X_train_scaled, y_train)"
   ]
  },
  {
   "cell_type": "code",
   "execution_count": 49,
   "metadata": {},
   "outputs": [
    {
     "name": "stdout",
     "output_type": "stream",
     "text": [
      "              precision    recall  f1-score   support\n",
      "\n",
      "           0       0.88      0.91      0.90      3289\n",
      "           1       0.74      0.65      0.69      1211\n",
      "\n",
      "    accuracy                           0.84      4500\n",
      "   macro avg       0.81      0.78      0.79      4500\n",
      "weighted avg       0.84      0.84      0.84      4500\n",
      "\n"
     ]
    }
   ],
   "source": [
    "# predict using train dataset and print classification report (default threshold of 0.5)\n",
    "y_pred = knn.predict(X_train_scaled)\n",
    "print(classification_report(y_train, y_pred))"
   ]
  },
  {
   "cell_type": "code",
   "execution_count": 50,
   "metadata": {},
   "outputs": [
    {
     "name": "stdout",
     "output_type": "stream",
     "text": [
      "              precision    recall  f1-score   support\n",
      "\n",
      "           0       0.94      0.80      0.86      3289\n",
      "           1       0.61      0.85      0.71      1211\n",
      "\n",
      "    accuracy                           0.81      4500\n",
      "   macro avg       0.77      0.83      0.79      4500\n",
      "weighted avg       0.85      0.81      0.82      4500\n",
      "\n"
     ]
    }
   ],
   "source": [
    "# use model on train dataset and using threshold value of 0.3\n",
    "y_pred_proba = knn.predict_proba(X_train_scaled)\n",
    "y_pred_proba = pd.DataFrame(y_pred_proba, columns = ['no churn', 'churn'])\n",
    "t = 0.30\n",
    "yhat = (y_pred_proba > t).astype(int)\n",
    "print(classification_report(y_train, yhat.churn))"
   ]
  },
  {
   "cell_type": "code",
   "execution_count": 51,
   "metadata": {},
   "outputs": [
    {
     "name": "stdout",
     "output_type": "stream",
     "text": [
      "              precision    recall  f1-score   support\n",
      "\n",
      "           0       0.87      0.75      0.81       823\n",
      "           1       0.51      0.71      0.59       302\n",
      "\n",
      "    accuracy                           0.74      1125\n",
      "   macro avg       0.69      0.73      0.70      1125\n",
      "weighted avg       0.78      0.74      0.75      1125\n",
      "\n"
     ]
    }
   ],
   "source": [
    "# use model on validate dataset and using threshold value of 0.3\n",
    "y_pred = knn.predict(X_validate_scaled)\n",
    "y_pred_proba = knn.predict_proba(X_validate_scaled)\n",
    "y_pred_proba = pd.DataFrame(y_pred_proba, columns = ['no churn', 'churn'])\n",
    "t = 0.3\n",
    "yhat = (y_pred_proba > t).astype(int)\n",
    "print(classification_report(y_validate, yhat.churn))"
   ]
  },
  {
   "cell_type": "markdown",
   "metadata": {},
   "source": [
    "### The performance of KNN model is worse compared on validation vs train dataset (F1 value fell from 0.71 to 0.59) \n",
    "***"
   ]
  },
  {
   "cell_type": "markdown",
   "metadata": {},
   "source": [
    "## Next we plot the ROC curves for all three models above to choose the best model. The plots below use validate dataset"
   ]
  },
  {
   "cell_type": "code",
   "execution_count": 52,
   "metadata": {},
   "outputs": [
    {
     "data": {
      "image/png": "[encoded data removed]",
      "text/plain": [
       "<Figure size 720x432 with 1 Axes>"
      ]
     },
     "metadata": {},
     "output_type": "display_data"
    }
   ],
   "source": [
    "# plot the ROC curves\n",
    "plt.figure(figsize=(10,6))\n",
    "\n",
    "y_pred = logit.predict_proba(X_validate_scaled)[:,1]\n",
    "fpr, tpr, thresholds = roc_curve(y_validate, y_pred)\n",
    "plt.plot(fpr, tpr, color='red', lw=2, label='LogisticRegression (area = %0.2f)' % auc(fpr, tpr))\n",
    "         \n",
    "y_pred = knn.predict_proba(X_validate_scaled)[:,1]\n",
    "fpr, tpr, thresholds = roc_curve(y_validate, y_pred)\n",
    "plt.plot(fpr, tpr, color='yellow', lw=3, label='KNN (area = %0.2f)' % auc(fpr, tpr))\n",
    "\n",
    "\n",
    "y_pred = clf.predict_proba(X_validate_scaled)[:,1]\n",
    "fpr, tpr, thresholds = roc_curve(y_validate, y_pred)\n",
    "plt.plot(fpr, tpr, color='brown', lw=2, label='RandomForest (area = %0.2f)' % auc(fpr, tpr))\n",
    "\n",
    "plt.plot([0, 1], [0, 1], color='navy', lw=2, linestyle= '-', label = 'Random Guess')\n",
    "plt.xlim([0.0, 1.0])\n",
    "plt.ylim([0.0, 1.0])\n",
    "plt.xlabel('False Positive Rate', fontsize=13)\n",
    "plt.ylabel('True Positive Rate', fontsize=14)\n",
    "plt.title('Receiver Operating Characteristic', fontsize=17)\n",
    "plt.legend(loc='lower right', fontsize=13)\n",
    "plt.show()"
   ]
  },
  {
   "cell_type": "markdown",
   "metadata": {},
   "source": [
    "# The plot above shows that Area under Curve (AUC of Logistics Regression and Random Forest is higest 0.84.\n",
    "\n",
    "# We finally chose to use Logistic Regression model since it is more robost (less variation) compared to Random Forest"
   ]
  },
  {
   "cell_type": "markdown",
   "metadata": {},
   "source": [
    "### Finally we run our finalized model (logistic regression) on test dataset to confirm that the model is not overfitted"
   ]
  },
  {
   "cell_type": "code",
   "execution_count": 53,
   "metadata": {},
   "outputs": [
    {
     "name": "stdout",
     "output_type": "stream",
     "text": [
      "              precision    recall  f1-score   support\n",
      "\n",
      "           0       0.91      0.73      0.81      1051\n",
      "           1       0.50      0.79      0.61       356\n",
      "\n",
      "    accuracy                           0.75      1407\n",
      "   macro avg       0.71      0.76      0.71      1407\n",
      "weighted avg       0.81      0.75      0.76      1407\n",
      "\n"
     ]
    }
   ],
   "source": [
    "# Here we evaluate our finalized logistic regression model on test dataset\n",
    "y_pred = logit.predict(X_test_scaled)\n",
    "y_pred_proba = logit.predict_proba(X_test_scaled)\n",
    "y_pred_proba = pd.DataFrame(y_pred_proba, columns = ['no churn', 'churn'])\n",
    "t = 0.3\n",
    "yhat = (y_pred_proba > t).astype(int)\n",
    "print(classification_report(y_test, yhat.churn))"
   ]
  },
  {
   "cell_type": "markdown",
   "metadata": {},
   "source": [
    "# The F1 value on test data is 0.61 compared to 0.63 on training and validate dataset. So we conclude that our model is not overfit and we can use for our predicting Churn.   Success!!"
   ]
  },
  {
   "cell_type": "markdown",
   "metadata": {},
   "source": [
    "## Finally we generate a CSV file which predicts churn probability and churn prediction for whole dataset"
   ]
  },
  {
   "cell_type": "code",
   "execution_count": 124,
   "metadata": {},
   "outputs": [],
   "source": [
    "y_df = df[['churn']]\n",
    "X_df = df[['senior_citizen', 'tech_support', 'contract_type', 'internet_service_type','payment_type','tenure_years', 'total_charges']]"
   ]
  },
  {
   "cell_type": "code",
   "execution_count": 125,
   "metadata": {},
   "outputs": [],
   "source": [
    "# Next we do onehot encoding for these variables\n",
    "X_df = encode.encode(X_df,l)"
   ]
  },
  {
   "cell_type": "code",
   "execution_count": 126,
   "metadata": {},
   "outputs": [],
   "source": [
    "# scale the whole dataset\n",
    "X_df_scaled = encode.scale_minmax(X_df, column_list)"
   ]
  },
  {
   "cell_type": "code",
   "execution_count": 127,
   "metadata": {},
   "outputs": [],
   "source": [
    "#Predict churn on df dataset using logit function\n",
    "y_pred_proba = logit.predict_proba(X_df_scaled)\n",
    "y_pred_proba = pd.DataFrame(y_pred_proba, columns = ['no churn', 'churn_prob'], index = df.index)\n",
    "t = 0.3\n",
    "y_pred_proba['churn_prediction'] = (y_pred_proba.churn_prob > t).astype(int) \n",
    "y_pred_proba = y_pred_proba.drop(columns = ['no churn'])"
   ]
  },
  {
   "cell_type": "code",
   "execution_count": 128,
   "metadata": {},
   "outputs": [],
   "source": [
    "# Generate final CSV file by merging customer_ids and probablity of customer churn\n",
    "final_csv = df[['customer_id']]\n",
    "final_csv = pd.merge(final_csv, y_pred_proba, left_index = True,right_index= True, how='left')\n",
    "final_csv.to_csv('final_csv.csv')"
   ]
  }
 ],
 "metadata": {
  "kernelspec": {
   "display_name": "Python 3",
   "language": "python",
   "name": "python3"
  },
  "language_info": {
   "codemirror_mode": {
    "name": "ipython",
    "version": 3
   },
   "file_extension": ".py",
   "mimetype": "text/x-python",
   "name": "python",
   "nbconvert_exporter": "python",
   "pygments_lexer": "ipython3",
   "version": "3.7.4"
  }
 },
 "nbformat": 4,
 "nbformat_minor": 2
}
