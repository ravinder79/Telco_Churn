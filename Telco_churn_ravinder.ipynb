{
 "cells": [
  {
   "cell_type": "code",
   "execution_count": 2,
   "metadata": {},
   "outputs": [],
   "source": [
    "import pandas as pd\n",
    "import env\n",
    "import numpy as np\n",
    "import seaborn as sns\n",
    "import matplotlib.pyplot as plt\n",
    "import acquire_r\n",
    "from sklearn.preprocessing import LabelEncoder, OneHotEncoder, MinMaxScaler\n",
    "import sklearn.model_selection\n",
    "import warnings\n",
    "warnings.filterwarnings(\"ignore\")\n",
    "from sklearn.linear_model import LogisticRegression\n",
    "from sklearn.metrics import classification_report\n",
    "from sklearn.metrics import confusion_matrix\n",
    "import logistic_regression_util\n",
    "from sklearn.tree import DecisionTreeClassifier\n",
    "from sklearn.ensemble import RandomForestClassifier\n",
    "from sklearn.neighbors import KNeighborsClassifier\n",
    "# import knn_lesson_util as util\n",
    "import wrangle\n",
    "# import encode\n",
    "sns.set()"
   ]
  },
  {
   "cell_type": "code",
   "execution_count": null,
   "metadata": {},
   "outputs": [],
   "source": [
    "df = acquire_r.get_data_from_sql()"
   ]
  },
  {
   "cell_type": "code",
   "execution_count": null,
   "metadata": {},
   "outputs": [],
   "source": [
    "df.info()"
   ]
  },
  {
   "cell_type": "code",
   "execution_count": null,
   "metadata": {},
   "outputs": [],
   "source": [
    "df.isnull().sum()"
   ]
  },
  {
   "cell_type": "markdown",
   "metadata": {},
   "source": [
    "### Looks like no values are null"
   ]
  },
  {
   "cell_type": "code",
   "execution_count": null,
   "metadata": {},
   "outputs": [],
   "source": [
    "df[['churn']].sort_values(by = 'churn')"
   ]
  },
  {
   "cell_type": "code",
   "execution_count": null,
   "metadata": {},
   "outputs": [],
   "source": [
    "#df = df.str.strip()\n",
    "df['total_charges'] = df['total_charges'].str.strip()"
   ]
  },
  {
   "cell_type": "code",
   "execution_count": null,
   "metadata": {},
   "outputs": [],
   "source": [
    "df = df.replace(r'^\\s*$', np.nan, regex=True)"
   ]
  },
  {
   "cell_type": "code",
   "execution_count": null,
   "metadata": {},
   "outputs": [],
   "source": [
    "df.isnull().sum()"
   ]
  },
  {
   "cell_type": "code",
   "execution_count": null,
   "metadata": {},
   "outputs": [],
   "source": [
    "# I am going to drop the 11 'blank' (and then converted to null) values in total_charges column\n",
    "df = df.dropna()"
   ]
  },
  {
   "cell_type": "code",
   "execution_count": null,
   "metadata": {},
   "outputs": [],
   "source": [
    "# convert total_charges from str to float values:\n",
    "df.total_charges = df.total_charges.astype(float)"
   ]
  },
  {
   "cell_type": "code",
   "execution_count": null,
   "metadata": {},
   "outputs": [],
   "source": [
    "df.head(2)"
   ]
  },
  {
   "cell_type": "code",
   "execution_count": null,
   "metadata": {},
   "outputs": [],
   "source": [
    "df.churn.value_counts()"
   ]
  },
  {
   "cell_type": "code",
   "execution_count": null,
   "metadata": {},
   "outputs": [],
   "source": [
    "df = df.replace('Yes', 1)\n",
    "df = df.replace('No', 0)\n",
    "df = df.replace('No internet service', 2)"
   ]
  },
  {
   "cell_type": "code",
   "execution_count": null,
   "metadata": {},
   "outputs": [],
   "source": [
    "df.head(2)"
   ]
  },
  {
   "cell_type": "code",
   "execution_count": null,
   "metadata": {},
   "outputs": [],
   "source": [
    "train, test = sklearn.model_selection.train_test_split(df, train_size=.8, random_state=42)"
   ]
  },
  {
   "cell_type": "code",
   "execution_count": null,
   "metadata": {},
   "outputs": [],
   "source": [
    "train, validate = sklearn.model_selection.train_test_split(train, train_size=.8, random_state=42)"
   ]
  },
  {
   "cell_type": "code",
   "execution_count": null,
   "metadata": {
    "scrolled": true
   },
   "outputs": [],
   "source": [
    "train['tenure_years'] = train.tenure/12\n",
    "train['log_total_charges'] = np.log(train.total_charges)\n",
    "train.tenure_years = train.tenure_years.apply(np.floor)\n",
    "\n",
    "validate['tenure_years'] = validate.tenure/12\n",
    "validate['log_total_charges'] = np.log(validate.total_charges)\n",
    "validate.tenure_years = validate.tenure_years.apply(np.floor)\n",
    "\n",
    "test['tenure_years'] = test.tenure/12\n",
    "test['log_total_charges'] = np.log(test.total_charges)\n",
    "test.tenure_years = test.tenure_years.apply(np.floor)\n",
    "train.head(3)"
   ]
  },
  {
   "cell_type": "code",
   "execution_count": null,
   "metadata": {},
   "outputs": [],
   "source": [
    "train, test = sklearn.model_selection.train_test_split(df, train_size=.8, random_state=42)\n",
    "train.shape"
   ]
  },
  {
   "cell_type": "code",
   "execution_count": null,
   "metadata": {},
   "outputs": [],
   "source": [
    "train['services'] = train.online_security + train.online_backup + train.device_protection + train.tech_support + train.streaming_tv"
   ]
  },
  {
   "cell_type": "code",
   "execution_count": null,
   "metadata": {
    "scrolled": true
   },
   "outputs": [],
   "source": [
    "train.head(2)"
   ]
  },
  {
   "cell_type": "code",
   "execution_count": null,
   "metadata": {},
   "outputs": [],
   "source": [
    "churn = train[train.churn==1]\n",
    "no_churn = train[train.churn==0]"
   ]
  },
  {
   "cell_type": "code",
   "execution_count": null,
   "metadata": {},
   "outputs": [],
   "source": [
    "sns.lineplot(x='tenure', y = 'services', data = churn[train.tenure<24][train.internet_service_type_id != 3],label = 'churn')\n",
    "sns.lineplot(x='tenure', y = 'services', data = no_churn[train.tenure<24][train.internet_service_type_id != 3], label = 'no_churn')\n",
    "plt.title('Tenure vs no of services')"
   ]
  },
  {
   "cell_type": "code",
   "execution_count": null,
   "metadata": {},
   "outputs": [],
   "source": [
    "a = train[train.churn ==1].groupby('tenure').monthly_charges.agg(['mean', 'std'])"
   ]
  },
  {
   "cell_type": "code",
   "execution_count": null,
   "metadata": {},
   "outputs": [],
   "source": [
    "b = train[train.churn ==0].groupby('tenure').monthly_charges.agg(['mean', 'std'])"
   ]
  },
  {
   "cell_type": "code",
   "execution_count": null,
   "metadata": {
    "scrolled": true
   },
   "outputs": [],
   "source": [
    "c = pd.concat([pd.DataFrame(a), pd.DataFrame(b)], axis =1)\n",
    "c.columns = [ 'churn', 'churn_sd', 'no_churn', 'no_churn_sd']\n",
    "c = c.reset_index()"
   ]
  },
  {
   "cell_type": "code",
   "execution_count": null,
   "metadata": {},
   "outputs": [],
   "source": [
    "sns.lineplot(x = 'tenure',y = 'churn', data = c, label = 'Churned')\n",
    "sns.lineplot(x = 'tenure', y = 'no_churn', data = c, label = \"No Churn\")\n",
    "plt.ylabel(' Average Monthly Charges')"
   ]
  },
  {
   "cell_type": "code",
   "execution_count": null,
   "metadata": {},
   "outputs": [],
   "source": [
    "train.tenure.mean()"
   ]
  },
  {
   "cell_type": "code",
   "execution_count": null,
   "metadata": {},
   "outputs": [],
   "source": [
    "churn.senior_citizen.value_counts()"
   ]
  },
  {
   "cell_type": "code",
   "execution_count": null,
   "metadata": {},
   "outputs": [],
   "source": [
    "no_churn.senior_citizen.value_counts()"
   ]
  },
  {
   "cell_type": "code",
   "execution_count": null,
   "metadata": {},
   "outputs": [],
   "source": [
    "sns.lineplot(x='tenure', y = 'senior_citizen', data = train[train.churn==1], ci =95, label = 'churn')\n",
    "sns.lineplot(x='tenure', y = 'senior_citizen', data = train[train.churn==0], ci =95, label = 'no_churn')"
   ]
  },
  {
   "cell_type": "code",
   "execution_count": null,
   "metadata": {},
   "outputs": [],
   "source": [
    "sns.lineplot(x='tenure', y = 'dependents', data = train[train.churn==1], ci =95, label = 'churn')\n",
    "sns.lineplot(x='tenure', y = 'dependents', data = train[train.churn==0], ci =95, label = 'no_churn')"
   ]
  },
  {
   "cell_type": "code",
   "execution_count": null,
   "metadata": {},
   "outputs": [],
   "source": [
    "sns.lineplot(x='tenure', y = 'monthly_charges', data = train[train.churn==1], ci =95, label = 'churn')\n",
    "sns.lineplot(x='tenure', y = 'monthly_charges', data = train[train.churn==0], ci =95, label = 'no_churn')"
   ]
  },
  {
   "cell_type": "code",
   "execution_count": null,
   "metadata": {},
   "outputs": [],
   "source": [
    "fo = churn[churn.internet_service_type == 'Fiber optic']\\\n",
    "                  [churn.phone_service ==1]\n",
    "dsl = churn[churn.internet_service_type == 'DSL']\\\n",
    "                  [churn.phone_service ==0]\n",
    "dsl_ph = churn[churn.internet_service_type == 'DSL']\\\n",
    "                  [churn.phone_service ==1]\n",
    "ph =churn[churn.internet_service_type == 'None']\\\n",
    "                  [churn.phone_service ==1]\n",
    "\n",
    "fo0 = no_churn[no_churn.internet_service_type == 'Fiber optic']\\\n",
    "                  [no_churn.phone_service ==1]\n",
    "dsl0 = no_churn[no_churn.internet_service_type == 'DSL']\\\n",
    "                  [no_churn.phone_service ==0]\n",
    "dsl_ph0 = no_churn[no_churn.internet_service_type == 'DSL']\\\n",
    "                  [no_churn.phone_service ==1]\n",
    "ph0 = no_churn[no_churn.internet_service_type == 'None']\\\n",
    "                  [no_churn.phone_service ==1]"
   ]
  },
  {
   "cell_type": "code",
   "execution_count": null,
   "metadata": {},
   "outputs": [],
   "source": [
    "fo.shape, dsl.shape, dsl_ph.shape, ph.shape"
   ]
  },
  {
   "cell_type": "code",
   "execution_count": null,
   "metadata": {},
   "outputs": [],
   "source": [
    "fo0.shape, dsl0.shape, dsl_ph0.shape, ph0.shape"
   ]
  },
  {
   "cell_type": "code",
   "execution_count": null,
   "metadata": {},
   "outputs": [],
   "source": [
    "plt.figure(figsize = (12,9))\n",
    "sns.lineplot(x='tenure', y = 'monthly_charges', data = fo)\n",
    "sns.lineplot(x='tenure', y = 'monthly_charges', data = fo0)\n",
    "\n",
    "\n",
    "sns.lineplot(x='tenure', y = 'monthly_charges', data = dsl)\n",
    "sns.lineplot(x='tenure', y = 'monthly_charges', data = dsl0)\n",
    "\n",
    "\n",
    "sns.lineplot(x='tenure', y = 'monthly_charges', data = dsl_ph)\n",
    "sns.lineplot(x='tenure', y = 'monthly_charges', data = dsl_ph0)\n",
    "\n",
    "\n",
    "sns.lineplot(x='tenure', y = 'monthly_charges', data = ph)\n",
    "sns.lineplot(x='tenure', y = 'monthly_charges', data = ph0)"
   ]
  },
  {
   "cell_type": "code",
   "execution_count": null,
   "metadata": {},
   "outputs": [],
   "source": [
    "plt.figure(figsize = (12,9))\n",
    "sns.lineplot(x='tenure', y = 'monthly_charges', data = fo, label = 'churn', err_style= None)\n",
    "sns.lineplot(x='tenure', y = 'monthly_charges', data = fo0, label = 'no_churn', err_style = None)\n",
    "plt.title ('Tenure vs monthly charges for Fiber Optic Service ')"
   ]
  },
  {
   "cell_type": "code",
   "execution_count": null,
   "metadata": {},
   "outputs": [],
   "source": [
    "plt.figure(figsize = (12,9))\n",
    "sns.lineplot(x='tenure', y = 'monthly_charges', data = dsl,label = 'churn')\n",
    "sns.lineplot(x='tenure', y = 'monthly_charges', data = dsl0, label = 'no_churn')\n",
    "plt.title ('Tenure vs monthly charges for DSL Service ')"
   ]
  },
  {
   "cell_type": "code",
   "execution_count": null,
   "metadata": {},
   "outputs": [],
   "source": [
    "plt.figure(figsize = (12,9))\n",
    "sns.lineplot(x='tenure', y = 'monthly_charges', data = ph, label = 'churn')\n",
    "sns.lineplot(x='tenure', y = 'monthly_charges', data = ph0, label = 'no_churn')\n",
    "plt.title ('Tenure vs monthly charges for Phone only Service ')"
   ]
  },
  {
   "cell_type": "code",
   "execution_count": null,
   "metadata": {},
   "outputs": [],
   "source": [
    "sns.lineplot(x='tenure', y = 'monthly_charges', data = dsl_ph, label = 'churn')\n",
    "sns.lineplot(x='tenure', y = 'monthly_charges', data = dsl_ph0, label = 'no_churn')\n",
    "plt.title ('Tenure vs monthly charges for DSL + Ph Service ')"
   ]
  },
  {
   "cell_type": "code",
   "execution_count": null,
   "metadata": {},
   "outputs": [],
   "source": [
    "d = pd.crosstab(train[train.internet_service_type=='Fiber optic'].tenure,train[train.internet_service_type=='Fiber optic'].churn ).reset_index()"
   ]
  },
  {
   "cell_type": "code",
   "execution_count": null,
   "metadata": {},
   "outputs": [],
   "source": [
    "sns.lineplot(x= 'tenure', y =d[1], data = d)\n",
    "sns.lineplot(x= 'tenure', y =d[0], data = d)"
   ]
  },
  {
   "cell_type": "code",
   "execution_count": null,
   "metadata": {},
   "outputs": [],
   "source": [
    "churn.info()"
   ]
  },
  {
   "cell_type": "code",
   "execution_count": null,
   "metadata": {},
   "outputs": [],
   "source": [
    "fo = (pd.DataFrame(churn[train.internet_service_type == 'Fiber optic']\\\n",
    "                  [churn.phone_service ==1].groupby('tenure').monthly_charges.mean())).reset_index()"
   ]
  },
  {
   "cell_type": "code",
   "execution_count": null,
   "metadata": {},
   "outputs": [],
   "source": [
    "dsl_ph = (pd.DataFrame(churn[train.internet_service_type == 'DSL']\\\n",
    "                  [churn.phone_service ==1].groupby('tenure').monthly_charges.mean())).reset_index()"
   ]
  },
  {
   "cell_type": "code",
   "execution_count": null,
   "metadata": {},
   "outputs": [],
   "source": [
    "dsl = (pd.DataFrame(churn[train.internet_service_type == 'DSL']\\\n",
    "                  [churn.phone_service ==0].groupby('tenure').monthly_charges.mean())).reset_index()"
   ]
  },
  {
   "cell_type": "code",
   "execution_count": null,
   "metadata": {},
   "outputs": [],
   "source": [
    "ph = (pd.DataFrame(churn[train.internet_service_type == 'None']\\\n",
    "                  [churn.phone_service ==1].groupby('tenure').monthly_charges.mean())).reset_index()"
   ]
  },
  {
   "cell_type": "code",
   "execution_count": null,
   "metadata": {},
   "outputs": [],
   "source": [
    "fo0 = (pd.DataFrame(no_churn[train.internet_service_type == 'Fiber optic']\\\n",
    "                  [no_churn.phone_service ==1].groupby('tenure').monthly_charges.mean())).reset_index()\n",
    "dsl_ph0 = (pd.DataFrame(no_churn[train.internet_service_type == 'DSL']\\\n",
    "                  [no_churn.phone_service ==1].groupby('tenure').monthly_charges.mean())).reset_index()\n",
    "dsl0 = (pd.DataFrame(no_churn[train.internet_service_type == 'DSL']\\\n",
    "                  [no_churn.phone_service ==0].groupby('tenure').monthly_charges.mean())).reset_index()\n",
    "ph0 = (pd.DataFrame(no_churn[train.internet_service_type == 'None']\\\n",
    "                  [no_churn.phone_service ==1].groupby('tenure').monthly_charges.mean())).reset_index()"
   ]
  },
  {
   "cell_type": "code",
   "execution_count": null,
   "metadata": {},
   "outputs": [],
   "source": [
    "sns.lineplot(x = 'tenure', y = 'monthly_charges', data = fo, label = 'Churned')\n",
    "sns.lineplot(x = 'tenure', y = 'monthly_charges', data = fo0, label = \"No Churn\")\n",
    "plt.ylabel(' Average Monthly Charges')"
   ]
  },
  {
   "cell_type": "code",
   "execution_count": null,
   "metadata": {},
   "outputs": [],
   "source": [
    "sns.lineplot(x = 'tenure', y = 'monthly_charges', data = dsl, label = 'Churned')\n",
    "sns.lineplot(x = 'tenure', y = 'monthly_charges', data = dsl0, label = \"No Churn\")\n",
    "plt.ylabel(' Average Monthly Charges')"
   ]
  },
  {
   "cell_type": "code",
   "execution_count": null,
   "metadata": {
    "scrolled": true
   },
   "outputs": [],
   "source": [
    "sns.lineplot(x = 'tenure', y = 'monthly_charges', data = dsl_ph, label = 'Churned')\n",
    "sns.lineplot(x = 'tenure', y = 'monthly_charges', data = dsl_ph0, label = \"No Churn\")\n",
    "plt.ylabel(' Average Monthly Charges')"
   ]
  },
  {
   "cell_type": "code",
   "execution_count": null,
   "metadata": {},
   "outputs": [],
   "source": [
    "sns.lineplot(x = 'tenure', y = 'monthly_charges', data = ph, label = 'Churned')\n",
    "sns.lineplot(x = 'tenure', y = 'monthly_charges', data = ph0, label = \"No Churn\")\n",
    "plt.ylabel(' Average Monthly Charges')"
   ]
  },
  {
   "cell_type": "code",
   "execution_count": null,
   "metadata": {},
   "outputs": [],
   "source": [
    "churn.shape, no_churn.shape"
   ]
  },
  {
   "cell_type": "code",
   "execution_count": null,
   "metadata": {},
   "outputs": [],
   "source": [
    "pd.crosstab(churn.internet_service_type, churn.churn, normalize = 'columns')"
   ]
  },
  {
   "cell_type": "code",
   "execution_count": null,
   "metadata": {},
   "outputs": [],
   "source": [
    "pd.crosstab(no_churn.internet_service_type, no_churn.churn, normalize = 'columns')"
   ]
  },
  {
   "cell_type": "code",
   "execution_count": null,
   "metadata": {},
   "outputs": [],
   "source": []
  },
  {
   "cell_type": "code",
   "execution_count": null,
   "metadata": {},
   "outputs": [],
   "source": []
  },
  {
   "cell_type": "code",
   "execution_count": null,
   "metadata": {},
   "outputs": [],
   "source": [
    "test.tenure_years.max()"
   ]
  },
  {
   "cell_type": "code",
   "execution_count": null,
   "metadata": {},
   "outputs": [],
   "source": [
    "train_plot = train[['tenure', 'total_charges', 'monthly_charges', 'log_total_charges','churn']]"
   ]
  },
  {
   "cell_type": "code",
   "execution_count": null,
   "metadata": {},
   "outputs": [],
   "source": [
    "corr = train.corr()\n",
    "corr"
   ]
  },
  {
   "cell_type": "code",
   "execution_count": null,
   "metadata": {},
   "outputs": [],
   "source": [
    "sns.pairplot(train_plot, vars = train_plot.columns[:-1], hue='churn', plot_kws=dict(alpha=.4, edgecolor='none'))"
   ]
  },
  {
   "cell_type": "code",
   "execution_count": null,
   "metadata": {},
   "outputs": [],
   "source": [
    "train_plot = train[['churn', 'contract_type_id']]"
   ]
  },
  {
   "cell_type": "code",
   "execution_count": null,
   "metadata": {},
   "outputs": [],
   "source": [
    "train.contract_type.value_counts()"
   ]
  },
  {
   "cell_type": "code",
   "execution_count": null,
   "metadata": {},
   "outputs": [],
   "source": [
    "pd.crosstab(train.churn, train.contract_type_id, normalize = 'columns')"
   ]
  },
  {
   "cell_type": "markdown",
   "metadata": {},
   "source": [
    "### Based on this,  month to month customers are most likely to churn"
   ]
  },
  {
   "cell_type": "code",
   "execution_count": null,
   "metadata": {},
   "outputs": [],
   "source": [
    "pd.crosstab(train.churn, train.payment_type_id, normalize = 'columns')"
   ]
  },
  {
   "cell_type": "code",
   "execution_count": null,
   "metadata": {},
   "outputs": [],
   "source": [
    "t = pd.crosstab(train.tenure_years,train.churn, normalize = 'index')\n",
    "t"
   ]
  },
  {
   "cell_type": "markdown",
   "metadata": {},
   "source": [
    "Customers with lower tenure are more likely to churn"
   ]
  },
  {
   "cell_type": "markdown",
   "metadata": {},
   "source": [
    " ### Is there a tenure that month-to-month customers are most likely to churn? 1-year contract customers?\\\n",
    "\n"
   ]
  },
  {
   "cell_type": "code",
   "execution_count": null,
   "metadata": {},
   "outputs": [],
   "source": [
    "ten0 = pd.crosstab(train[train.contract_type_id ==1].tenure_years,train[train.contract_type_id ==1].churn, normalize = 'index')\n",
    "ten0"
   ]
  },
  {
   "cell_type": "code",
   "execution_count": null,
   "metadata": {},
   "outputs": [],
   "source": [
    "ten0.plot(kind='bar', stacked=True)"
   ]
  },
  {
   "cell_type": "code",
   "execution_count": null,
   "metadata": {},
   "outputs": [],
   "source": [
    "ten1 = pd.crosstab(train[train.contract_type_id ==2].tenure_years,train[train.contract_type_id ==2].churn, normalize = 'index')\n",
    "ten1"
   ]
  },
  {
   "cell_type": "code",
   "execution_count": null,
   "metadata": {},
   "outputs": [],
   "source": [
    "ten1.plot(kind='bar', stacked=True)"
   ]
  },
  {
   "cell_type": "markdown",
   "metadata": {},
   "source": [
    "###  2-year customers? Do you have any thoughts on what could be going on? (Be sure to state these thoughts not as facts but as untested hypotheses. Unless you test them!).\\"
   ]
  },
  {
   "cell_type": "code",
   "execution_count": null,
   "metadata": {},
   "outputs": [],
   "source": [
    "ten2 = pd.crosstab(train[train.contract_type_id ==3].tenure_years, train[train.contract_type_id ==3].churn,  normalize = 'index')\n",
    "ten2"
   ]
  },
  {
   "cell_type": "code",
   "execution_count": null,
   "metadata": {},
   "outputs": [],
   "source": [
    "ten2.plot(kind='bar', stacked=True)"
   ]
  },
  {
   "cell_type": "markdown",
   "metadata": {},
   "source": [
    "###  Plot the rate of churn on a line chart where x is the tenure and y is the rate of churn (customers churned/total customers)."
   ]
  },
  {
   "cell_type": "code",
   "execution_count": null,
   "metadata": {},
   "outputs": [],
   "source": [
    "sns.lineplot( x = ten0.index, y = ten0[1], data = ten0, label = 'month to month')\n",
    "sns.lineplot( x = ten1.index, y = ten1[1], data = ten1, label = 'one year contract')\n",
    "sns.lineplot( x = ten2.index, y = ten2[1], data = ten2, label = 'two year contract')\n",
    "sns.lineplot( x = t.index, y = t[1], data = t, label = 'All Customers')\n",
    "plt.title(\"% of customers churning\")\n",
    "plt.xlabel('Tenure (years)')\n",
    "plt.ylabel('% Churn')"
   ]
  },
  {
   "cell_type": "markdown",
   "metadata": {},
   "source": [
    "### Based on this the month-to month customers are most likely to churn early in their tenure\n",
    "***"
   ]
  },
  {
   "cell_type": "markdown",
   "metadata": {},
   "source": [
    "### Are there features that indicate a higher propensity to churn? like type of internet service, type of phone service, online security and backup, senior citizens, paying more than x% of customers with the same services, etc.?"
   ]
  },
  {
   "cell_type": "code",
   "execution_count": null,
   "metadata": {},
   "outputs": [],
   "source": [
    "df_plot = pd.crosstab(train.internet_service_type, train.churn)"
   ]
  },
  {
   "cell_type": "code",
   "execution_count": null,
   "metadata": {},
   "outputs": [],
   "source": [
    "df_plot.plot(kind='bar', stacked=True)"
   ]
  },
  {
   "cell_type": "markdown",
   "metadata": {},
   "source": [
    "### customers with internet type = fibre optics are most likely to churn\n",
    "***"
   ]
  },
  {
   "cell_type": "code",
   "execution_count": null,
   "metadata": {},
   "outputs": [],
   "source": [
    "df_plot = pd.crosstab(train.phone_service, train.churn)\n",
    "df_plot1 = pd.crosstab(train.gender, train.churn)"
   ]
  },
  {
   "cell_type": "code",
   "execution_count": null,
   "metadata": {},
   "outputs": [],
   "source": [
    "#plt.figure(figsize=(16, 6))\n",
    "#plt.subplot(211)\n",
    "df_plot.plot(kind='bar', stacked=True)\n",
    "#plt.subplot(212)\n",
    "df_plot1.plot(kind='bar', stacked=True)"
   ]
  },
  {
   "cell_type": "markdown",
   "metadata": {},
   "source": [
    "### no significant difference in churn for those with and without phone service\n",
    "***"
   ]
  },
  {
   "cell_type": "code",
   "execution_count": null,
   "metadata": {},
   "outputs": [],
   "source": [
    "train[train.internet_service_type == 'Fiber optic'].shape"
   ]
  },
  {
   "cell_type": "code",
   "execution_count": null,
   "metadata": {},
   "outputs": [],
   "source": [
    "i_p90 = train[train.internet_service_type == 'Fiber optic'].monthly_charges.quantile(0.9)\n",
    "i_p90"
   ]
  },
  {
   "cell_type": "code",
   "execution_count": null,
   "metadata": {},
   "outputs": [],
   "source": [
    "train[train.internet_service_type == 'Fiber optic'][train.monthly_charges > i_p90].churn.mean()"
   ]
  },
  {
   "cell_type": "code",
   "execution_count": null,
   "metadata": {},
   "outputs": [],
   "source": [
    "train[train.internet_service_type == 'Fiber optic'][train.monthly_charges < i_p90].churn.mean()"
   ]
  },
  {
   "cell_type": "markdown",
   "metadata": {},
   "source": [
    "### It is so weird that DSL/Fiber optic customers paying more than 90% percentile are less likely to churn than those paying less than 90 percentile!!\n",
    "***"
   ]
  },
  {
   "cell_type": "code",
   "execution_count": null,
   "metadata": {},
   "outputs": [],
   "source": [
    "train.churn.sum()"
   ]
  },
  {
   "cell_type": "code",
   "execution_count": null,
   "metadata": {},
   "outputs": [],
   "source": [
    "train[train.contract_type_id == 1][train.tenure_years <= 2]\\\n",
    "[train.monthly_charges > train.monthly_charges.quantile(0.5)].churn.mean()"
   ]
  },
  {
   "cell_type": "code",
   "execution_count": null,
   "metadata": {},
   "outputs": [],
   "source": [
    "train[train.contract_type_id == 1][train.tenure_years <=2]\\\n",
    "[train.monthly_charges < train.monthly_charges.quantile(0.5)].churn.mean()"
   ]
  },
  {
   "cell_type": "code",
   "execution_count": null,
   "metadata": {},
   "outputs": [],
   "source": [
    "exp = train[train.contract_type_id == 1][train.tenure_years < 2][train.churn==0]\n",
    "exp1 = exp[exp.monthly_charges > exp.monthly_charges.quantile(0.5)]\n",
    "exp2 = exp[exp.monthly_charges < exp.monthly_charges.quantile(0.5)]"
   ]
  },
  {
   "cell_type": "code",
   "execution_count": null,
   "metadata": {},
   "outputs": [],
   "source": [
    "exp.tenure.count()"
   ]
  },
  {
   "cell_type": "code",
   "execution_count": null,
   "metadata": {},
   "outputs": [],
   "source": [
    "exp.monthly_charges.mean()"
   ]
  },
  {
   "cell_type": "code",
   "execution_count": null,
   "metadata": {},
   "outputs": [],
   "source": [
    "exp.churn.value_counts()"
   ]
  },
  {
   "cell_type": "code",
   "execution_count": null,
   "metadata": {},
   "outputs": [],
   "source": [
    "exp1.churn.mean()"
   ]
  },
  {
   "cell_type": "code",
   "execution_count": null,
   "metadata": {},
   "outputs": [],
   "source": [
    "exp2.churn.mean()"
   ]
  },
  {
   "cell_type": "code",
   "execution_count": null,
   "metadata": {},
   "outputs": [],
   "source": [
    "sns.scatterplot(x= 'tenure', y = 'monthly_charges', data = exp, hue = 'churn' )"
   ]
  },
  {
   "cell_type": "markdown",
   "metadata": {},
   "source": [
    "### wow! month to month customers with lower tenure and paying more than 50th percentile are way likely to churn compared to those paying less than 50th percentile!. This is specially true where customer has Fiber optic internet service\n",
    "***"
   ]
  },
  {
   "cell_type": "code",
   "execution_count": null,
   "metadata": {},
   "outputs": [],
   "source": [
    "train[train.contract_type_id == 1][train.monthly_charges > train.monthly_charges.quantile(0.5)].churn.mean()"
   ]
  },
  {
   "cell_type": "code",
   "execution_count": null,
   "metadata": {},
   "outputs": [],
   "source": [
    "train[train.contract_type_id == 1][train.monthly_charges < train.monthly_charges.quantile(0.5)].churn.mean()"
   ]
  },
  {
   "cell_type": "markdown",
   "metadata": {},
   "source": [
    "### If you are month-to-month customers and paying more than 50 percentile, then they are more likely to churn"
   ]
  },
  {
   "cell_type": "code",
   "execution_count": null,
   "metadata": {},
   "outputs": [],
   "source": [
    "train[train.churn == 1].internet_service_type.value_counts(normalize = True)"
   ]
  },
  {
   "cell_type": "markdown",
   "metadata": {},
   "source": [
    "1211 churn\\\n",
    "3289 not churn"
   ]
  },
  {
   "cell_type": "code",
   "execution_count": null,
   "metadata": {},
   "outputs": [],
   "source": [
    "train[train.churn == 0].internet_service_type.value_counts(normalize = True)"
   ]
  },
  {
   "cell_type": "code",
   "execution_count": null,
   "metadata": {},
   "outputs": [],
   "source": [
    "train[train.churn == 1].contract_type.value_counts(normalize = True)"
   ]
  },
  {
   "cell_type": "code",
   "execution_count": null,
   "metadata": {},
   "outputs": [],
   "source": [
    "train[train.churn == 0].contract_type.value_counts(normalize = True)"
   ]
  },
  {
   "cell_type": "code",
   "execution_count": null,
   "metadata": {},
   "outputs": [],
   "source": [
    "sns.countplot(x=\"gender\", hue=\"churn\", data=train)"
   ]
  },
  {
   "cell_type": "code",
   "execution_count": null,
   "metadata": {},
   "outputs": [],
   "source": [
    "sns.countplot(x=\"tenure_years\", hue=\"churn\", data=train)"
   ]
  },
  {
   "cell_type": "code",
   "execution_count": null,
   "metadata": {},
   "outputs": [],
   "source": [
    "sns.countplot(x=\"tenure_years\", hue=\"churn\", data=train[train.monthly_charges > train.monthly_charges.quantile(0.5)])"
   ]
  },
  {
   "cell_type": "code",
   "execution_count": null,
   "metadata": {},
   "outputs": [],
   "source": [
    "train[train.monthly_charges > train.monthly_charges.quantile(0.5)].churn.sum()"
   ]
  },
  {
   "cell_type": "code",
   "execution_count": null,
   "metadata": {},
   "outputs": [],
   "source": [
    "train[train.monthly_charges<60].monthly_charges.quantile(0.5)"
   ]
  },
  {
   "cell_type": "code",
   "execution_count": null,
   "metadata": {},
   "outputs": [],
   "source": [
    "train[train.monthly_charges < train.monthly_charges.quantile(0.5)].churn.sum()"
   ]
  },
  {
   "cell_type": "code",
   "execution_count": null,
   "metadata": {},
   "outputs": [],
   "source": [
    "train.head(2)"
   ]
  },
  {
   "cell_type": "code",
   "execution_count": null,
   "metadata": {},
   "outputs": [],
   "source": [
    "plt.figure(figsize=(16, 6))\n",
    "plt.subplot(221)\n",
    "sns.countplot(x=\"internet_service_type\", hue=\"churn\",\\\n",
    "              data=train[train.monthly_charges > train.monthly_charges.quantile(0.5)][train.tenure_years <=2])\n",
    "plt.subplot(222)\n",
    "sns.countplot(x=\"senior_citizen\", hue=\"churn\",\\\n",
    "              data=train[train.monthly_charges > train.monthly_charges.quantile(0.5)][train.tenure_years <=2])\n",
    "\n",
    "plt.subplot(223)\n",
    "sns.countplot(x=\"phone_service\", hue=\"churn\",\\\n",
    "              data=train[train.monthly_charges > train.monthly_charges.quantile(0.5)][train.tenure_years <=2])\n",
    "\n",
    "plt.subplot(224)\n",
    "sns.countplot(x=\"paperless_billing\", hue=\"churn\",\\\n",
    "              data=train[train.monthly_charges > train.monthly_charges.quantile(0.5)][train.tenure_years <=2])\n",
    "\n",
    "\n"
   ]
  },
  {
   "cell_type": "code",
   "execution_count": null,
   "metadata": {},
   "outputs": [],
   "source": [
    "train.device_protection.value_counts()"
   ]
  },
  {
   "cell_type": "code",
   "execution_count": null,
   "metadata": {},
   "outputs": [],
   "source": [
    "plt.figure(figsize=(16, 6))\n",
    "plt.subplot(331)\n",
    "sns.countplot(x=\"contract_type\", hue=\"churn\",\\\n",
    "              data=train[train.monthly_charges > train.monthly_charges.quantile(0.5)][train.tenure_years <=2])\n",
    "plt.subplot(332)\n",
    "sns.countplot(x=\"streaming_movies\", hue=\"churn\",\\\n",
    "              data=train[train.monthly_charges > train.monthly_charges.quantile(0.5)][train.tenure_years <=2])\n",
    "\n",
    "plt.subplot(333)\n",
    "sns.countplot(x=\"online_security\", hue=\"churn\",\\\n",
    "              data=train[train.monthly_charges > train.monthly_charges.quantile(0.5)][train.tenure_years <=2])\n",
    "\n",
    "plt.subplot(334)\n",
    "sns.countplot(x=\"payment_type\", hue=\"churn\",\\\n",
    "              data=train[train.monthly_charges > train.monthly_charges.quantile(0.5)][train.tenure_years <=2])\n",
    "\n",
    "plt.subplot(335)\n",
    "sns.countplot(x=\"device_protection\", hue=\"churn\",\\\n",
    "              data=train[train.monthly_charges > train.monthly_charges.quantile(0.5)][train.tenure_years <=2])\n",
    "plt.subplot(336)\n",
    "sns.countplot(x=\"tech_support\", hue=\"churn\",\\\n",
    "              data=train[train.monthly_charges > train.monthly_charges.quantile(0.5)][train.tenure_years <=2])"
   ]
  },
  {
   "cell_type": "code",
   "execution_count": null,
   "metadata": {},
   "outputs": [],
   "source": [
    "plt.figure(figsize=(16, 6))\n",
    "plt.subplot(331)\n",
    "sns.countplot(x=\"contract_type\", hue=\"churn\",\\\n",
    "              data=train)\n",
    "plt.subplot(332)\n",
    "sns.countplot(x=\"senior_citizen\", hue=\"churn\",\\\n",
    "              data=train)\n",
    "\n",
    "plt.subplot(333)\n",
    "sns.countplot(x=\"online_security\", hue=\"churn\",\\\n",
    "              data=train)\n",
    "\n",
    "plt.subplot(334)\n",
    "sns.countplot(x=\"payment_type\", hue=\"churn\",\\\n",
    "              data=train)\n",
    "\n",
    "plt.subplot(335)\n",
    "sns.countplot(x=\"device_protection\", hue=\"churn\",\\\n",
    "              data=train)\n",
    "plt.subplot(336)\n",
    "sns.countplot(x=\"tech_support\", hue=\"churn\",\\\n",
    "              data=train)"
   ]
  },
  {
   "cell_type": "markdown",
   "metadata": {},
   "source": [
    "### Is there a price threshold for specific services where the likelihood of churn increases once price for those services goes past that point? If so, what is that point for what service(s)?"
   ]
  },
  {
   "cell_type": "code",
   "execution_count": null,
   "metadata": {},
   "outputs": [],
   "source": [
    "for i in range (1 , 4):\n",
    "    print(train[train.phone_service == 0][train.internet_service_type_id ==i][train.tenure<2].monthly_charges.count())\n",
    "    print(train[train.phone_service == 1][train.internet_service_type_id ==i][train.tenure<2].monthly_charges.mean())\n",
    "    print(train[train.phone_service == 1][train.internet_service_type_id ==i][train.tenure<2].monthly_charges.max())\n",
    "    print(train[train.phone_service == 1][train.internet_service_type_id ==i][train.tenure<2].monthly_charges.min())"
   ]
  },
  {
   "cell_type": "code",
   "execution_count": null,
   "metadata": {},
   "outputs": [],
   "source": [
    "dsl = train[train.phone_service == 0][train.internet_service_type_id ==1][train.tenure_years <2]\n"
   ]
  },
  {
   "cell_type": "code",
   "execution_count": null,
   "metadata": {},
   "outputs": [],
   "source": [
    "dsl_ph = train[train.phone_service == 1][train.internet_service_type_id ==1][train.tenure_years <2]"
   ]
  },
  {
   "cell_type": "code",
   "execution_count": null,
   "metadata": {},
   "outputs": [],
   "source": [
    "fibre = train[train.phone_service == 1][train.internet_service_type_id ==2][train.tenure_years <2]"
   ]
  },
  {
   "cell_type": "code",
   "execution_count": null,
   "metadata": {},
   "outputs": [],
   "source": [
    "ph = train[train.phone_service == 1][train.internet_service_type_id ==3][train.tenure_years <2]"
   ]
  },
  {
   "cell_type": "code",
   "execution_count": null,
   "metadata": {},
   "outputs": [],
   "source": [
    "fo = train[train.phone_service == 1][train.internet_service_type_id ==2][train.tenure_years <=2]\n",
    "fo1 = train[train.phone_service == 0][train.internet_service_type_id ==1][train.tenure_years <=2]\n",
    "fo.churn.value_counts()"
   ]
  },
  {
   "cell_type": "code",
   "execution_count": null,
   "metadata": {},
   "outputs": [],
   "source": [
    "fo = fo.sort_values(by = 'monthly_charges')\n",
    "fo1 = fo1.sort_values(by = 'monthly_charges')"
   ]
  },
  {
   "cell_type": "code",
   "execution_count": null,
   "metadata": {},
   "outputs": [],
   "source": [
    "fo['cumsum'] = fo.churn.cumsum()/fo.shape[0]\n",
    "fo1['cumsum'] = fo1.churn.cumsum()/fo1.shape[0]"
   ]
  },
  {
   "cell_type": "code",
   "execution_count": null,
   "metadata": {},
   "outputs": [],
   "source": [
    "# sns.lineplot(x = 'monthly_charges', y = 'cumsum', data = fo, label = 'phone and fiber optic')\n",
    "# sns.lineplot(x = 'monthly_charges', y = 'cumsum', data = fo1, label =  'DSL only')\n",
    "# plt.title('% Cumulative Churn Rate as function of monthly charges')"
   ]
  },
  {
   "cell_type": "markdown",
   "metadata": {},
   "source": []
  },
  {
   "cell_type": "code",
   "execution_count": null,
   "metadata": {},
   "outputs": [],
   "source": [
    "fo = train[train.phone_service == 1][train.internet_service_type_id ==2][train.tenure_years <=2]\n",
    "fo['monthly_bin'] = pd.cut(fo.monthly_charges, bins=10)"
   ]
  },
  {
   "cell_type": "code",
   "execution_count": null,
   "metadata": {},
   "outputs": [],
   "source": [
    "fo.head(2)"
   ]
  },
  {
   "cell_type": "code",
   "execution_count": null,
   "metadata": {},
   "outputs": [],
   "source": [
    "fo = fo.groupby('monthly_bin').churn.mean().reset_index()\n",
    "fo"
   ]
  },
  {
   "cell_type": "code",
   "execution_count": null,
   "metadata": {},
   "outputs": [],
   "source": [
    "sns.barplot(x = 'monthly_bin', y = 'churn', data = fo)"
   ]
  },
  {
   "cell_type": "code",
   "execution_count": null,
   "metadata": {},
   "outputs": [],
   "source": [
    "train_dsl= train[train.contract_type_id == 1][train.internet_service_type == 'DSL'][train.tenure_years <=2]"
   ]
  },
  {
   "cell_type": "code",
   "execution_count": null,
   "metadata": {},
   "outputs": [],
   "source": [
    "train_fo = train[train.contract_type_id == 1][train.internet_service_type == 'Fiber optic'][train.tenure_years <=2]"
   ]
  },
  {
   "cell_type": "code",
   "execution_count": null,
   "metadata": {},
   "outputs": [],
   "source": [
    "train_dsl.churn.value_counts()"
   ]
  },
  {
   "cell_type": "code",
   "execution_count": null,
   "metadata": {},
   "outputs": [],
   "source": [
    "train_fo.churn.value_counts()"
   ]
  },
  {
   "cell_type": "code",
   "execution_count": null,
   "metadata": {},
   "outputs": [],
   "source": [
    "train.churn.value_counts()"
   ]
  },
  {
   "cell_type": "code",
   "execution_count": null,
   "metadata": {},
   "outputs": [],
   "source": [
    "train_fo['monthly_bin'] = pd.cut(train_fo.monthly_charges, bins =10)"
   ]
  },
  {
   "cell_type": "code",
   "execution_count": null,
   "metadata": {},
   "outputs": [],
   "source": [
    "train_fo = fo.groupby('monthly_bin').churn.mean().reset_index()"
   ]
  },
  {
   "cell_type": "code",
   "execution_count": null,
   "metadata": {},
   "outputs": [],
   "source": [
    "sns.barplot(x = 'monthly_bin', y = 'churn', data = train_fo, orient=45)\n",
    "plt.xticks(rotation=45)"
   ]
  },
  {
   "cell_type": "code",
   "execution_count": null,
   "metadata": {},
   "outputs": [],
   "source": [
    "#fig, ax = plt.subplots(1, 2, figsize=(15, 3))\n",
    "train[train.churn ==0].tenure.hist(bins = 60, alpha = 0.5, color= 'purple')\n",
    "train[train.churn ==1].tenure.hist(bins = 60, alpha = 0.7, color = 'orange')\n",
    "plt.xlabel('Tenure')\n",
    "plt.ylabel('no of customers churned')\n",
    "#sns.kdeplot(train[train.churn ==1].tenure, bw=1.0) "
   ]
  },
  {
   "cell_type": "code",
   "execution_count": null,
   "metadata": {},
   "outputs": [],
   "source": [
    "plt.hist(train[train.churn ==0].monthly_charges,bins = 60, alpha = 0.7, color = 'purple')\n",
    "plt.hist(train[train.churn ==1].monthly_charges,bins = 60, alpha = 0.7, color = 'orange')\n",
    "plt.xlabel('Monthly Charges')\n",
    "plt.ylabel('no of customers churned')"
   ]
  },
  {
   "cell_type": "code",
   "execution_count": null,
   "metadata": {},
   "outputs": [],
   "source": [
    "plt.hist(train[train.phone_service == 0][train.internet_service_type_id ==1][train.churn ==0].monthly_charges,bins = 30, alpha = 0.7, color = 'purple')\n",
    "plt.hist(train[train.phone_service == 0][train.internet_service_type_id ==1][train.churn ==1].monthly_charges,bins = 60, alpha = 0.7, color = 'orange')\n",
    "plt.xlabel('Monthly Charges')\n",
    "plt.ylabel('no of customers churned')"
   ]
  },
  {
   "cell_type": "code",
   "execution_count": null,
   "metadata": {},
   "outputs": [],
   "source": [
    "\n",
    "f, axes = plt.subplots(1, 2, sharey = True)\n",
    "sns.kdeplot(train[train.churn ==1].monthly_charges, bw=1.5, label = 'churn', ax=axes[0], color = 'orange')\n",
    "#sns.kdeplot(train[train.churn ==0].monthly_charges, bw=1.5, label = 'no churn', ax=axes[1], color = 'blue') \n",
    "\n",
    "plt.xlabel('monthly charges')\n",
    "plt.ylabel('no of customers churned')\n"
   ]
  },
  {
   "cell_type": "code",
   "execution_count": null,
   "metadata": {},
   "outputs": [],
   "source": []
  },
  {
   "cell_type": "code",
   "execution_count": null,
   "metadata": {},
   "outputs": [],
   "source": [
    "sns.kdeplot(train[train.churn ==1].total_charges, bw=1.0) \n",
    "plt.xlabel('total_charges')\n",
    "plt.ylabel('no of customers churned')"
   ]
  },
  {
   "cell_type": "code",
   "execution_count": null,
   "metadata": {},
   "outputs": [],
   "source": [
    "train.info()"
   ]
  },
  {
   "cell_type": "code",
   "execution_count": null,
   "metadata": {},
   "outputs": [],
   "source": [
    "X_train = train[['tenure', 'phone_service', 'tech_support','total_charges', 'internet_service_type_id', 'monthly_charges', 'contract_type_id','payment_type_id']]\n",
    "y_train = train[['churn']]\n",
    "\n",
    "X_validate = validate[['tenure','phone_service', 'tech_support', 'total_charges', 'internet_service_type_id', 'monthly_charges', 'contract_type_id','payment_type_id']]\n",
    "\n",
    "y_validate = validate[['churn']]"
   ]
  },
  {
   "cell_type": "code",
   "execution_count": null,
   "metadata": {},
   "outputs": [],
   "source": [
    "def scale_minmax(train, test, column_list):\n",
    "    scaler = MinMaxScaler()\n",
    "    column_list_scaled = [col + '_scaled' for col in column_list]\n",
    "    train_scaled = pd.DataFrame(scaler.fit_transform(train[column_list]), \n",
    "                                columns = column_list_scaled, \n",
    "                                index = train.index)\n",
    "    train = train.join(train_scaled)\n",
    "\n",
    "    test_scaled = pd.DataFrame(scaler.transform(test[column_list]), \n",
    "                                columns = column_list_scaled, \n",
    "                                index = test.index)\n",
    "    test = test.join(test_scaled)\n",
    "\n",
    "    return train, test"
   ]
  },
  {
   "cell_type": "code",
   "execution_count": null,
   "metadata": {},
   "outputs": [],
   "source": [
    "X_train_scaled, X_validate_scaled = scale_minmax(X_train, X_validate, ['tenure', 'total_charges', 'monthly_charges'])\n",
    "\n",
    "X_train_scaled = X_train_scaled.drop(columns = ['tenure', 'total_charges', 'monthly_charges'])\n",
    "\n",
    "\n",
    "X_validate_scaled = X_validate_scaled.drop(columns = ['tenure', 'total_charges', 'monthly_charges'])\n",
    "\n"
   ]
  },
  {
   "cell_type": "code",
   "execution_count": null,
   "metadata": {},
   "outputs": [],
   "source": [
    "X_train_scaled.head(2)"
   ]
  },
  {
   "cell_type": "code",
   "execution_count": null,
   "metadata": {},
   "outputs": [],
   "source": [
    "logit = LogisticRegression(C=1, random_state = 42)"
   ]
  },
  {
   "cell_type": "code",
   "execution_count": null,
   "metadata": {},
   "outputs": [],
   "source": [
    "logit.fit(X_train_scaled, y_train)"
   ]
  },
  {
   "cell_type": "code",
   "execution_count": null,
   "metadata": {},
   "outputs": [],
   "source": [
    "y_pred = logit.predict(X_train_scaled)"
   ]
  },
  {
   "cell_type": "code",
   "execution_count": null,
   "metadata": {},
   "outputs": [],
   "source": [
    "y_pred_proba = logit.predict_proba(X_train_scaled)\n",
    "y_pred_proba = pd.DataFrame(y_pred_proba, columns = ['no churn', 'churn'])\n",
    "y_pred_proba.head()"
   ]
  },
  {
   "cell_type": "code",
   "execution_count": null,
   "metadata": {},
   "outputs": [],
   "source": [
    "logit.classes_"
   ]
  },
  {
   "cell_type": "code",
   "execution_count": null,
   "metadata": {},
   "outputs": [],
   "source": [
    "weights = pd.Series(logit.coef_[0],\n",
    "index=X_train.columns.values)\n",
    "weights.sort_values(ascending = False)"
   ]
  },
  {
   "cell_type": "code",
   "execution_count": null,
   "metadata": {},
   "outputs": [],
   "source": [
    "print(classification_report(y_train, y_pred))"
   ]
  },
  {
   "cell_type": "code",
   "execution_count": null,
   "metadata": {},
   "outputs": [],
   "source": [
    "y_pred_proba = logit.predict_proba(X_train_scaled)\n",
    "y_pred_proba = pd.DataFrame(y_pred_proba, columns = ['no churn', 'churn'])\n",
    "t = 0.37\n",
    "yhat = (y_pred_proba > t).astype(int)\n",
    "print(classification_report(y_train, yhat.churn))"
   ]
  },
  {
   "cell_type": "code",
   "execution_count": null,
   "metadata": {},
   "outputs": [],
   "source": [
    "logistic_regression_util.plot_metrics_by_thresholds(y_train.churn, y_pred_proba.churn)"
   ]
  },
  {
   "cell_type": "code",
   "execution_count": null,
   "metadata": {},
   "outputs": [],
   "source": [
    "clf = RandomForestClassifier(bootstrap=True, \n",
    "                            class_weight=None, \n",
    "                            criterion='gini',\n",
    "                            min_samples_leaf=1,\n",
    "                            n_estimators=1000,\n",
    "                            max_depth=8, \n",
    "                            random_state=42)\n",
    "#clf = DecisionTreeClassifier(max_depth=3, random_state=42)"
   ]
  },
  {
   "cell_type": "code",
   "execution_count": null,
   "metadata": {},
   "outputs": [],
   "source": [
    "clf.fit(X_train_scaled, y_train)\n",
    "#y_pred = clf.predict(X_train_scaled)\n",
    "y_pred = clf.predict(X_validate_scaled)"
   ]
  },
  {
   "cell_type": "code",
   "execution_count": null,
   "metadata": {},
   "outputs": [],
   "source": [
    "pd.DataFrame(classification_report(y_validate, y_pred, output_dict=True))"
   ]
  },
  {
   "cell_type": "code",
   "execution_count": null,
   "metadata": {},
   "outputs": [],
   "source": [
    "knn = KNeighborsClassifier(n_neighbors=10, weights='uniform')"
   ]
  },
  {
   "cell_type": "code",
   "execution_count": null,
   "metadata": {},
   "outputs": [],
   "source": [
    "knn.fit(X_train_scaled, y_train)"
   ]
  },
  {
   "cell_type": "code",
   "execution_count": null,
   "metadata": {},
   "outputs": [],
   "source": [
    "y_pred = knn.predict(X_train_scaled)"
   ]
  },
  {
   "cell_type": "code",
   "execution_count": null,
   "metadata": {},
   "outputs": [],
   "source": [
    "print(classification_report(y_train, y_pred))"
   ]
  },
  {
   "cell_type": "code",
   "execution_count": null,
   "metadata": {},
   "outputs": [],
   "source": [
    "# util.plot_k_vs_accuracy(X_train_scaled, y_train, X_validate_scaled, y_validate)"
   ]
  },
  {
   "cell_type": "markdown",
   "metadata": {},
   "source": [
    "# Lets to encoding and feature engineering "
   ]
  },
  {
   "cell_type": "code",
   "execution_count": null,
   "metadata": {},
   "outputs": [],
   "source": [
    "df = acquire_r.get_data_from_sql()"
   ]
  },
  {
   "cell_type": "code",
   "execution_count": null,
   "metadata": {},
   "outputs": [],
   "source": [
    "train, validate, test = wrangle.wrangle_telco(df)"
   ]
  },
  {
   "cell_type": "code",
   "execution_count": null,
   "metadata": {},
   "outputs": [],
   "source": [
    "l = ['phone_service', 'contract_type','internet_service_type', 'payment_type','tenure_years']\n",
    "X_train = encode.encode(train,l)"
   ]
  },
  {
   "cell_type": "code",
   "execution_count": null,
   "metadata": {},
   "outputs": [],
   "source": [
    "column_list = ['log_total_charges', 'monthly_charges']\n",
    "X_train_scaled = encode.scale_minmax(X_train, column_list)\n",
    "X_train_scaled.head(2)"
   ]
  },
  {
   "cell_type": "code",
   "execution_count": null,
   "metadata": {},
   "outputs": [],
   "source": []
  },
  {
   "cell_type": "code",
   "execution_count": null,
   "metadata": {},
   "outputs": [],
   "source": [
    "train = train[['senior_citizen', 'phone_service', 'tech_support', 'monthly_charges', 'contract_type', 'internet_service_type','payment_type','tenure_years', 'log_total_charges']]\n",
    "\n",
    "validate = validate[['senior_citizen', 'phone_service', 'tech_support', 'monthly_charges', 'contract_type', 'internet_service_type','payment_type','tenure_years', 'log_total_charges']]\n"
   ]
  },
  {
   "cell_type": "code",
   "execution_count": null,
   "metadata": {},
   "outputs": [],
   "source": []
  },
  {
   "cell_type": "code",
   "execution_count": null,
   "metadata": {},
   "outputs": [],
   "source": [
    "train.head(2)"
   ]
  },
  {
   "cell_type": "code",
   "execution_count": null,
   "metadata": {},
   "outputs": [],
   "source": [
    "encoder = sklearn.preprocessing.OneHotEncoder(sparse = False)\n",
    "encoder.fit(train[['phone_service', 'contract_type','internet_service_type', 'payment_type','tenure_years']])\n",
    "m = encoder.transform(train[['phone_service', 'contract_type','internet_service_type', 'payment_type','tenure_years']])"
   ]
  },
  {
   "cell_type": "code",
   "execution_count": null,
   "metadata": {},
   "outputs": [],
   "source": [
    "col_name= encoder.get_feature_names(['phone_service', 'contract_type','internet_service_type', 'payment_type','tenure_years'])\n",
    "train = pd.concat([train, pd.DataFrame(m, columns = col_name,index = train.index)], axis =1)"
   ]
  },
  {
   "cell_type": "code",
   "execution_count": null,
   "metadata": {},
   "outputs": [],
   "source": [
    "col_name"
   ]
  },
  {
   "cell_type": "code",
   "execution_count": null,
   "metadata": {},
   "outputs": [],
   "source": [
    "encoder.fit(validate[['phone_service', 'contract_type','internet_service_type', 'payment_type','tenure_years']])\n",
    "m = encoder.transform(validate[['phone_service', 'contract_type','internet_service_type', 'payment_type','tenure_years']])"
   ]
  },
  {
   "cell_type": "code",
   "execution_count": null,
   "metadata": {},
   "outputs": [],
   "source": [
    "validate = pd.concat([validate, pd.DataFrame(m, columns = col_name,index = validate.index)], axis =1)"
   ]
  },
  {
   "cell_type": "code",
   "execution_count": null,
   "metadata": {},
   "outputs": [],
   "source": [
    "X_train.head(2)"
   ]
  },
  {
   "cell_type": "code",
   "execution_count": null,
   "metadata": {},
   "outputs": [],
   "source": [
    "X_validate = validate.drop(columns = ['phone_service','phone_service', 'contract_type','internet_service_type', 'payment_type','tenure_years'])\n",
    "X_validate.head(2)"
   ]
  },
  {
   "cell_type": "code",
   "execution_count": null,
   "metadata": {},
   "outputs": [],
   "source": [
    "X_train_scaled, X_validate_scaled = scale_minmax(X_train, X_validate, ['log_total_charges', 'monthly_charges'])\n",
    "\n",
    "X_train_scaled = X_train_scaled.drop(columns = ['log_total_charges', 'monthly_charges'])\n",
    "X_validate_scaled = X_validate_scaled.drop(columns = ['log_total_charges', 'monthly_charges'])"
   ]
  },
  {
   "cell_type": "code",
   "execution_count": null,
   "metadata": {},
   "outputs": [],
   "source": [
    "X_train_scaled"
   ]
  },
  {
   "cell_type": "code",
   "execution_count": null,
   "metadata": {},
   "outputs": [],
   "source": [
    "# logit = LogisticRegression(C=1, random_state = 123, solver='saga')\n",
    "# logit.fit(X_train_scaled, y_train)\n",
    "# y_pred = logit.predict(X_train_scaled)"
   ]
  },
  {
   "cell_type": "code",
   "execution_count": null,
   "metadata": {},
   "outputs": [],
   "source": [
    "print(classification_report(y_train, y_pred))"
   ]
  },
  {
   "cell_type": "code",
   "execution_count": null,
   "metadata": {},
   "outputs": [],
   "source": [
    "y_pred_proba = logit.predict_proba(X_validate_scaled)\n",
    "y_pred_proba = pd.DataFrame(y_pred_proba, columns = ['no churn', 'churn'])\n",
    "t = 0.33\n",
    "yhat = (y_pred_proba > t).astype(int)\n",
    "print(classification_report(y_validate, yhat.churn))"
   ]
  },
  {
   "cell_type": "code",
   "execution_count": null,
   "metadata": {},
   "outputs": [],
   "source": [
    "weights = pd.Series(logit.coef_[0],\n",
    "index=X_train.columns.values)\n",
    "weights.sort_values(ascending = False)"
   ]
  },
  {
   "cell_type": "code",
   "execution_count": null,
   "metadata": {},
   "outputs": [],
   "source": [
    "logistic_regression_util.plot_metrics_by_thresholds(y_train.churn, y_pred_proba.churn)"
   ]
  },
  {
   "cell_type": "code",
   "execution_count": null,
   "metadata": {},
   "outputs": [],
   "source": [
    "y_pred = logit.predict(X_validate_scaled)"
   ]
  },
  {
   "cell_type": "code",
   "execution_count": null,
   "metadata": {},
   "outputs": [],
   "source": [
    "print(classification_report(y_validate, y_pred))"
   ]
  },
  {
   "cell_type": "code",
   "execution_count": null,
   "metadata": {},
   "outputs": [],
   "source": [
    "y_pred_proba = logit.predict_proba(X_validate_scaled)\n",
    "y_pred_proba = pd.DataFrame(y_pred_proba, columns = ['no churn', 'churn'])\n",
    "t = 0.33\n",
    "yhat = (y_pred_proba > t).astype(int)\n",
    "print(classification_report(y_validate, yhat.churn))"
   ]
  },
  {
   "cell_type": "code",
   "execution_count": null,
   "metadata": {},
   "outputs": [],
   "source": [
    "clf = RandomForestClassifier(bootstrap=True, \n",
    "                            class_weight=None, \n",
    "                            criterion='gini',\n",
    "                            min_samples_leaf=1,\n",
    "                            n_estimators=1000,\n",
    "                            max_depth=8, \n",
    "                            random_state=42)"
   ]
  },
  {
   "cell_type": "code",
   "execution_count": null,
   "metadata": {},
   "outputs": [],
   "source": [
    "clf.fit(X_train_scaled, y_train)\n",
    "y_pred = clf.predict(X_train_scaled)\n",
    "#y_pred = clf.predict(X_validate_scaled)"
   ]
  },
  {
   "cell_type": "code",
   "execution_count": null,
   "metadata": {},
   "outputs": [],
   "source": [
    "pd.DataFrame(classification_report(y_train, y_pred, output_dict=True))"
   ]
  },
  {
   "cell_type": "code",
   "execution_count": null,
   "metadata": {},
   "outputs": [],
   "source": [
    "y_pred_proba = clf.predict_proba(X_train_scaled)\n",
    "y_pred_proba = pd.DataFrame(y_pred_proba, columns = ['no churn', 'churn'])\n",
    "t = 0.33\n",
    "yhat = (y_pred_proba > t).astype(int)\n",
    "print(classification_report(y_train, yhat.churn))"
   ]
  },
  {
   "cell_type": "code",
   "execution_count": null,
   "metadata": {},
   "outputs": [],
   "source": [
    "knn = KNeighborsClassifier(n_neighbors=8, weights='distance')"
   ]
  },
  {
   "cell_type": "code",
   "execution_count": null,
   "metadata": {},
   "outputs": [],
   "source": [
    "knn.fit(X_train_scaled, y_train)"
   ]
  },
  {
   "cell_type": "code",
   "execution_count": null,
   "metadata": {},
   "outputs": [],
   "source": [
    "y_pred = knn.predict(X_validate_scaled)"
   ]
  },
  {
   "cell_type": "code",
   "execution_count": null,
   "metadata": {},
   "outputs": [],
   "source": [
    "print(classification_report(y_validate, y_pred))"
   ]
  },
  {
   "cell_type": "code",
   "execution_count": null,
   "metadata": {},
   "outputs": [],
   "source": [
    "# util.plot_k_vs_accuracy(X_train_scaled, y_train, X_validate_scaled, y_validate)"
   ]
  },
  {
   "cell_type": "code",
   "execution_count": null,
   "metadata": {},
   "outputs": [],
   "source": [
    "from sklearn.metrics import auc, roc_curve, roc_auc_score, precision_recall_curve\n",
    "# plot the ROC curves\n",
    "plt.figure(figsize=(10,10))\n",
    "\n",
    "\n",
    "\n",
    "y_pred = logit.predict_proba(X_validate_scaled)[:,1]\n",
    "fpr, tpr, thresholds = roc_curve(y_validate, y_pred)\n",
    "plt.plot(fpr, tpr, color='red', lw=2, label='LogisticRegression (area = %0.2f)' % auc(fpr, tpr))\n",
    "         \n",
    "y_pred = knn.predict_proba(X_validate_scaled)[:,1]\n",
    "fpr, tpr, thresholds = roc_curve(y_validate, y_pred)\n",
    "plt.plot(fpr, tpr, color='yellow', lw=3, label='KNN (area = %0.2f)' % auc(fpr, tpr))\n",
    "\n",
    "\n",
    "y_pred = clf.predict_proba(X_validate_scaled)[:,1]\n",
    "fpr, tpr, thresholds = roc_curve(y_validate, y_pred)\n",
    "plt.plot(fpr, tpr, color='brown', lw=2, label='RandomForest (area = %0.2f)' % auc(fpr, tpr))\n",
    "\n",
    "\n",
    "plt.plot([0, 1], [0, 1], color='navy', lw=2, linestyle= '-', label = 'Random Guess')\n",
    "plt.xlim([0.0, 1.0])\n",
    "plt.ylim([0.0, 1.0])\n",
    "plt.xlabel('False Positive Rate', fontsize=13)\n",
    "plt.ylabel('True Positive Rate', fontsize=14)\n",
    "plt.title('Receiver Operating Characteristic', fontsize=17)\n",
    "plt.legend(loc='lower right', fontsize=13)\n",
    "plt.show()"
   ]
  },
  {
   "cell_type": "code",
   "execution_count": null,
   "metadata": {},
   "outputs": [],
   "source": [
    "df.monthly_charges.mean()"
   ]
  },
  {
   "cell_type": "code",
   "execution_count": null,
   "metadata": {},
   "outputs": [],
   "source": []
  }
 ],
 "metadata": {
  "kernelspec": {
   "display_name": "Python 3",
   "language": "python",
   "name": "python3"
  },
  "language_info": {
   "codemirror_mode": {
    "name": "ipython",
    "version": 3
   },
   "file_extension": ".py",
   "mimetype": "text/x-python",
   "name": "python",
   "nbconvert_exporter": "python",
   "pygments_lexer": "ipython3",
   "version": "3.7.4"
  }
 },
 "nbformat": 4,
 "nbformat_minor": 2
}
