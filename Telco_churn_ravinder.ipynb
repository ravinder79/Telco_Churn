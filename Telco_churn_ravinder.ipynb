{
 "cells": [
  {
   "cell_type": "code",
   "execution_count": 770,
   "metadata": {},
   "outputs": [],
   "source": [
    "import pandas as pd\n",
    "import env\n",
    "import numpy as np\n",
    "import seaborn as sns\n",
    "import matplotlib.pyplot as plt\n",
    "import acquire_r\n",
    "from sklearn.preprocessing import LabelEncoder, OneHotEncoder, MinMaxScaler\n",
    "import sklearn.model_selection\n",
    "import warnings\n",
    "warnings.filterwarnings(\"ignore\")\n",
    "from sklearn.linear_model import LogisticRegression\n",
    "from sklearn.metrics import classification_report\n",
    "from sklearn.metrics import confusion_matrix\n",
    "import logistic_regression_util\n",
    "from sklearn.tree import DecisionTreeClassifier\n",
    "from sklearn.ensemble import RandomForestClassifier\n",
    "from sklearn.neighbors import KNeighborsClassifier\n",
    "import knn_lesson_util as util"
   ]
  },
  {
   "cell_type": "code",
   "execution_count": 2,
   "metadata": {},
   "outputs": [],
   "source": [
    "df = acquire_r.get_data_from_sql()"
   ]
  },
  {
   "cell_type": "code",
   "execution_count": 3,
   "metadata": {},
   "outputs": [
    {
     "name": "stdout",
     "output_type": "stream",
     "text": [
      "<class 'pandas.core.frame.DataFrame'>\n",
      "RangeIndex: 7043 entries, 0 to 7042\n",
      "Data columns (total 24 columns):\n",
      "payment_type_id             7043 non-null int64\n",
      "internet_service_type_id    7043 non-null int64\n",
      "contract_type_id            7043 non-null int64\n",
      "customer_id                 7043 non-null object\n",
      "gender                      7043 non-null object\n",
      "senior_citizen              7043 non-null int64\n",
      "partner                     7043 non-null object\n",
      "dependents                  7043 non-null object\n",
      "tenure                      7043 non-null int64\n",
      "phone_service               7043 non-null object\n",
      "multiple_lines              7043 non-null object\n",
      "online_security             7043 non-null object\n",
      "online_backup               7043 non-null object\n",
      "device_protection           7043 non-null object\n",
      "tech_support                7043 non-null object\n",
      "streaming_tv                7043 non-null object\n",
      "streaming_movies            7043 non-null object\n",
      "paperless_billing           7043 non-null object\n",
      "monthly_charges             7043 non-null float64\n",
      "total_charges               7043 non-null object\n",
      "churn                       7043 non-null object\n",
      "contract_type               7043 non-null object\n",
      "internet_service_type       7043 non-null object\n",
      "payment_type                7043 non-null object\n",
      "dtypes: float64(1), int64(5), object(18)\n",
      "memory usage: 1.3+ MB\n"
     ]
    }
   ],
   "source": [
    "df.info()"
   ]
  },
  {
   "cell_type": "code",
   "execution_count": 4,
   "metadata": {},
   "outputs": [
    {
     "data": {
      "text/plain": [
       "payment_type_id             0\n",
       "internet_service_type_id    0\n",
       "contract_type_id            0\n",
       "customer_id                 0\n",
       "gender                      0\n",
       "senior_citizen              0\n",
       "partner                     0\n",
       "dependents                  0\n",
       "tenure                      0\n",
       "phone_service               0\n",
       "multiple_lines              0\n",
       "online_security             0\n",
       "online_backup               0\n",
       "device_protection           0\n",
       "tech_support                0\n",
       "streaming_tv                0\n",
       "streaming_movies            0\n",
       "paperless_billing           0\n",
       "monthly_charges             0\n",
       "total_charges               0\n",
       "churn                       0\n",
       "contract_type               0\n",
       "internet_service_type       0\n",
       "payment_type                0\n",
       "dtype: int64"
      ]
     },
     "execution_count": 4,
     "metadata": {},
     "output_type": "execute_result"
    }
   ],
   "source": [
    "df.isnull().sum()"
   ]
  },
  {
   "cell_type": "markdown",
   "metadata": {},
   "source": [
    "### Looks like no values are null"
   ]
  },
  {
   "cell_type": "code",
   "execution_count": 5,
   "metadata": {},
   "outputs": [
    {
     "data": {
      "text/html": [
       "<div>\n",
       "<style scoped>\n",
       "    .dataframe tbody tr th:only-of-type {\n",
       "        vertical-align: middle;\n",
       "    }\n",
       "\n",
       "    .dataframe tbody tr th {\n",
       "        vertical-align: top;\n",
       "    }\n",
       "\n",
       "    .dataframe thead th {\n",
       "        text-align: right;\n",
       "    }\n",
       "</style>\n",
       "<table border=\"1\" class=\"dataframe\">\n",
       "  <thead>\n",
       "    <tr style=\"text-align: right;\">\n",
       "      <th></th>\n",
       "      <th>churn</th>\n",
       "    </tr>\n",
       "  </thead>\n",
       "  <tbody>\n",
       "    <tr>\n",
       "      <th>0</th>\n",
       "      <td>No</td>\n",
       "    </tr>\n",
       "    <tr>\n",
       "      <th>4889</th>\n",
       "      <td>No</td>\n",
       "    </tr>\n",
       "    <tr>\n",
       "      <th>4888</th>\n",
       "      <td>No</td>\n",
       "    </tr>\n",
       "    <tr>\n",
       "      <th>4887</th>\n",
       "      <td>No</td>\n",
       "    </tr>\n",
       "    <tr>\n",
       "      <th>4886</th>\n",
       "      <td>No</td>\n",
       "    </tr>\n",
       "    <tr>\n",
       "      <th>...</th>\n",
       "      <td>...</td>\n",
       "    </tr>\n",
       "    <tr>\n",
       "      <th>3870</th>\n",
       "      <td>Yes</td>\n",
       "    </tr>\n",
       "    <tr>\n",
       "      <th>3871</th>\n",
       "      <td>Yes</td>\n",
       "    </tr>\n",
       "    <tr>\n",
       "      <th>3872</th>\n",
       "      <td>Yes</td>\n",
       "    </tr>\n",
       "    <tr>\n",
       "      <th>3858</th>\n",
       "      <td>Yes</td>\n",
       "    </tr>\n",
       "    <tr>\n",
       "      <th>2966</th>\n",
       "      <td>Yes</td>\n",
       "    </tr>\n",
       "  </tbody>\n",
       "</table>\n",
       "<p>7043 rows × 1 columns</p>\n",
       "</div>"
      ],
      "text/plain": [
       "     churn\n",
       "0       No\n",
       "4889    No\n",
       "4888    No\n",
       "4887    No\n",
       "4886    No\n",
       "...    ...\n",
       "3870   Yes\n",
       "3871   Yes\n",
       "3872   Yes\n",
       "3858   Yes\n",
       "2966   Yes\n",
       "\n",
       "[7043 rows x 1 columns]"
      ]
     },
     "execution_count": 5,
     "metadata": {},
     "output_type": "execute_result"
    }
   ],
   "source": [
    "df[['churn']].sort_values(by = 'churn')"
   ]
  },
  {
   "cell_type": "code",
   "execution_count": 6,
   "metadata": {},
   "outputs": [],
   "source": [
    "#df = df.str.strip()\n",
    "df['total_charges'] = df['total_charges'].str.strip()"
   ]
  },
  {
   "cell_type": "code",
   "execution_count": 7,
   "metadata": {},
   "outputs": [],
   "source": [
    "df = df.replace(r'^\\s*$', np.nan, regex=True)"
   ]
  },
  {
   "cell_type": "code",
   "execution_count": 8,
   "metadata": {},
   "outputs": [
    {
     "data": {
      "text/plain": [
       "payment_type_id              0\n",
       "internet_service_type_id     0\n",
       "contract_type_id             0\n",
       "customer_id                  0\n",
       "gender                       0\n",
       "senior_citizen               0\n",
       "partner                      0\n",
       "dependents                   0\n",
       "tenure                       0\n",
       "phone_service                0\n",
       "multiple_lines               0\n",
       "online_security              0\n",
       "online_backup                0\n",
       "device_protection            0\n",
       "tech_support                 0\n",
       "streaming_tv                 0\n",
       "streaming_movies             0\n",
       "paperless_billing            0\n",
       "monthly_charges              0\n",
       "total_charges               11\n",
       "churn                        0\n",
       "contract_type                0\n",
       "internet_service_type        0\n",
       "payment_type                 0\n",
       "dtype: int64"
      ]
     },
     "execution_count": 8,
     "metadata": {},
     "output_type": "execute_result"
    }
   ],
   "source": [
    "df.isnull().sum()"
   ]
  },
  {
   "cell_type": "code",
   "execution_count": 9,
   "metadata": {},
   "outputs": [],
   "source": [
    "# I am going to drop the 11 'blank' (and then converted to null) values in total_charges column\n",
    "df = df.dropna()"
   ]
  },
  {
   "cell_type": "code",
   "execution_count": 10,
   "metadata": {},
   "outputs": [],
   "source": [
    "# convert total_charges from str to float values:\n",
    "df.total_charges = df.total_charges.astype(float)"
   ]
  },
  {
   "cell_type": "code",
   "execution_count": 11,
   "metadata": {},
   "outputs": [
    {
     "data": {
      "text/html": [
       "<div>\n",
       "<style scoped>\n",
       "    .dataframe tbody tr th:only-of-type {\n",
       "        vertical-align: middle;\n",
       "    }\n",
       "\n",
       "    .dataframe tbody tr th {\n",
       "        vertical-align: top;\n",
       "    }\n",
       "\n",
       "    .dataframe thead th {\n",
       "        text-align: right;\n",
       "    }\n",
       "</style>\n",
       "<table border=\"1\" class=\"dataframe\">\n",
       "  <thead>\n",
       "    <tr style=\"text-align: right;\">\n",
       "      <th></th>\n",
       "      <th>payment_type_id</th>\n",
       "      <th>internet_service_type_id</th>\n",
       "      <th>contract_type_id</th>\n",
       "      <th>customer_id</th>\n",
       "      <th>gender</th>\n",
       "      <th>senior_citizen</th>\n",
       "      <th>partner</th>\n",
       "      <th>dependents</th>\n",
       "      <th>tenure</th>\n",
       "      <th>phone_service</th>\n",
       "      <th>...</th>\n",
       "      <th>tech_support</th>\n",
       "      <th>streaming_tv</th>\n",
       "      <th>streaming_movies</th>\n",
       "      <th>paperless_billing</th>\n",
       "      <th>monthly_charges</th>\n",
       "      <th>total_charges</th>\n",
       "      <th>churn</th>\n",
       "      <th>contract_type</th>\n",
       "      <th>internet_service_type</th>\n",
       "      <th>payment_type</th>\n",
       "    </tr>\n",
       "  </thead>\n",
       "  <tbody>\n",
       "    <tr>\n",
       "      <th>0</th>\n",
       "      <td>2</td>\n",
       "      <td>1</td>\n",
       "      <td>1</td>\n",
       "      <td>0003-MKNFE</td>\n",
       "      <td>Male</td>\n",
       "      <td>0</td>\n",
       "      <td>No</td>\n",
       "      <td>No</td>\n",
       "      <td>9</td>\n",
       "      <td>Yes</td>\n",
       "      <td>...</td>\n",
       "      <td>No</td>\n",
       "      <td>No</td>\n",
       "      <td>Yes</td>\n",
       "      <td>No</td>\n",
       "      <td>59.9</td>\n",
       "      <td>542.40</td>\n",
       "      <td>No</td>\n",
       "      <td>Month-to-month</td>\n",
       "      <td>DSL</td>\n",
       "      <td>Mailed check</td>\n",
       "    </tr>\n",
       "    <tr>\n",
       "      <th>1</th>\n",
       "      <td>4</td>\n",
       "      <td>1</td>\n",
       "      <td>1</td>\n",
       "      <td>0013-MHZWF</td>\n",
       "      <td>Female</td>\n",
       "      <td>0</td>\n",
       "      <td>No</td>\n",
       "      <td>Yes</td>\n",
       "      <td>9</td>\n",
       "      <td>Yes</td>\n",
       "      <td>...</td>\n",
       "      <td>Yes</td>\n",
       "      <td>Yes</td>\n",
       "      <td>Yes</td>\n",
       "      <td>Yes</td>\n",
       "      <td>69.4</td>\n",
       "      <td>571.45</td>\n",
       "      <td>No</td>\n",
       "      <td>Month-to-month</td>\n",
       "      <td>DSL</td>\n",
       "      <td>Credit card (automatic)</td>\n",
       "    </tr>\n",
       "  </tbody>\n",
       "</table>\n",
       "<p>2 rows × 24 columns</p>\n",
       "</div>"
      ],
      "text/plain": [
       "   payment_type_id  internet_service_type_id  contract_type_id customer_id  \\\n",
       "0                2                         1                 1  0003-MKNFE   \n",
       "1                4                         1                 1  0013-MHZWF   \n",
       "\n",
       "   gender  senior_citizen partner dependents  tenure phone_service  ...  \\\n",
       "0    Male               0      No         No       9           Yes  ...   \n",
       "1  Female               0      No        Yes       9           Yes  ...   \n",
       "\n",
       "  tech_support streaming_tv streaming_movies paperless_billing  \\\n",
       "0           No           No              Yes                No   \n",
       "1          Yes          Yes              Yes               Yes   \n",
       "\n",
       "  monthly_charges total_charges churn   contract_type  internet_service_type  \\\n",
       "0            59.9        542.40    No  Month-to-month                    DSL   \n",
       "1            69.4        571.45    No  Month-to-month                    DSL   \n",
       "\n",
       "              payment_type  \n",
       "0             Mailed check  \n",
       "1  Credit card (automatic)  \n",
       "\n",
       "[2 rows x 24 columns]"
      ]
     },
     "execution_count": 11,
     "metadata": {},
     "output_type": "execute_result"
    }
   ],
   "source": [
    "df.head(2)"
   ]
  },
  {
   "cell_type": "code",
   "execution_count": 12,
   "metadata": {},
   "outputs": [
    {
     "data": {
      "text/plain": [
       "No     5163\n",
       "Yes    1869\n",
       "Name: churn, dtype: int64"
      ]
     },
     "execution_count": 12,
     "metadata": {},
     "output_type": "execute_result"
    }
   ],
   "source": [
    "df.churn.value_counts()"
   ]
  },
  {
   "cell_type": "code",
   "execution_count": 13,
   "metadata": {},
   "outputs": [],
   "source": [
    "df = df.replace('Yes', 1)\n",
    "df = df.replace('No', 0)\n",
    "df = df.replace('No internet service', 2)"
   ]
  },
  {
   "cell_type": "code",
   "execution_count": 14,
   "metadata": {},
   "outputs": [
    {
     "data": {
      "text/html": [
       "<div>\n",
       "<style scoped>\n",
       "    .dataframe tbody tr th:only-of-type {\n",
       "        vertical-align: middle;\n",
       "    }\n",
       "\n",
       "    .dataframe tbody tr th {\n",
       "        vertical-align: top;\n",
       "    }\n",
       "\n",
       "    .dataframe thead th {\n",
       "        text-align: right;\n",
       "    }\n",
       "</style>\n",
       "<table border=\"1\" class=\"dataframe\">\n",
       "  <thead>\n",
       "    <tr style=\"text-align: right;\">\n",
       "      <th></th>\n",
       "      <th>payment_type_id</th>\n",
       "      <th>internet_service_type_id</th>\n",
       "      <th>contract_type_id</th>\n",
       "      <th>customer_id</th>\n",
       "      <th>gender</th>\n",
       "      <th>senior_citizen</th>\n",
       "      <th>partner</th>\n",
       "      <th>dependents</th>\n",
       "      <th>tenure</th>\n",
       "      <th>phone_service</th>\n",
       "      <th>...</th>\n",
       "      <th>tech_support</th>\n",
       "      <th>streaming_tv</th>\n",
       "      <th>streaming_movies</th>\n",
       "      <th>paperless_billing</th>\n",
       "      <th>monthly_charges</th>\n",
       "      <th>total_charges</th>\n",
       "      <th>churn</th>\n",
       "      <th>contract_type</th>\n",
       "      <th>internet_service_type</th>\n",
       "      <th>payment_type</th>\n",
       "    </tr>\n",
       "  </thead>\n",
       "  <tbody>\n",
       "    <tr>\n",
       "      <th>0</th>\n",
       "      <td>2</td>\n",
       "      <td>1</td>\n",
       "      <td>1</td>\n",
       "      <td>0003-MKNFE</td>\n",
       "      <td>Male</td>\n",
       "      <td>0</td>\n",
       "      <td>0</td>\n",
       "      <td>0</td>\n",
       "      <td>9</td>\n",
       "      <td>1</td>\n",
       "      <td>...</td>\n",
       "      <td>0</td>\n",
       "      <td>0</td>\n",
       "      <td>1</td>\n",
       "      <td>0</td>\n",
       "      <td>59.9</td>\n",
       "      <td>542.40</td>\n",
       "      <td>0</td>\n",
       "      <td>Month-to-month</td>\n",
       "      <td>DSL</td>\n",
       "      <td>Mailed check</td>\n",
       "    </tr>\n",
       "    <tr>\n",
       "      <th>1</th>\n",
       "      <td>4</td>\n",
       "      <td>1</td>\n",
       "      <td>1</td>\n",
       "      <td>0013-MHZWF</td>\n",
       "      <td>Female</td>\n",
       "      <td>0</td>\n",
       "      <td>0</td>\n",
       "      <td>1</td>\n",
       "      <td>9</td>\n",
       "      <td>1</td>\n",
       "      <td>...</td>\n",
       "      <td>1</td>\n",
       "      <td>1</td>\n",
       "      <td>1</td>\n",
       "      <td>1</td>\n",
       "      <td>69.4</td>\n",
       "      <td>571.45</td>\n",
       "      <td>0</td>\n",
       "      <td>Month-to-month</td>\n",
       "      <td>DSL</td>\n",
       "      <td>Credit card (automatic)</td>\n",
       "    </tr>\n",
       "  </tbody>\n",
       "</table>\n",
       "<p>2 rows × 24 columns</p>\n",
       "</div>"
      ],
      "text/plain": [
       "   payment_type_id  internet_service_type_id  contract_type_id customer_id  \\\n",
       "0                2                         1                 1  0003-MKNFE   \n",
       "1                4                         1                 1  0013-MHZWF   \n",
       "\n",
       "   gender  senior_citizen  partner  dependents  tenure  phone_service  ...  \\\n",
       "0    Male               0        0           0       9              1  ...   \n",
       "1  Female               0        0           1       9              1  ...   \n",
       "\n",
       "  tech_support  streaming_tv  streaming_movies  paperless_billing  \\\n",
       "0            0             0                 1                  0   \n",
       "1            1             1                 1                  1   \n",
       "\n",
       "   monthly_charges  total_charges  churn   contract_type  \\\n",
       "0             59.9         542.40      0  Month-to-month   \n",
       "1             69.4         571.45      0  Month-to-month   \n",
       "\n",
       "   internet_service_type             payment_type  \n",
       "0                    DSL             Mailed check  \n",
       "1                    DSL  Credit card (automatic)  \n",
       "\n",
       "[2 rows x 24 columns]"
      ]
     },
     "execution_count": 14,
     "metadata": {},
     "output_type": "execute_result"
    }
   ],
   "source": [
    "df.head(2)"
   ]
  },
  {
   "cell_type": "code",
   "execution_count": 15,
   "metadata": {},
   "outputs": [],
   "source": [
    "train, test = sklearn.model_selection.train_test_split(df, train_size=.8, random_state=42)"
   ]
  },
  {
   "cell_type": "code",
   "execution_count": 16,
   "metadata": {},
   "outputs": [],
   "source": [
    "train, validate = sklearn.model_selection.train_test_split(train, train_size=.8, random_state=42)"
   ]
  },
  {
   "cell_type": "code",
   "execution_count": 18,
   "metadata": {},
   "outputs": [
    {
     "data": {
      "text/html": [
       "<div>\n",
       "<style scoped>\n",
       "    .dataframe tbody tr th:only-of-type {\n",
       "        vertical-align: middle;\n",
       "    }\n",
       "\n",
       "    .dataframe tbody tr th {\n",
       "        vertical-align: top;\n",
       "    }\n",
       "\n",
       "    .dataframe thead th {\n",
       "        text-align: right;\n",
       "    }\n",
       "</style>\n",
       "<table border=\"1\" class=\"dataframe\">\n",
       "  <thead>\n",
       "    <tr style=\"text-align: right;\">\n",
       "      <th></th>\n",
       "      <th>payment_type_id</th>\n",
       "      <th>internet_service_type_id</th>\n",
       "      <th>contract_type_id</th>\n",
       "      <th>customer_id</th>\n",
       "      <th>gender</th>\n",
       "      <th>senior_citizen</th>\n",
       "      <th>partner</th>\n",
       "      <th>dependents</th>\n",
       "      <th>tenure</th>\n",
       "      <th>phone_service</th>\n",
       "      <th>...</th>\n",
       "      <th>streaming_tv</th>\n",
       "      <th>streaming_movies</th>\n",
       "      <th>paperless_billing</th>\n",
       "      <th>monthly_charges</th>\n",
       "      <th>total_charges</th>\n",
       "      <th>churn</th>\n",
       "      <th>contract_type</th>\n",
       "      <th>internet_service_type</th>\n",
       "      <th>payment_type</th>\n",
       "      <th>tenure_years</th>\n",
       "    </tr>\n",
       "  </thead>\n",
       "  <tbody>\n",
       "    <tr>\n",
       "      <th>5217</th>\n",
       "      <td>4</td>\n",
       "      <td>2</td>\n",
       "      <td>3</td>\n",
       "      <td>3134-DSHVC</td>\n",
       "      <td>Female</td>\n",
       "      <td>0</td>\n",
       "      <td>0</td>\n",
       "      <td>0</td>\n",
       "      <td>63</td>\n",
       "      <td>1</td>\n",
       "      <td>...</td>\n",
       "      <td>1</td>\n",
       "      <td>0</td>\n",
       "      <td>0</td>\n",
       "      <td>98.00</td>\n",
       "      <td>6218.45</td>\n",
       "      <td>0</td>\n",
       "      <td>Two year</td>\n",
       "      <td>Fiber optic</td>\n",
       "      <td>Credit card (automatic)</td>\n",
       "      <td>5.0</td>\n",
       "    </tr>\n",
       "    <tr>\n",
       "      <th>5496</th>\n",
       "      <td>3</td>\n",
       "      <td>2</td>\n",
       "      <td>3</td>\n",
       "      <td>9586-JGQKH</td>\n",
       "      <td>Female</td>\n",
       "      <td>0</td>\n",
       "      <td>1</td>\n",
       "      <td>0</td>\n",
       "      <td>64</td>\n",
       "      <td>1</td>\n",
       "      <td>...</td>\n",
       "      <td>1</td>\n",
       "      <td>1</td>\n",
       "      <td>1</td>\n",
       "      <td>105.40</td>\n",
       "      <td>6794.75</td>\n",
       "      <td>0</td>\n",
       "      <td>Two year</td>\n",
       "      <td>Fiber optic</td>\n",
       "      <td>Bank transfer (automatic)</td>\n",
       "      <td>5.0</td>\n",
       "    </tr>\n",
       "    <tr>\n",
       "      <th>4517</th>\n",
       "      <td>1</td>\n",
       "      <td>2</td>\n",
       "      <td>1</td>\n",
       "      <td>9874-QLCLH</td>\n",
       "      <td>Female</td>\n",
       "      <td>0</td>\n",
       "      <td>1</td>\n",
       "      <td>1</td>\n",
       "      <td>17</td>\n",
       "      <td>1</td>\n",
       "      <td>...</td>\n",
       "      <td>1</td>\n",
       "      <td>1</td>\n",
       "      <td>1</td>\n",
       "      <td>104.20</td>\n",
       "      <td>1743.50</td>\n",
       "      <td>1</td>\n",
       "      <td>Month-to-month</td>\n",
       "      <td>Fiber optic</td>\n",
       "      <td>Electronic check</td>\n",
       "      <td>1.0</td>\n",
       "    </tr>\n",
       "    <tr>\n",
       "      <th>5121</th>\n",
       "      <td>1</td>\n",
       "      <td>2</td>\n",
       "      <td>3</td>\n",
       "      <td>0835-JKADZ</td>\n",
       "      <td>Female</td>\n",
       "      <td>0</td>\n",
       "      <td>0</td>\n",
       "      <td>0</td>\n",
       "      <td>71</td>\n",
       "      <td>1</td>\n",
       "      <td>...</td>\n",
       "      <td>1</td>\n",
       "      <td>1</td>\n",
       "      <td>1</td>\n",
       "      <td>111.25</td>\n",
       "      <td>7984.15</td>\n",
       "      <td>0</td>\n",
       "      <td>Two year</td>\n",
       "      <td>Fiber optic</td>\n",
       "      <td>Electronic check</td>\n",
       "      <td>5.0</td>\n",
       "    </tr>\n",
       "    <tr>\n",
       "      <th>5322</th>\n",
       "      <td>4</td>\n",
       "      <td>2</td>\n",
       "      <td>3</td>\n",
       "      <td>5693-PIPCS</td>\n",
       "      <td>Male</td>\n",
       "      <td>0</td>\n",
       "      <td>0</td>\n",
       "      <td>0</td>\n",
       "      <td>41</td>\n",
       "      <td>1</td>\n",
       "      <td>...</td>\n",
       "      <td>1</td>\n",
       "      <td>1</td>\n",
       "      <td>1</td>\n",
       "      <td>99.65</td>\n",
       "      <td>4220.35</td>\n",
       "      <td>0</td>\n",
       "      <td>Two year</td>\n",
       "      <td>Fiber optic</td>\n",
       "      <td>Credit card (automatic)</td>\n",
       "      <td>3.0</td>\n",
       "    </tr>\n",
       "    <tr>\n",
       "      <th>...</th>\n",
       "      <td>...</td>\n",
       "      <td>...</td>\n",
       "      <td>...</td>\n",
       "      <td>...</td>\n",
       "      <td>...</td>\n",
       "      <td>...</td>\n",
       "      <td>...</td>\n",
       "      <td>...</td>\n",
       "      <td>...</td>\n",
       "      <td>...</td>\n",
       "      <td>...</td>\n",
       "      <td>...</td>\n",
       "      <td>...</td>\n",
       "      <td>...</td>\n",
       "      <td>...</td>\n",
       "      <td>...</td>\n",
       "      <td>...</td>\n",
       "      <td>...</td>\n",
       "      <td>...</td>\n",
       "      <td>...</td>\n",
       "      <td>...</td>\n",
       "    </tr>\n",
       "    <tr>\n",
       "      <th>3615</th>\n",
       "      <td>3</td>\n",
       "      <td>2</td>\n",
       "      <td>1</td>\n",
       "      <td>5442-XSDCW</td>\n",
       "      <td>Male</td>\n",
       "      <td>0</td>\n",
       "      <td>1</td>\n",
       "      <td>1</td>\n",
       "      <td>11</td>\n",
       "      <td>1</td>\n",
       "      <td>...</td>\n",
       "      <td>1</td>\n",
       "      <td>0</td>\n",
       "      <td>1</td>\n",
       "      <td>79.50</td>\n",
       "      <td>868.50</td>\n",
       "      <td>1</td>\n",
       "      <td>Month-to-month</td>\n",
       "      <td>Fiber optic</td>\n",
       "      <td>Bank transfer (automatic)</td>\n",
       "      <td>0.0</td>\n",
       "    </tr>\n",
       "    <tr>\n",
       "      <th>2738</th>\n",
       "      <td>3</td>\n",
       "      <td>2</td>\n",
       "      <td>1</td>\n",
       "      <td>1550-LOAHA</td>\n",
       "      <td>Female</td>\n",
       "      <td>0</td>\n",
       "      <td>1</td>\n",
       "      <td>0</td>\n",
       "      <td>32</td>\n",
       "      <td>1</td>\n",
       "      <td>...</td>\n",
       "      <td>0</td>\n",
       "      <td>1</td>\n",
       "      <td>0</td>\n",
       "      <td>84.15</td>\n",
       "      <td>2585.95</td>\n",
       "      <td>1</td>\n",
       "      <td>Month-to-month</td>\n",
       "      <td>Fiber optic</td>\n",
       "      <td>Bank transfer (automatic)</td>\n",
       "      <td>2.0</td>\n",
       "    </tr>\n",
       "    <tr>\n",
       "      <th>3125</th>\n",
       "      <td>2</td>\n",
       "      <td>2</td>\n",
       "      <td>1</td>\n",
       "      <td>3276-HDUEG</td>\n",
       "      <td>Female</td>\n",
       "      <td>0</td>\n",
       "      <td>0</td>\n",
       "      <td>0</td>\n",
       "      <td>1</td>\n",
       "      <td>1</td>\n",
       "      <td>...</td>\n",
       "      <td>0</td>\n",
       "      <td>0</td>\n",
       "      <td>1</td>\n",
       "      <td>75.05</td>\n",
       "      <td>75.05</td>\n",
       "      <td>1</td>\n",
       "      <td>Month-to-month</td>\n",
       "      <td>Fiber optic</td>\n",
       "      <td>Mailed check</td>\n",
       "      <td>0.0</td>\n",
       "    </tr>\n",
       "    <tr>\n",
       "      <th>1636</th>\n",
       "      <td>2</td>\n",
       "      <td>1</td>\n",
       "      <td>2</td>\n",
       "      <td>7153-CHRBV</td>\n",
       "      <td>Female</td>\n",
       "      <td>0</td>\n",
       "      <td>1</td>\n",
       "      <td>1</td>\n",
       "      <td>57</td>\n",
       "      <td>1</td>\n",
       "      <td>...</td>\n",
       "      <td>0</td>\n",
       "      <td>0</td>\n",
       "      <td>1</td>\n",
       "      <td>59.30</td>\n",
       "      <td>3274.35</td>\n",
       "      <td>0</td>\n",
       "      <td>One year</td>\n",
       "      <td>DSL</td>\n",
       "      <td>Mailed check</td>\n",
       "      <td>4.0</td>\n",
       "    </tr>\n",
       "    <tr>\n",
       "      <th>1738</th>\n",
       "      <td>2</td>\n",
       "      <td>1</td>\n",
       "      <td>2</td>\n",
       "      <td>9055-MOJJJ</td>\n",
       "      <td>Female</td>\n",
       "      <td>0</td>\n",
       "      <td>1</td>\n",
       "      <td>1</td>\n",
       "      <td>64</td>\n",
       "      <td>1</td>\n",
       "      <td>...</td>\n",
       "      <td>1</td>\n",
       "      <td>0</td>\n",
       "      <td>0</td>\n",
       "      <td>65.80</td>\n",
       "      <td>4068.00</td>\n",
       "      <td>0</td>\n",
       "      <td>One year</td>\n",
       "      <td>DSL</td>\n",
       "      <td>Mailed check</td>\n",
       "      <td>5.0</td>\n",
       "    </tr>\n",
       "  </tbody>\n",
       "</table>\n",
       "<p>4500 rows × 25 columns</p>\n",
       "</div>"
      ],
      "text/plain": [
       "      payment_type_id  internet_service_type_id  contract_type_id customer_id  \\\n",
       "5217                4                         2                 3  3134-DSHVC   \n",
       "5496                3                         2                 3  9586-JGQKH   \n",
       "4517                1                         2                 1  9874-QLCLH   \n",
       "5121                1                         2                 3  0835-JKADZ   \n",
       "5322                4                         2                 3  5693-PIPCS   \n",
       "...               ...                       ...               ...         ...   \n",
       "3615                3                         2                 1  5442-XSDCW   \n",
       "2738                3                         2                 1  1550-LOAHA   \n",
       "3125                2                         2                 1  3276-HDUEG   \n",
       "1636                2                         1                 2  7153-CHRBV   \n",
       "1738                2                         1                 2  9055-MOJJJ   \n",
       "\n",
       "      gender  senior_citizen  partner  dependents  tenure  phone_service  ...  \\\n",
       "5217  Female               0        0           0      63              1  ...   \n",
       "5496  Female               0        1           0      64              1  ...   \n",
       "4517  Female               0        1           1      17              1  ...   \n",
       "5121  Female               0        0           0      71              1  ...   \n",
       "5322    Male               0        0           0      41              1  ...   \n",
       "...      ...             ...      ...         ...     ...            ...  ...   \n",
       "3615    Male               0        1           1      11              1  ...   \n",
       "2738  Female               0        1           0      32              1  ...   \n",
       "3125  Female               0        0           0       1              1  ...   \n",
       "1636  Female               0        1           1      57              1  ...   \n",
       "1738  Female               0        1           1      64              1  ...   \n",
       "\n",
       "     streaming_tv  streaming_movies  paperless_billing  monthly_charges  \\\n",
       "5217            1                 0                  0            98.00   \n",
       "5496            1                 1                  1           105.40   \n",
       "4517            1                 1                  1           104.20   \n",
       "5121            1                 1                  1           111.25   \n",
       "5322            1                 1                  1            99.65   \n",
       "...           ...               ...                ...              ...   \n",
       "3615            1                 0                  1            79.50   \n",
       "2738            0                 1                  0            84.15   \n",
       "3125            0                 0                  1            75.05   \n",
       "1636            0                 0                  1            59.30   \n",
       "1738            1                 0                  0            65.80   \n",
       "\n",
       "      total_charges  churn   contract_type  internet_service_type  \\\n",
       "5217        6218.45      0        Two year            Fiber optic   \n",
       "5496        6794.75      0        Two year            Fiber optic   \n",
       "4517        1743.50      1  Month-to-month            Fiber optic   \n",
       "5121        7984.15      0        Two year            Fiber optic   \n",
       "5322        4220.35      0        Two year            Fiber optic   \n",
       "...             ...    ...             ...                    ...   \n",
       "3615         868.50      1  Month-to-month            Fiber optic   \n",
       "2738        2585.95      1  Month-to-month            Fiber optic   \n",
       "3125          75.05      1  Month-to-month            Fiber optic   \n",
       "1636        3274.35      0        One year                    DSL   \n",
       "1738        4068.00      0        One year                    DSL   \n",
       "\n",
       "                   payment_type  tenure_years  \n",
       "5217    Credit card (automatic)           5.0  \n",
       "5496  Bank transfer (automatic)           5.0  \n",
       "4517           Electronic check           1.0  \n",
       "5121           Electronic check           5.0  \n",
       "5322    Credit card (automatic)           3.0  \n",
       "...                         ...           ...  \n",
       "3615  Bank transfer (automatic)           0.0  \n",
       "2738  Bank transfer (automatic)           2.0  \n",
       "3125               Mailed check           0.0  \n",
       "1636               Mailed check           4.0  \n",
       "1738               Mailed check           5.0  \n",
       "\n",
       "[4500 rows x 25 columns]"
      ]
     },
     "execution_count": 18,
     "metadata": {},
     "output_type": "execute_result"
    }
   ],
   "source": [
    "train['tenure_years'] = train.tenure/12\n",
    "train.tenure_years = train.tenure_years.apply(np.floor)\n",
    "train"
   ]
  },
  {
   "cell_type": "code",
   "execution_count": 511,
   "metadata": {},
   "outputs": [],
   "source": [
    "train_plot = train[['tenure', 'total_charges', 'monthly_charges', 'churn']]"
   ]
  },
  {
   "cell_type": "code",
   "execution_count": 284,
   "metadata": {},
   "outputs": [
    {
     "data": {
      "text/html": [
       "<div>\n",
       "<style scoped>\n",
       "    .dataframe tbody tr th:only-of-type {\n",
       "        vertical-align: middle;\n",
       "    }\n",
       "\n",
       "    .dataframe tbody tr th {\n",
       "        vertical-align: top;\n",
       "    }\n",
       "\n",
       "    .dataframe thead th {\n",
       "        text-align: right;\n",
       "    }\n",
       "</style>\n",
       "<table border=\"1\" class=\"dataframe\">\n",
       "  <thead>\n",
       "    <tr style=\"text-align: right;\">\n",
       "      <th></th>\n",
       "      <th>payment_type_id</th>\n",
       "      <th>internet_service_type_id</th>\n",
       "      <th>contract_type_id</th>\n",
       "      <th>senior_citizen</th>\n",
       "      <th>partner</th>\n",
       "      <th>dependents</th>\n",
       "      <th>tenure</th>\n",
       "      <th>phone_service</th>\n",
       "      <th>online_security</th>\n",
       "      <th>online_backup</th>\n",
       "      <th>device_protection</th>\n",
       "      <th>tech_support</th>\n",
       "      <th>streaming_tv</th>\n",
       "      <th>streaming_movies</th>\n",
       "      <th>paperless_billing</th>\n",
       "      <th>monthly_charges</th>\n",
       "      <th>total_charges</th>\n",
       "      <th>churn</th>\n",
       "      <th>tenure_years</th>\n",
       "    </tr>\n",
       "  </thead>\n",
       "  <tbody>\n",
       "    <tr>\n",
       "      <th>payment_type_id</th>\n",
       "      <td>1.000000</td>\n",
       "      <td>0.010196</td>\n",
       "      <td>0.355552</td>\n",
       "      <td>-0.103203</td>\n",
       "      <td>0.123602</td>\n",
       "      <td>0.131392</td>\n",
       "      <td>0.331152</td>\n",
       "      <td>-0.012785</td>\n",
       "      <td>0.207083</td>\n",
       "      <td>0.187786</td>\n",
       "      <td>0.184068</td>\n",
       "      <td>0.212969</td>\n",
       "      <td>0.107194</td>\n",
       "      <td>0.116705</td>\n",
       "      <td>-0.094247</td>\n",
       "      <td>-0.083413</td>\n",
       "      <td>0.207307</td>\n",
       "      <td>-0.266530</td>\n",
       "      <td>0.327591</td>\n",
       "    </tr>\n",
       "    <tr>\n",
       "      <th>internet_service_type_id</th>\n",
       "      <td>0.010196</td>\n",
       "      <td>1.000000</td>\n",
       "      <td>0.109694</td>\n",
       "      <td>-0.029249</td>\n",
       "      <td>0.004398</td>\n",
       "      <td>0.051347</td>\n",
       "      <td>-0.017016</td>\n",
       "      <td>0.386718</td>\n",
       "      <td>0.621092</td>\n",
       "      <td>0.666058</td>\n",
       "      <td>0.667515</td>\n",
       "      <td>0.618590</td>\n",
       "      <td>0.714865</td>\n",
       "      <td>0.709063</td>\n",
       "      <td>-0.148740</td>\n",
       "      <td>-0.329540</td>\n",
       "      <td>-0.177037</td>\n",
       "      <td>-0.054453</td>\n",
       "      <td>-0.018147</td>\n",
       "    </tr>\n",
       "    <tr>\n",
       "      <th>contract_type_id</th>\n",
       "      <td>0.355552</td>\n",
       "      <td>0.109694</td>\n",
       "      <td>1.000000</td>\n",
       "      <td>-0.155734</td>\n",
       "      <td>0.285199</td>\n",
       "      <td>0.235638</td>\n",
       "      <td>0.675999</td>\n",
       "      <td>-0.009143</td>\n",
       "      <td>0.397776</td>\n",
       "      <td>0.362559</td>\n",
       "      <td>0.400807</td>\n",
       "      <td>0.432083</td>\n",
       "      <td>0.335675</td>\n",
       "      <td>0.349069</td>\n",
       "      <td>-0.167396</td>\n",
       "      <td>-0.089372</td>\n",
       "      <td>0.440414</td>\n",
       "      <td>-0.403699</td>\n",
       "      <td>0.674348</td>\n",
       "    </tr>\n",
       "    <tr>\n",
       "      <th>senior_citizen</th>\n",
       "      <td>-0.103203</td>\n",
       "      <td>-0.029249</td>\n",
       "      <td>-0.155734</td>\n",
       "      <td>1.000000</td>\n",
       "      <td>0.018139</td>\n",
       "      <td>-0.209509</td>\n",
       "      <td>0.009426</td>\n",
       "      <td>0.027526</td>\n",
       "      <td>-0.215005</td>\n",
       "      <td>-0.162786</td>\n",
       "      <td>-0.154695</td>\n",
       "      <td>-0.227421</td>\n",
       "      <td>-0.133915</td>\n",
       "      <td>-0.130352</td>\n",
       "      <td>0.157127</td>\n",
       "      <td>0.228021</td>\n",
       "      <td>0.103035</td>\n",
       "      <td>0.149408</td>\n",
       "      <td>0.006921</td>\n",
       "    </tr>\n",
       "    <tr>\n",
       "      <th>partner</th>\n",
       "      <td>0.123602</td>\n",
       "      <td>0.004398</td>\n",
       "      <td>0.285199</td>\n",
       "      <td>0.018139</td>\n",
       "      <td>1.000000</td>\n",
       "      <td>0.448175</td>\n",
       "      <td>0.375354</td>\n",
       "      <td>0.019449</td>\n",
       "      <td>0.073268</td>\n",
       "      <td>0.088690</td>\n",
       "      <td>0.094374</td>\n",
       "      <td>0.068276</td>\n",
       "      <td>0.073090</td>\n",
       "      <td>0.073642</td>\n",
       "      <td>-0.007685</td>\n",
       "      <td>0.089039</td>\n",
       "      <td>0.307353</td>\n",
       "      <td>-0.169257</td>\n",
       "      <td>0.367897</td>\n",
       "    </tr>\n",
       "    <tr>\n",
       "      <th>dependents</th>\n",
       "      <td>0.131392</td>\n",
       "      <td>0.051347</td>\n",
       "      <td>0.235638</td>\n",
       "      <td>-0.209509</td>\n",
       "      <td>0.448175</td>\n",
       "      <td>1.000000</td>\n",
       "      <td>0.165728</td>\n",
       "      <td>-0.000516</td>\n",
       "      <td>0.186705</td>\n",
       "      <td>0.165236</td>\n",
       "      <td>0.159343</td>\n",
       "      <td>0.180574</td>\n",
       "      <td>0.136003</td>\n",
       "      <td>0.124239</td>\n",
       "      <td>-0.112298</td>\n",
       "      <td>-0.119796</td>\n",
       "      <td>0.064202</td>\n",
       "      <td>-0.171815</td>\n",
       "      <td>0.161974</td>\n",
       "    </tr>\n",
       "    <tr>\n",
       "      <th>tenure</th>\n",
       "      <td>0.331152</td>\n",
       "      <td>-0.017016</td>\n",
       "      <td>0.675999</td>\n",
       "      <td>0.009426</td>\n",
       "      <td>0.375354</td>\n",
       "      <td>0.165728</td>\n",
       "      <td>1.000000</td>\n",
       "      <td>-0.002991</td>\n",
       "      <td>0.154416</td>\n",
       "      <td>0.192637</td>\n",
       "      <td>0.195737</td>\n",
       "      <td>0.164005</td>\n",
       "      <td>0.144816</td>\n",
       "      <td>0.155948</td>\n",
       "      <td>0.006441</td>\n",
       "      <td>0.230045</td>\n",
       "      <td>0.817362</td>\n",
       "      <td>-0.364808</td>\n",
       "      <td>0.988998</td>\n",
       "    </tr>\n",
       "    <tr>\n",
       "      <th>phone_service</th>\n",
       "      <td>-0.012785</td>\n",
       "      <td>0.386718</td>\n",
       "      <td>-0.009143</td>\n",
       "      <td>0.027526</td>\n",
       "      <td>0.019449</td>\n",
       "      <td>-0.000516</td>\n",
       "      <td>-0.002991</td>\n",
       "      <td>1.000000</td>\n",
       "      <td>0.131856</td>\n",
       "      <td>0.150252</td>\n",
       "      <td>0.134244</td>\n",
       "      <td>0.122561</td>\n",
       "      <td>0.175114</td>\n",
       "      <td>0.164008</td>\n",
       "      <td>0.034202</td>\n",
       "      <td>0.243624</td>\n",
       "      <td>0.104611</td>\n",
       "      <td>0.017386</td>\n",
       "      <td>-0.005153</td>\n",
       "    </tr>\n",
       "    <tr>\n",
       "      <th>online_security</th>\n",
       "      <td>0.207083</td>\n",
       "      <td>0.621092</td>\n",
       "      <td>0.397776</td>\n",
       "      <td>-0.215005</td>\n",
       "      <td>0.073268</td>\n",
       "      <td>0.186705</td>\n",
       "      <td>0.154416</td>\n",
       "      <td>0.131856</td>\n",
       "      <td>1.000000</td>\n",
       "      <td>0.758825</td>\n",
       "      <td>0.758639</td>\n",
       "      <td>0.800254</td>\n",
       "      <td>0.705387</td>\n",
       "      <td>0.716494</td>\n",
       "      <td>-0.342207</td>\n",
       "      <td>-0.622544</td>\n",
       "      <td>-0.158139</td>\n",
       "      <td>-0.327007</td>\n",
       "      <td>0.154427</td>\n",
       "    </tr>\n",
       "    <tr>\n",
       "      <th>online_backup</th>\n",
       "      <td>0.187786</td>\n",
       "      <td>0.666058</td>\n",
       "      <td>0.362559</td>\n",
       "      <td>-0.162786</td>\n",
       "      <td>0.088690</td>\n",
       "      <td>0.165236</td>\n",
       "      <td>0.192637</td>\n",
       "      <td>0.150252</td>\n",
       "      <td>0.758825</td>\n",
       "      <td>1.000000</td>\n",
       "      <td>0.746879</td>\n",
       "      <td>0.760471</td>\n",
       "      <td>0.724159</td>\n",
       "      <td>0.717200</td>\n",
       "      <td>-0.270229</td>\n",
       "      <td>-0.547190</td>\n",
       "      <td>-0.088103</td>\n",
       "      <td>-0.293977</td>\n",
       "      <td>0.193743</td>\n",
       "    </tr>\n",
       "    <tr>\n",
       "      <th>device_protection</th>\n",
       "      <td>0.184068</td>\n",
       "      <td>0.667515</td>\n",
       "      <td>0.400807</td>\n",
       "      <td>-0.154695</td>\n",
       "      <td>0.094374</td>\n",
       "      <td>0.159343</td>\n",
       "      <td>0.195737</td>\n",
       "      <td>0.134244</td>\n",
       "      <td>0.758639</td>\n",
       "      <td>0.746879</td>\n",
       "      <td>1.000000</td>\n",
       "      <td>0.772645</td>\n",
       "      <td>0.768175</td>\n",
       "      <td>0.775428</td>\n",
       "      <td>-0.287227</td>\n",
       "      <td>-0.520546</td>\n",
       "      <td>-0.077895</td>\n",
       "      <td>-0.289563</td>\n",
       "      <td>0.195162</td>\n",
       "    </tr>\n",
       "    <tr>\n",
       "      <th>tech_support</th>\n",
       "      <td>0.212969</td>\n",
       "      <td>0.618590</td>\n",
       "      <td>0.432083</td>\n",
       "      <td>-0.227421</td>\n",
       "      <td>0.068276</td>\n",
       "      <td>0.180574</td>\n",
       "      <td>0.164005</td>\n",
       "      <td>0.122561</td>\n",
       "      <td>0.800254</td>\n",
       "      <td>0.760471</td>\n",
       "      <td>0.772645</td>\n",
       "      <td>1.000000</td>\n",
       "      <td>0.745152</td>\n",
       "      <td>0.747252</td>\n",
       "      <td>-0.324284</td>\n",
       "      <td>-0.600891</td>\n",
       "      <td>-0.137075</td>\n",
       "      <td>-0.333430</td>\n",
       "      <td>0.163388</td>\n",
       "    </tr>\n",
       "    <tr>\n",
       "      <th>streaming_tv</th>\n",
       "      <td>0.107194</td>\n",
       "      <td>0.714865</td>\n",
       "      <td>0.335675</td>\n",
       "      <td>-0.133915</td>\n",
       "      <td>0.073090</td>\n",
       "      <td>0.136003</td>\n",
       "      <td>0.144816</td>\n",
       "      <td>0.175114</td>\n",
       "      <td>0.705387</td>\n",
       "      <td>0.724159</td>\n",
       "      <td>0.768175</td>\n",
       "      <td>0.745152</td>\n",
       "      <td>1.000000</td>\n",
       "      <td>0.817436</td>\n",
       "      <td>-0.216057</td>\n",
       "      <td>-0.427035</td>\n",
       "      <td>-0.080931</td>\n",
       "      <td>-0.209256</td>\n",
       "      <td>0.142052</td>\n",
       "    </tr>\n",
       "    <tr>\n",
       "      <th>streaming_movies</th>\n",
       "      <td>0.116705</td>\n",
       "      <td>0.709063</td>\n",
       "      <td>0.349069</td>\n",
       "      <td>-0.130352</td>\n",
       "      <td>0.073642</td>\n",
       "      <td>0.124239</td>\n",
       "      <td>0.155948</td>\n",
       "      <td>0.164008</td>\n",
       "      <td>0.716494</td>\n",
       "      <td>0.717200</td>\n",
       "      <td>0.775428</td>\n",
       "      <td>0.747252</td>\n",
       "      <td>0.817436</td>\n",
       "      <td>1.000000</td>\n",
       "      <td>-0.229393</td>\n",
       "      <td>-0.428848</td>\n",
       "      <td>-0.072716</td>\n",
       "      <td>-0.211497</td>\n",
       "      <td>0.154944</td>\n",
       "    </tr>\n",
       "    <tr>\n",
       "      <th>paperless_billing</th>\n",
       "      <td>-0.094247</td>\n",
       "      <td>-0.148740</td>\n",
       "      <td>-0.167396</td>\n",
       "      <td>0.157127</td>\n",
       "      <td>-0.007685</td>\n",
       "      <td>-0.112298</td>\n",
       "      <td>0.006441</td>\n",
       "      <td>0.034202</td>\n",
       "      <td>-0.342207</td>\n",
       "      <td>-0.270229</td>\n",
       "      <td>-0.287227</td>\n",
       "      <td>-0.324284</td>\n",
       "      <td>-0.216057</td>\n",
       "      <td>-0.229393</td>\n",
       "      <td>1.000000</td>\n",
       "      <td>0.366440</td>\n",
       "      <td>0.168557</td>\n",
       "      <td>0.192453</td>\n",
       "      <td>0.005498</td>\n",
       "    </tr>\n",
       "    <tr>\n",
       "      <th>monthly_charges</th>\n",
       "      <td>-0.083413</td>\n",
       "      <td>-0.329540</td>\n",
       "      <td>-0.089372</td>\n",
       "      <td>0.228021</td>\n",
       "      <td>0.089039</td>\n",
       "      <td>-0.119796</td>\n",
       "      <td>0.230045</td>\n",
       "      <td>0.243624</td>\n",
       "      <td>-0.622544</td>\n",
       "      <td>-0.547190</td>\n",
       "      <td>-0.520546</td>\n",
       "      <td>-0.600891</td>\n",
       "      <td>-0.427035</td>\n",
       "      <td>-0.428848</td>\n",
       "      <td>0.366440</td>\n",
       "      <td>1.000000</td>\n",
       "      <td>0.648979</td>\n",
       "      <td>0.190253</td>\n",
       "      <td>0.225688</td>\n",
       "    </tr>\n",
       "    <tr>\n",
       "      <th>total_charges</th>\n",
       "      <td>0.207307</td>\n",
       "      <td>-0.177037</td>\n",
       "      <td>0.440414</td>\n",
       "      <td>0.103035</td>\n",
       "      <td>0.307353</td>\n",
       "      <td>0.064202</td>\n",
       "      <td>0.817362</td>\n",
       "      <td>0.104611</td>\n",
       "      <td>-0.158139</td>\n",
       "      <td>-0.088103</td>\n",
       "      <td>-0.077895</td>\n",
       "      <td>-0.137075</td>\n",
       "      <td>-0.080931</td>\n",
       "      <td>-0.072716</td>\n",
       "      <td>0.168557</td>\n",
       "      <td>0.648979</td>\n",
       "      <td>1.000000</td>\n",
       "      <td>-0.207336</td>\n",
       "      <td>0.811934</td>\n",
       "    </tr>\n",
       "    <tr>\n",
       "      <th>churn</th>\n",
       "      <td>-0.266530</td>\n",
       "      <td>-0.054453</td>\n",
       "      <td>-0.403699</td>\n",
       "      <td>0.149408</td>\n",
       "      <td>-0.169257</td>\n",
       "      <td>-0.171815</td>\n",
       "      <td>-0.364808</td>\n",
       "      <td>0.017386</td>\n",
       "      <td>-0.327007</td>\n",
       "      <td>-0.293977</td>\n",
       "      <td>-0.289563</td>\n",
       "      <td>-0.333430</td>\n",
       "      <td>-0.209256</td>\n",
       "      <td>-0.211497</td>\n",
       "      <td>0.192453</td>\n",
       "      <td>0.190253</td>\n",
       "      <td>-0.207336</td>\n",
       "      <td>1.000000</td>\n",
       "      <td>-0.356645</td>\n",
       "    </tr>\n",
       "    <tr>\n",
       "      <th>tenure_years</th>\n",
       "      <td>0.327591</td>\n",
       "      <td>-0.018147</td>\n",
       "      <td>0.674348</td>\n",
       "      <td>0.006921</td>\n",
       "      <td>0.367897</td>\n",
       "      <td>0.161974</td>\n",
       "      <td>0.988998</td>\n",
       "      <td>-0.005153</td>\n",
       "      <td>0.154427</td>\n",
       "      <td>0.193743</td>\n",
       "      <td>0.195162</td>\n",
       "      <td>0.163388</td>\n",
       "      <td>0.142052</td>\n",
       "      <td>0.154944</td>\n",
       "      <td>0.005498</td>\n",
       "      <td>0.225688</td>\n",
       "      <td>0.811934</td>\n",
       "      <td>-0.356645</td>\n",
       "      <td>1.000000</td>\n",
       "    </tr>\n",
       "  </tbody>\n",
       "</table>\n",
       "</div>"
      ],
      "text/plain": [
       "                          payment_type_id  internet_service_type_id  \\\n",
       "payment_type_id                  1.000000                  0.010196   \n",
       "internet_service_type_id         0.010196                  1.000000   \n",
       "contract_type_id                 0.355552                  0.109694   \n",
       "senior_citizen                  -0.103203                 -0.029249   \n",
       "partner                          0.123602                  0.004398   \n",
       "dependents                       0.131392                  0.051347   \n",
       "tenure                           0.331152                 -0.017016   \n",
       "phone_service                   -0.012785                  0.386718   \n",
       "online_security                  0.207083                  0.621092   \n",
       "online_backup                    0.187786                  0.666058   \n",
       "device_protection                0.184068                  0.667515   \n",
       "tech_support                     0.212969                  0.618590   \n",
       "streaming_tv                     0.107194                  0.714865   \n",
       "streaming_movies                 0.116705                  0.709063   \n",
       "paperless_billing               -0.094247                 -0.148740   \n",
       "monthly_charges                 -0.083413                 -0.329540   \n",
       "total_charges                    0.207307                 -0.177037   \n",
       "churn                           -0.266530                 -0.054453   \n",
       "tenure_years                     0.327591                 -0.018147   \n",
       "\n",
       "                          contract_type_id  senior_citizen   partner  \\\n",
       "payment_type_id                   0.355552       -0.103203  0.123602   \n",
       "internet_service_type_id          0.109694       -0.029249  0.004398   \n",
       "contract_type_id                  1.000000       -0.155734  0.285199   \n",
       "senior_citizen                   -0.155734        1.000000  0.018139   \n",
       "partner                           0.285199        0.018139  1.000000   \n",
       "dependents                        0.235638       -0.209509  0.448175   \n",
       "tenure                            0.675999        0.009426  0.375354   \n",
       "phone_service                    -0.009143        0.027526  0.019449   \n",
       "online_security                   0.397776       -0.215005  0.073268   \n",
       "online_backup                     0.362559       -0.162786  0.088690   \n",
       "device_protection                 0.400807       -0.154695  0.094374   \n",
       "tech_support                      0.432083       -0.227421  0.068276   \n",
       "streaming_tv                      0.335675       -0.133915  0.073090   \n",
       "streaming_movies                  0.349069       -0.130352  0.073642   \n",
       "paperless_billing                -0.167396        0.157127 -0.007685   \n",
       "monthly_charges                  -0.089372        0.228021  0.089039   \n",
       "total_charges                     0.440414        0.103035  0.307353   \n",
       "churn                            -0.403699        0.149408 -0.169257   \n",
       "tenure_years                      0.674348        0.006921  0.367897   \n",
       "\n",
       "                          dependents    tenure  phone_service  \\\n",
       "payment_type_id             0.131392  0.331152      -0.012785   \n",
       "internet_service_type_id    0.051347 -0.017016       0.386718   \n",
       "contract_type_id            0.235638  0.675999      -0.009143   \n",
       "senior_citizen             -0.209509  0.009426       0.027526   \n",
       "partner                     0.448175  0.375354       0.019449   \n",
       "dependents                  1.000000  0.165728      -0.000516   \n",
       "tenure                      0.165728  1.000000      -0.002991   \n",
       "phone_service              -0.000516 -0.002991       1.000000   \n",
       "online_security             0.186705  0.154416       0.131856   \n",
       "online_backup               0.165236  0.192637       0.150252   \n",
       "device_protection           0.159343  0.195737       0.134244   \n",
       "tech_support                0.180574  0.164005       0.122561   \n",
       "streaming_tv                0.136003  0.144816       0.175114   \n",
       "streaming_movies            0.124239  0.155948       0.164008   \n",
       "paperless_billing          -0.112298  0.006441       0.034202   \n",
       "monthly_charges            -0.119796  0.230045       0.243624   \n",
       "total_charges               0.064202  0.817362       0.104611   \n",
       "churn                      -0.171815 -0.364808       0.017386   \n",
       "tenure_years                0.161974  0.988998      -0.005153   \n",
       "\n",
       "                          online_security  online_backup  device_protection  \\\n",
       "payment_type_id                  0.207083       0.187786           0.184068   \n",
       "internet_service_type_id         0.621092       0.666058           0.667515   \n",
       "contract_type_id                 0.397776       0.362559           0.400807   \n",
       "senior_citizen                  -0.215005      -0.162786          -0.154695   \n",
       "partner                          0.073268       0.088690           0.094374   \n",
       "dependents                       0.186705       0.165236           0.159343   \n",
       "tenure                           0.154416       0.192637           0.195737   \n",
       "phone_service                    0.131856       0.150252           0.134244   \n",
       "online_security                  1.000000       0.758825           0.758639   \n",
       "online_backup                    0.758825       1.000000           0.746879   \n",
       "device_protection                0.758639       0.746879           1.000000   \n",
       "tech_support                     0.800254       0.760471           0.772645   \n",
       "streaming_tv                     0.705387       0.724159           0.768175   \n",
       "streaming_movies                 0.716494       0.717200           0.775428   \n",
       "paperless_billing               -0.342207      -0.270229          -0.287227   \n",
       "monthly_charges                 -0.622544      -0.547190          -0.520546   \n",
       "total_charges                   -0.158139      -0.088103          -0.077895   \n",
       "churn                           -0.327007      -0.293977          -0.289563   \n",
       "tenure_years                     0.154427       0.193743           0.195162   \n",
       "\n",
       "                          tech_support  streaming_tv  streaming_movies  \\\n",
       "payment_type_id               0.212969      0.107194          0.116705   \n",
       "internet_service_type_id      0.618590      0.714865          0.709063   \n",
       "contract_type_id              0.432083      0.335675          0.349069   \n",
       "senior_citizen               -0.227421     -0.133915         -0.130352   \n",
       "partner                       0.068276      0.073090          0.073642   \n",
       "dependents                    0.180574      0.136003          0.124239   \n",
       "tenure                        0.164005      0.144816          0.155948   \n",
       "phone_service                 0.122561      0.175114          0.164008   \n",
       "online_security               0.800254      0.705387          0.716494   \n",
       "online_backup                 0.760471      0.724159          0.717200   \n",
       "device_protection             0.772645      0.768175          0.775428   \n",
       "tech_support                  1.000000      0.745152          0.747252   \n",
       "streaming_tv                  0.745152      1.000000          0.817436   \n",
       "streaming_movies              0.747252      0.817436          1.000000   \n",
       "paperless_billing            -0.324284     -0.216057         -0.229393   \n",
       "monthly_charges              -0.600891     -0.427035         -0.428848   \n",
       "total_charges                -0.137075     -0.080931         -0.072716   \n",
       "churn                        -0.333430     -0.209256         -0.211497   \n",
       "tenure_years                  0.163388      0.142052          0.154944   \n",
       "\n",
       "                          paperless_billing  monthly_charges  total_charges  \\\n",
       "payment_type_id                   -0.094247        -0.083413       0.207307   \n",
       "internet_service_type_id          -0.148740        -0.329540      -0.177037   \n",
       "contract_type_id                  -0.167396        -0.089372       0.440414   \n",
       "senior_citizen                     0.157127         0.228021       0.103035   \n",
       "partner                           -0.007685         0.089039       0.307353   \n",
       "dependents                        -0.112298        -0.119796       0.064202   \n",
       "tenure                             0.006441         0.230045       0.817362   \n",
       "phone_service                      0.034202         0.243624       0.104611   \n",
       "online_security                   -0.342207        -0.622544      -0.158139   \n",
       "online_backup                     -0.270229        -0.547190      -0.088103   \n",
       "device_protection                 -0.287227        -0.520546      -0.077895   \n",
       "tech_support                      -0.324284        -0.600891      -0.137075   \n",
       "streaming_tv                      -0.216057        -0.427035      -0.080931   \n",
       "streaming_movies                  -0.229393        -0.428848      -0.072716   \n",
       "paperless_billing                  1.000000         0.366440       0.168557   \n",
       "monthly_charges                    0.366440         1.000000       0.648979   \n",
       "total_charges                      0.168557         0.648979       1.000000   \n",
       "churn                              0.192453         0.190253      -0.207336   \n",
       "tenure_years                       0.005498         0.225688       0.811934   \n",
       "\n",
       "                             churn  tenure_years  \n",
       "payment_type_id          -0.266530      0.327591  \n",
       "internet_service_type_id -0.054453     -0.018147  \n",
       "contract_type_id         -0.403699      0.674348  \n",
       "senior_citizen            0.149408      0.006921  \n",
       "partner                  -0.169257      0.367897  \n",
       "dependents               -0.171815      0.161974  \n",
       "tenure                   -0.364808      0.988998  \n",
       "phone_service             0.017386     -0.005153  \n",
       "online_security          -0.327007      0.154427  \n",
       "online_backup            -0.293977      0.193743  \n",
       "device_protection        -0.289563      0.195162  \n",
       "tech_support             -0.333430      0.163388  \n",
       "streaming_tv             -0.209256      0.142052  \n",
       "streaming_movies         -0.211497      0.154944  \n",
       "paperless_billing         0.192453      0.005498  \n",
       "monthly_charges           0.190253      0.225688  \n",
       "total_charges            -0.207336      0.811934  \n",
       "churn                     1.000000     -0.356645  \n",
       "tenure_years             -0.356645      1.000000  "
      ]
     },
     "execution_count": 284,
     "metadata": {},
     "output_type": "execute_result"
    }
   ],
   "source": [
    "corr = train.corr()\n",
    "corr"
   ]
  },
  {
   "cell_type": "code",
   "execution_count": 525,
   "metadata": {},
   "outputs": [
    {
     "data": {
      "text/plain": [
       "<seaborn.axisgrid.PairGrid at 0x143c56590>"
      ]
     },
     "execution_count": 525,
     "metadata": {},
     "output_type": "execute_result"
    },
    {
     "data": {
      "image/png": "[encoded data removed]",
      "text/plain": [
       "<Figure size 582.375x540 with 12 Axes>"
      ]
     },
     "metadata": {
      "needs_background": "light"
     },
     "output_type": "display_data"
    }
   ],
   "source": [
    "sns.pairplot(train_plot, vars = train_plot.columns[:-1], hue='churn', plot_kws=dict(alpha=.4, edgecolor='none'))"
   ]
  },
  {
   "cell_type": "code",
   "execution_count": 22,
   "metadata": {},
   "outputs": [],
   "source": [
    "train_plot = train[['churn', 'contract_type_id']]"
   ]
  },
  {
   "cell_type": "code",
   "execution_count": 149,
   "metadata": {},
   "outputs": [
    {
     "data": {
      "text/plain": [
       "Month-to-month    2480\n",
       "Two year          1081\n",
       "One year           939\n",
       "Name: contract_type, dtype: int64"
      ]
     },
     "execution_count": 149,
     "metadata": {},
     "output_type": "execute_result"
    }
   ],
   "source": [
    "train.contract_type.value_counts()"
   ]
  },
  {
   "cell_type": "code",
   "execution_count": 23,
   "metadata": {},
   "outputs": [
    {
     "data": {
      "text/html": [
       "<div>\n",
       "<style scoped>\n",
       "    .dataframe tbody tr th:only-of-type {\n",
       "        vertical-align: middle;\n",
       "    }\n",
       "\n",
       "    .dataframe tbody tr th {\n",
       "        vertical-align: top;\n",
       "    }\n",
       "\n",
       "    .dataframe thead th {\n",
       "        text-align: right;\n",
       "    }\n",
       "</style>\n",
       "<table border=\"1\" class=\"dataframe\">\n",
       "  <thead>\n",
       "    <tr style=\"text-align: right;\">\n",
       "      <th>contract_type_id</th>\n",
       "      <th>1</th>\n",
       "      <th>2</th>\n",
       "      <th>3</th>\n",
       "    </tr>\n",
       "    <tr>\n",
       "      <th>churn</th>\n",
       "      <th></th>\n",
       "      <th></th>\n",
       "      <th></th>\n",
       "    </tr>\n",
       "  </thead>\n",
       "  <tbody>\n",
       "    <tr>\n",
       "      <th>0</th>\n",
       "      <td>0.565323</td>\n",
       "      <td>0.890309</td>\n",
       "      <td>0.972248</td>\n",
       "    </tr>\n",
       "    <tr>\n",
       "      <th>1</th>\n",
       "      <td>0.434677</td>\n",
       "      <td>0.109691</td>\n",
       "      <td>0.027752</td>\n",
       "    </tr>\n",
       "  </tbody>\n",
       "</table>\n",
       "</div>"
      ],
      "text/plain": [
       "contract_type_id         1         2         3\n",
       "churn                                         \n",
       "0                 0.565323  0.890309  0.972248\n",
       "1                 0.434677  0.109691  0.027752"
      ]
     },
     "execution_count": 23,
     "metadata": {},
     "output_type": "execute_result"
    }
   ],
   "source": [
    "pd.crosstab(train.churn, train.contract_type_id, normalize = 'columns')"
   ]
  },
  {
   "cell_type": "markdown",
   "metadata": {},
   "source": [
    "### Based on this,  month to month customers are most likely to churn"
   ]
  },
  {
   "cell_type": "code",
   "execution_count": 24,
   "metadata": {},
   "outputs": [
    {
     "data": {
      "text/html": [
       "<div>\n",
       "<style scoped>\n",
       "    .dataframe tbody tr th:only-of-type {\n",
       "        vertical-align: middle;\n",
       "    }\n",
       "\n",
       "    .dataframe tbody tr th {\n",
       "        vertical-align: top;\n",
       "    }\n",
       "\n",
       "    .dataframe thead th {\n",
       "        text-align: right;\n",
       "    }\n",
       "</style>\n",
       "<table border=\"1\" class=\"dataframe\">\n",
       "  <thead>\n",
       "    <tr style=\"text-align: right;\">\n",
       "      <th>payment_type_id</th>\n",
       "      <th>1</th>\n",
       "      <th>2</th>\n",
       "      <th>3</th>\n",
       "      <th>4</th>\n",
       "    </tr>\n",
       "    <tr>\n",
       "      <th>churn</th>\n",
       "      <th></th>\n",
       "      <th></th>\n",
       "      <th></th>\n",
       "      <th></th>\n",
       "    </tr>\n",
       "  </thead>\n",
       "  <tbody>\n",
       "    <tr>\n",
       "      <th>0</th>\n",
       "      <td>0.540682</td>\n",
       "      <td>0.811695</td>\n",
       "      <td>0.825381</td>\n",
       "      <td>0.848269</td>\n",
       "    </tr>\n",
       "    <tr>\n",
       "      <th>1</th>\n",
       "      <td>0.459318</td>\n",
       "      <td>0.188305</td>\n",
       "      <td>0.174619</td>\n",
       "      <td>0.151731</td>\n",
       "    </tr>\n",
       "  </tbody>\n",
       "</table>\n",
       "</div>"
      ],
      "text/plain": [
       "payment_type_id         1         2         3         4\n",
       "churn                                                  \n",
       "0                0.540682  0.811695  0.825381  0.848269\n",
       "1                0.459318  0.188305  0.174619  0.151731"
      ]
     },
     "execution_count": 24,
     "metadata": {},
     "output_type": "execute_result"
    }
   ],
   "source": [
    "pd.crosstab(train.churn, train.payment_type_id, normalize = 'columns')"
   ]
  },
  {
   "cell_type": "code",
   "execution_count": 89,
   "metadata": {},
   "outputs": [
    {
     "data": {
      "text/html": [
       "<div>\n",
       "<style scoped>\n",
       "    .dataframe tbody tr th:only-of-type {\n",
       "        vertical-align: middle;\n",
       "    }\n",
       "\n",
       "    .dataframe tbody tr th {\n",
       "        vertical-align: top;\n",
       "    }\n",
       "\n",
       "    .dataframe thead th {\n",
       "        text-align: right;\n",
       "    }\n",
       "</style>\n",
       "<table border=\"1\" class=\"dataframe\">\n",
       "  <thead>\n",
       "    <tr style=\"text-align: right;\">\n",
       "      <th>churn</th>\n",
       "      <th>0</th>\n",
       "      <th>1</th>\n",
       "    </tr>\n",
       "    <tr>\n",
       "      <th>tenure_years</th>\n",
       "      <th></th>\n",
       "      <th></th>\n",
       "    </tr>\n",
       "  </thead>\n",
       "  <tbody>\n",
       "    <tr>\n",
       "      <th>0.0</th>\n",
       "      <td>0.503823</td>\n",
       "      <td>0.496177</td>\n",
       "    </tr>\n",
       "    <tr>\n",
       "      <th>1.0</th>\n",
       "      <td>0.693314</td>\n",
       "      <td>0.306686</td>\n",
       "    </tr>\n",
       "    <tr>\n",
       "      <th>2.0</th>\n",
       "      <td>0.776173</td>\n",
       "      <td>0.223827</td>\n",
       "    </tr>\n",
       "    <tr>\n",
       "      <th>3.0</th>\n",
       "      <td>0.809129</td>\n",
       "      <td>0.190871</td>\n",
       "    </tr>\n",
       "    <tr>\n",
       "      <th>4.0</th>\n",
       "      <td>0.854127</td>\n",
       "      <td>0.145873</td>\n",
       "    </tr>\n",
       "    <tr>\n",
       "      <th>5.0</th>\n",
       "      <td>0.921053</td>\n",
       "      <td>0.078947</td>\n",
       "    </tr>\n",
       "    <tr>\n",
       "      <th>6.0</th>\n",
       "      <td>0.991111</td>\n",
       "      <td>0.008889</td>\n",
       "    </tr>\n",
       "  </tbody>\n",
       "</table>\n",
       "</div>"
      ],
      "text/plain": [
       "churn                0         1\n",
       "tenure_years                    \n",
       "0.0           0.503823  0.496177\n",
       "1.0           0.693314  0.306686\n",
       "2.0           0.776173  0.223827\n",
       "3.0           0.809129  0.190871\n",
       "4.0           0.854127  0.145873\n",
       "5.0           0.921053  0.078947\n",
       "6.0           0.991111  0.008889"
      ]
     },
     "execution_count": 89,
     "metadata": {},
     "output_type": "execute_result"
    }
   ],
   "source": [
    "t = pd.crosstab(train.tenure_years,train.churn, normalize = 'index')\n",
    "t"
   ]
  },
  {
   "cell_type": "markdown",
   "metadata": {},
   "source": [
    "Customers with lower tenure are more likely to churn"
   ]
  },
  {
   "cell_type": "markdown",
   "metadata": {},
   "source": [
    " ### Is there a tenure that month-to-month customers are most likely to churn? 1-year contract customers?\\\n",
    "\n"
   ]
  },
  {
   "cell_type": "code",
   "execution_count": 88,
   "metadata": {},
   "outputs": [
    {
     "data": {
      "text/html": [
       "<div>\n",
       "<style scoped>\n",
       "    .dataframe tbody tr th:only-of-type {\n",
       "        vertical-align: middle;\n",
       "    }\n",
       "\n",
       "    .dataframe tbody tr th {\n",
       "        vertical-align: top;\n",
       "    }\n",
       "\n",
       "    .dataframe thead th {\n",
       "        text-align: right;\n",
       "    }\n",
       "</style>\n",
       "<table border=\"1\" class=\"dataframe\">\n",
       "  <thead>\n",
       "    <tr style=\"text-align: right;\">\n",
       "      <th>churn</th>\n",
       "      <th>0</th>\n",
       "      <th>1</th>\n",
       "    </tr>\n",
       "    <tr>\n",
       "      <th>tenure_years</th>\n",
       "      <th></th>\n",
       "      <th></th>\n",
       "    </tr>\n",
       "  </thead>\n",
       "  <tbody>\n",
       "    <tr>\n",
       "      <th>0.0</th>\n",
       "      <td>0.467662</td>\n",
       "      <td>0.532338</td>\n",
       "    </tr>\n",
       "    <tr>\n",
       "      <th>1.0</th>\n",
       "      <td>0.616438</td>\n",
       "      <td>0.383562</td>\n",
       "    </tr>\n",
       "    <tr>\n",
       "      <th>2.0</th>\n",
       "      <td>0.668693</td>\n",
       "      <td>0.331307</td>\n",
       "    </tr>\n",
       "    <tr>\n",
       "      <th>3.0</th>\n",
       "      <td>0.645933</td>\n",
       "      <td>0.354067</td>\n",
       "    </tr>\n",
       "    <tr>\n",
       "      <th>4.0</th>\n",
       "      <td>0.736486</td>\n",
       "      <td>0.263514</td>\n",
       "    </tr>\n",
       "    <tr>\n",
       "      <th>5.0</th>\n",
       "      <td>0.760000</td>\n",
       "      <td>0.240000</td>\n",
       "    </tr>\n",
       "    <tr>\n",
       "      <th>6.0</th>\n",
       "      <td>1.000000</td>\n",
       "      <td>0.000000</td>\n",
       "    </tr>\n",
       "  </tbody>\n",
       "</table>\n",
       "</div>"
      ],
      "text/plain": [
       "churn                0         1\n",
       "tenure_years                    \n",
       "0.0           0.467662  0.532338\n",
       "1.0           0.616438  0.383562\n",
       "2.0           0.668693  0.331307\n",
       "3.0           0.645933  0.354067\n",
       "4.0           0.736486  0.263514\n",
       "5.0           0.760000  0.240000\n",
       "6.0           1.000000  0.000000"
      ]
     },
     "execution_count": 88,
     "metadata": {},
     "output_type": "execute_result"
    }
   ],
   "source": [
    "ten0 = pd.crosstab(train[train.contract_type_id ==1].tenure_years,train[train.contract_type_id ==1].churn,  normalize = 'index')\n",
    "ten0"
   ]
  },
  {
   "cell_type": "code",
   "execution_count": 399,
   "metadata": {},
   "outputs": [
    {
     "data": {
      "text/plain": [
       "<matplotlib.axes._subplots.AxesSubplot at 0x130676990>"
      ]
     },
     "execution_count": 399,
     "metadata": {},
     "output_type": "execute_result"
    },
    {
     "data": {
      "image/png": "[encoded data removed]",
      "text/plain": [
       "<Figure size 432x288 with 1 Axes>"
      ]
     },
     "metadata": {
      "needs_background": "light"
     },
     "output_type": "display_data"
    }
   ],
   "source": [
    "ten0.plot(kind='bar', stacked=True)"
   ]
  },
  {
   "cell_type": "code",
   "execution_count": 90,
   "metadata": {},
   "outputs": [
    {
     "data": {
      "text/html": [
       "<div>\n",
       "<style scoped>\n",
       "    .dataframe tbody tr th:only-of-type {\n",
       "        vertical-align: middle;\n",
       "    }\n",
       "\n",
       "    .dataframe tbody tr th {\n",
       "        vertical-align: top;\n",
       "    }\n",
       "\n",
       "    .dataframe thead th {\n",
       "        text-align: right;\n",
       "    }\n",
       "</style>\n",
       "<table border=\"1\" class=\"dataframe\">\n",
       "  <thead>\n",
       "    <tr style=\"text-align: right;\">\n",
       "      <th>churn</th>\n",
       "      <th>0</th>\n",
       "      <th>1</th>\n",
       "    </tr>\n",
       "    <tr>\n",
       "      <th>tenure_years</th>\n",
       "      <th></th>\n",
       "      <th></th>\n",
       "    </tr>\n",
       "  </thead>\n",
       "  <tbody>\n",
       "    <tr>\n",
       "      <th>0.0</th>\n",
       "      <td>0.897059</td>\n",
       "      <td>0.102941</td>\n",
       "    </tr>\n",
       "    <tr>\n",
       "      <th>1.0</th>\n",
       "      <td>0.881890</td>\n",
       "      <td>0.118110</td>\n",
       "    </tr>\n",
       "    <tr>\n",
       "      <th>2.0</th>\n",
       "      <td>0.919753</td>\n",
       "      <td>0.080247</td>\n",
       "    </tr>\n",
       "    <tr>\n",
       "      <th>3.0</th>\n",
       "      <td>0.893750</td>\n",
       "      <td>0.106250</td>\n",
       "    </tr>\n",
       "    <tr>\n",
       "      <th>4.0</th>\n",
       "      <td>0.861244</td>\n",
       "      <td>0.138756</td>\n",
       "    </tr>\n",
       "    <tr>\n",
       "      <th>5.0</th>\n",
       "      <td>0.895000</td>\n",
       "      <td>0.105000</td>\n",
       "    </tr>\n",
       "    <tr>\n",
       "      <th>6.0</th>\n",
       "      <td>0.923077</td>\n",
       "      <td>0.076923</td>\n",
       "    </tr>\n",
       "  </tbody>\n",
       "</table>\n",
       "</div>"
      ],
      "text/plain": [
       "churn                0         1\n",
       "tenure_years                    \n",
       "0.0           0.897059  0.102941\n",
       "1.0           0.881890  0.118110\n",
       "2.0           0.919753  0.080247\n",
       "3.0           0.893750  0.106250\n",
       "4.0           0.861244  0.138756\n",
       "5.0           0.895000  0.105000\n",
       "6.0           0.923077  0.076923"
      ]
     },
     "execution_count": 90,
     "metadata": {},
     "output_type": "execute_result"
    }
   ],
   "source": [
    "ten1 = pd.crosstab(train[train.contract_type_id ==2].tenure_years,train[train.contract_type_id ==2].churn,  normalize = 'index')\n",
    "ten1"
   ]
  },
  {
   "cell_type": "code",
   "execution_count": 400,
   "metadata": {},
   "outputs": [
    {
     "data": {
      "text/plain": [
       "<matplotlib.axes._subplots.AxesSubplot at 0x13864b1d0>"
      ]
     },
     "execution_count": 400,
     "metadata": {},
     "output_type": "execute_result"
    },
    {
     "data": {
      "image/png": "[encoded data removed]",
      "text/plain": [
       "<Figure size 432x288 with 1 Axes>"
      ]
     },
     "metadata": {
      "needs_background": "light"
     },
     "output_type": "display_data"
    }
   ],
   "source": [
    "ten1.plot(kind='bar', stacked=True)"
   ]
  },
  {
   "cell_type": "markdown",
   "metadata": {},
   "source": [
    "###  2-year customers? Do you have any thoughts on what could be going on? (Be sure to state these thoughts not as facts but as untested hypotheses. Unless you test them!).\\"
   ]
  },
  {
   "cell_type": "code",
   "execution_count": 91,
   "metadata": {},
   "outputs": [
    {
     "data": {
      "text/html": [
       "<div>\n",
       "<style scoped>\n",
       "    .dataframe tbody tr th:only-of-type {\n",
       "        vertical-align: middle;\n",
       "    }\n",
       "\n",
       "    .dataframe tbody tr th {\n",
       "        vertical-align: top;\n",
       "    }\n",
       "\n",
       "    .dataframe thead th {\n",
       "        text-align: right;\n",
       "    }\n",
       "</style>\n",
       "<table border=\"1\" class=\"dataframe\">\n",
       "  <thead>\n",
       "    <tr style=\"text-align: right;\">\n",
       "      <th>churn</th>\n",
       "      <th>0</th>\n",
       "      <th>1</th>\n",
       "    </tr>\n",
       "    <tr>\n",
       "      <th>tenure_years</th>\n",
       "      <th></th>\n",
       "      <th></th>\n",
       "    </tr>\n",
       "  </thead>\n",
       "  <tbody>\n",
       "    <tr>\n",
       "      <th>0.0</th>\n",
       "      <td>1.000000</td>\n",
       "      <td>0.000000</td>\n",
       "    </tr>\n",
       "    <tr>\n",
       "      <th>1.0</th>\n",
       "      <td>1.000000</td>\n",
       "      <td>0.000000</td>\n",
       "    </tr>\n",
       "    <tr>\n",
       "      <th>2.0</th>\n",
       "      <td>0.968254</td>\n",
       "      <td>0.031746</td>\n",
       "    </tr>\n",
       "    <tr>\n",
       "      <th>3.0</th>\n",
       "      <td>0.991150</td>\n",
       "      <td>0.008850</td>\n",
       "    </tr>\n",
       "    <tr>\n",
       "      <th>4.0</th>\n",
       "      <td>0.951220</td>\n",
       "      <td>0.048780</td>\n",
       "    </tr>\n",
       "    <tr>\n",
       "      <th>5.0</th>\n",
       "      <td>0.959732</td>\n",
       "      <td>0.040268</td>\n",
       "    </tr>\n",
       "    <tr>\n",
       "      <th>6.0</th>\n",
       "      <td>0.995238</td>\n",
       "      <td>0.004762</td>\n",
       "    </tr>\n",
       "  </tbody>\n",
       "</table>\n",
       "</div>"
      ],
      "text/plain": [
       "churn                0         1\n",
       "tenure_years                    \n",
       "0.0           1.000000  0.000000\n",
       "1.0           1.000000  0.000000\n",
       "2.0           0.968254  0.031746\n",
       "3.0           0.991150  0.008850\n",
       "4.0           0.951220  0.048780\n",
       "5.0           0.959732  0.040268\n",
       "6.0           0.995238  0.004762"
      ]
     },
     "execution_count": 91,
     "metadata": {},
     "output_type": "execute_result"
    }
   ],
   "source": [
    "ten2 = pd.crosstab(train[train.contract_type_id ==3].tenure_years, train[train.contract_type_id ==3].churn,  normalize = 'index')\n",
    "ten2"
   ]
  },
  {
   "cell_type": "code",
   "execution_count": 398,
   "metadata": {},
   "outputs": [
    {
     "data": {
      "text/plain": [
       "<matplotlib.axes._subplots.AxesSubplot at 0x13067c290>"
      ]
     },
     "execution_count": 398,
     "metadata": {},
     "output_type": "execute_result"
    },
    {
     "data": {
      "image/png": "[encoded data removed]",
      "text/plain": [
       "<Figure size 432x288 with 1 Axes>"
      ]
     },
     "metadata": {
      "needs_background": "light"
     },
     "output_type": "display_data"
    }
   ],
   "source": [
    "ten2.plot(kind='bar', stacked=True)"
   ]
  },
  {
   "cell_type": "markdown",
   "metadata": {},
   "source": [
    "###  Plot the rate of churn on a line chart where x is the tenure and y is the rate of churn (customers churned/total customers)."
   ]
  },
  {
   "cell_type": "code",
   "execution_count": 92,
   "metadata": {},
   "outputs": [
    {
     "data": {
      "text/plain": [
       "Text(0, 0.5, '% Churn')"
      ]
     },
     "execution_count": 92,
     "metadata": {},
     "output_type": "execute_result"
    },
    {
     "data": {
      "image/png": "[encoded data removed]",
      "text/plain": [
       "<Figure size 432x288 with 1 Axes>"
      ]
     },
     "metadata": {
      "needs_background": "light"
     },
     "output_type": "display_data"
    }
   ],
   "source": [
    "sns.lineplot( x = ten0.index, y = ten0[1], data = ten0, label = 'month to month')\n",
    "sns.lineplot( x = ten1.index, y = ten1[1], data = ten1, label = 'one year contract')\n",
    "sns.lineplot( x = ten2.index, y = ten2[1], data = ten2, label = 'two year contract')\n",
    "sns.lineplot( x = t.index, y = t[1], data = t, label = 'All Customers')\n",
    "plt.title(\"% of customers churning\")\n",
    "plt.xlabel('Tenure (years)')\n",
    "plt.ylabel('% Churn')"
   ]
  },
  {
   "cell_type": "markdown",
   "metadata": {},
   "source": [
    "### Based on this the month-to month customers are most likely to churn early in their tenure\n",
    "***"
   ]
  },
  {
   "cell_type": "markdown",
   "metadata": {},
   "source": [
    "### Are there features that indicate a higher propensity to churn? like type of internet service, type of phone service, online security and backup, senior citizens, paying more than x% of customers with the same services, etc.?"
   ]
  },
  {
   "cell_type": "code",
   "execution_count": 436,
   "metadata": {},
   "outputs": [],
   "source": [
    "df_plot = pd.crosstab(train.internet_service_type, train.churn)"
   ]
  },
  {
   "cell_type": "code",
   "execution_count": 437,
   "metadata": {},
   "outputs": [
    {
     "data": {
      "text/plain": [
       "<matplotlib.axes._subplots.AxesSubplot at 0x139c40710>"
      ]
     },
     "execution_count": 437,
     "metadata": {},
     "output_type": "execute_result"
    },
    {
     "data": {
      "image/png": "[encoded data removed]",
      "text/plain": [
       "<Figure size 432x288 with 1 Axes>"
      ]
     },
     "metadata": {
      "needs_background": "light"
     },
     "output_type": "display_data"
    }
   ],
   "source": [
    "df_plot.plot(kind='bar', stacked=True)"
   ]
  },
  {
   "cell_type": "markdown",
   "metadata": {},
   "source": [
    "### customers with internet type = fibre optics are most likely to churn\n",
    "***"
   ]
  },
  {
   "cell_type": "code",
   "execution_count": 438,
   "metadata": {},
   "outputs": [],
   "source": [
    "df_plot = pd.crosstab(train.phone_service, train.churn)\n",
    "df_plot1 = pd.crosstab(train.gender, train.churn)"
   ]
  },
  {
   "cell_type": "code",
   "execution_count": 439,
   "metadata": {},
   "outputs": [
    {
     "data": {
      "text/plain": [
       "<matplotlib.axes._subplots.AxesSubplot at 0x139d47910>"
      ]
     },
     "execution_count": 439,
     "metadata": {},
     "output_type": "execute_result"
    },
    {
     "data": {
      "image/png": "[encoded data removed]",
      "text/plain": [
       "<Figure size 432x288 with 1 Axes>"
      ]
     },
     "metadata": {
      "needs_background": "light"
     },
     "output_type": "display_data"
    },
    {
     "data": {
      "image/png": "[encoded data removed]",
      "text/plain": [
       "<Figure size 432x288 with 1 Axes>"
      ]
     },
     "metadata": {
      "needs_background": "light"
     },
     "output_type": "display_data"
    }
   ],
   "source": [
    "#plt.figure(figsize=(16, 6))\n",
    "#plt.subplot(211)\n",
    "df_plot.plot(kind='bar', stacked=True)\n",
    "#plt.subplot(212)\n",
    "df_plot1.plot(kind='bar', stacked=True)"
   ]
  },
  {
   "cell_type": "markdown",
   "metadata": {},
   "source": [
    "### no significant difference in churn for those with and without phone service\n",
    "***"
   ]
  },
  {
   "cell_type": "code",
   "execution_count": 140,
   "metadata": {},
   "outputs": [
    {
     "data": {
      "text/plain": [
       "(1980, 25)"
      ]
     },
     "execution_count": 140,
     "metadata": {},
     "output_type": "execute_result"
    }
   ],
   "source": [
    "train[train.internet_service_type == 'Fiber optic'].shape"
   ]
  },
  {
   "cell_type": "code",
   "execution_count": 134,
   "metadata": {},
   "outputs": [
    {
     "data": {
      "text/plain": [
       "108.10499999999999"
      ]
     },
     "execution_count": 134,
     "metadata": {},
     "output_type": "execute_result"
    }
   ],
   "source": [
    "i_p90 = train[train.internet_service_type == 'Fiber optic'].monthly_charges.quantile(0.9)\n",
    "i_p90"
   ]
  },
  {
   "cell_type": "code",
   "execution_count": 145,
   "metadata": {},
   "outputs": [
    {
     "data": {
      "text/plain": [
       "0.13131313131313133"
      ]
     },
     "execution_count": 145,
     "metadata": {},
     "output_type": "execute_result"
    }
   ],
   "source": [
    "train[train.internet_service_type == 'Fiber optic'][train.monthly_charges > i_p90].churn.mean()"
   ]
  },
  {
   "cell_type": "code",
   "execution_count": 146,
   "metadata": {},
   "outputs": [
    {
     "data": {
      "text/plain": [
       "0.45173961840628507"
      ]
     },
     "execution_count": 146,
     "metadata": {},
     "output_type": "execute_result"
    }
   ],
   "source": [
    "train[train.internet_service_type == 'Fiber optic'][train.monthly_charges < i_p90].churn.mean()"
   ]
  },
  {
   "cell_type": "markdown",
   "metadata": {},
   "source": [
    "### It is so weird that DSL/Fiber optic customers paying more than 90% percentile are less likely to churn than those paying less than 90 percentile!!\n",
    "***"
   ]
  },
  {
   "cell_type": "code",
   "execution_count": 449,
   "metadata": {},
   "outputs": [
    {
     "data": {
      "text/plain": [
       "1211"
      ]
     },
     "execution_count": 449,
     "metadata": {},
     "output_type": "execute_result"
    }
   ],
   "source": [
    "train.churn.sum()"
   ]
  },
  {
   "cell_type": "code",
   "execution_count": 472,
   "metadata": {},
   "outputs": [
    {
     "data": {
      "text/plain": [
       "0.6099071207430341"
      ]
     },
     "execution_count": 472,
     "metadata": {},
     "output_type": "execute_result"
    }
   ],
   "source": [
    "train[train.contract_type_id == 1][train.internet_service_type == 'Fiber optic'][train.tenure_years <= 2][train.monthly_charges > train.monthly_charges.quantile(0.5)].churn.mean()"
   ]
  },
  {
   "cell_type": "code",
   "execution_count": 473,
   "metadata": {},
   "outputs": [
    {
     "data": {
      "text/plain": [
       "0.6067415730337079"
      ]
     },
     "execution_count": 473,
     "metadata": {},
     "output_type": "execute_result"
    }
   ],
   "source": [
    "train[train.contract_type_id == 1][train.internet_service_type == 'Fiber optic'][train.tenure_years <=2]\\\n",
    "[train.monthly_charges < train.monthly_charges.quantile(0.5)].churn.mean()"
   ]
  },
  {
   "cell_type": "code",
   "execution_count": 446,
   "metadata": {},
   "outputs": [],
   "source": [
    "df_plot = pd.crosstab(train[train.contract_type_id == 1][train.internet_service_type == 'Fiber optic'][train.tenure_years <=1][train.monthly_charges > train.monthly_charges.quantile(0.5)].churn, train[train.contract_type_id == 1][train.internet_service_type == 'Fiber optic'][train.tenure_years <=1][train.monthly_charges < train.monthly_charges.quantile(0.5)].churn)"
   ]
  },
  {
   "cell_type": "code",
   "execution_count": 447,
   "metadata": {},
   "outputs": [
    {
     "data": {
      "text/html": [
       "<div>\n",
       "<style scoped>\n",
       "    .dataframe tbody tr th:only-of-type {\n",
       "        vertical-align: middle;\n",
       "    }\n",
       "\n",
       "    .dataframe tbody tr th {\n",
       "        vertical-align: top;\n",
       "    }\n",
       "\n",
       "    .dataframe thead th {\n",
       "        text-align: right;\n",
       "    }\n",
       "</style>\n",
       "<table border=\"1\" class=\"dataframe\">\n",
       "  <thead>\n",
       "    <tr style=\"text-align: right;\">\n",
       "      <th></th>\n",
       "    </tr>\n",
       "  </thead>\n",
       "  <tbody>\n",
       "  </tbody>\n",
       "</table>\n",
       "</div>"
      ],
      "text/plain": [
       "Empty DataFrame\n",
       "Columns: []\n",
       "Index: []"
      ]
     },
     "execution_count": 447,
     "metadata": {},
     "output_type": "execute_result"
    }
   ],
   "source": [
    "df_plot"
   ]
  },
  {
   "cell_type": "markdown",
   "metadata": {},
   "source": [
    "### wow! month to month customers with lower tenure and paying more than 50th percentile are way likely to churn compared to those paying less than 50th percentile!. This is specially true where customer has Fiber optic internet service\n",
    "***"
   ]
  },
  {
   "cell_type": "code",
   "execution_count": 183,
   "metadata": {},
   "outputs": [
    {
     "data": {
      "text/plain": [
       "0.5322338830584707"
      ]
     },
     "execution_count": 183,
     "metadata": {},
     "output_type": "execute_result"
    }
   ],
   "source": [
    "train[train.contract_type_id == 1][train.monthly_charges > train.monthly_charges.quantile(0.5)].churn.mean()"
   ]
  },
  {
   "cell_type": "code",
   "execution_count": 182,
   "metadata": {},
   "outputs": [
    {
     "data": {
      "text/plain": [
       "0.32111692844677137"
      ]
     },
     "execution_count": 182,
     "metadata": {},
     "output_type": "execute_result"
    }
   ],
   "source": [
    "train[train.contract_type_id == 1][train.monthly_charges < train.monthly_charges.quantile(0.5)].churn.mean()"
   ]
  },
  {
   "cell_type": "markdown",
   "metadata": {},
   "source": [
    "### If you are month-to-month customers and paying more than 50 percentile, then they are more likely to churn"
   ]
  },
  {
   "cell_type": "code",
   "execution_count": 224,
   "metadata": {},
   "outputs": [
    {
     "data": {
      "text/plain": [
       "Fiber optic    0.686210\n",
       "DSL            0.249381\n",
       "None           0.064410\n",
       "Name: internet_service_type, dtype: float64"
      ]
     },
     "execution_count": 224,
     "metadata": {},
     "output_type": "execute_result"
    }
   ],
   "source": [
    "train[train.churn == 1].internet_service_type.value_counts(normalize = True)"
   ]
  },
  {
   "cell_type": "markdown",
   "metadata": {},
   "source": [
    "1211 churn\\\n",
    "3289 not churn"
   ]
  },
  {
   "cell_type": "code",
   "execution_count": 225,
   "metadata": {},
   "outputs": [
    {
     "data": {
      "text/plain": [
       "DSL            0.372454\n",
       "Fiber optic    0.349346\n",
       "None           0.278200\n",
       "Name: internet_service_type, dtype: float64"
      ]
     },
     "execution_count": 225,
     "metadata": {},
     "output_type": "execute_result"
    }
   ],
   "source": [
    "train[train.churn == 0].internet_service_type.value_counts(normalize = True)"
   ]
  },
  {
   "cell_type": "code",
   "execution_count": 226,
   "metadata": {},
   "outputs": [
    {
     "data": {
      "text/plain": [
       "Month-to-month    0.890173\n",
       "One year          0.085054\n",
       "Two year          0.024773\n",
       "Name: contract_type, dtype: float64"
      ]
     },
     "execution_count": 226,
     "metadata": {},
     "output_type": "execute_result"
    }
   ],
   "source": [
    "train[train.churn == 1].contract_type.value_counts(normalize = True)"
   ]
  },
  {
   "cell_type": "code",
   "execution_count": 227,
   "metadata": {},
   "outputs": [
    {
     "data": {
      "text/plain": [
       "Month-to-month    0.426269\n",
       "Two year          0.319550\n",
       "One year          0.254181\n",
       "Name: contract_type, dtype: float64"
      ]
     },
     "execution_count": 227,
     "metadata": {},
     "output_type": "execute_result"
    }
   ],
   "source": [
    "train[train.churn == 0].contract_type.value_counts(normalize = True)"
   ]
  },
  {
   "cell_type": "code",
   "execution_count": 229,
   "metadata": {},
   "outputs": [
    {
     "data": {
      "text/plain": [
       "<matplotlib.axes._subplots.AxesSubplot at 0x12b7a9c90>"
      ]
     },
     "execution_count": 229,
     "metadata": {},
     "output_type": "execute_result"
    },
    {
     "data": {
      "image/png": "[encoded data removed]",
      "text/plain": [
       "<Figure size 432x288 with 1 Axes>"
      ]
     },
     "metadata": {
      "needs_background": "light"
     },
     "output_type": "display_data"
    }
   ],
   "source": [
    "sns.countplot(x=\"gender\", hue=\"churn\", data=train)"
   ]
  },
  {
   "cell_type": "code",
   "execution_count": 230,
   "metadata": {},
   "outputs": [
    {
     "data": {
      "text/plain": [
       "<matplotlib.axes._subplots.AxesSubplot at 0x12b70a650>"
      ]
     },
     "execution_count": 230,
     "metadata": {},
     "output_type": "execute_result"
    },
    {
     "data": {
      "image/png": "[encoded data removed]",
      "text/plain": [
       "<Figure size 432x288 with 1 Axes>"
      ]
     },
     "metadata": {
      "needs_background": "light"
     },
     "output_type": "display_data"
    }
   ],
   "source": [
    "sns.countplot(x=\"tenure_years\", hue=\"churn\", data=train)"
   ]
  },
  {
   "cell_type": "code",
   "execution_count": 252,
   "metadata": {},
   "outputs": [
    {
     "data": {
      "text/plain": [
       "<matplotlib.axes._subplots.AxesSubplot at 0x12d737e90>"
      ]
     },
     "execution_count": 252,
     "metadata": {},
     "output_type": "execute_result"
    },
    {
     "data": {
      "image/png": "[encoded data removed]",
      "text/plain": [
       "<Figure size 432x288 with 1 Axes>"
      ]
     },
     "metadata": {
      "needs_background": "light"
     },
     "output_type": "display_data"
    }
   ],
   "source": [
    "sns.countplot(x=\"tenure_years\", hue=\"churn\", data=train[train.monthly_charges > train.monthly_charges.quantile(0.5)])"
   ]
  },
  {
   "cell_type": "code",
   "execution_count": 248,
   "metadata": {},
   "outputs": [
    {
     "data": {
      "text/plain": [
       "805"
      ]
     },
     "execution_count": 248,
     "metadata": {},
     "output_type": "execute_result"
    }
   ],
   "source": [
    "train[train.monthly_charges > train.monthly_charges.quantile(0.5)].churn.sum()"
   ]
  },
  {
   "cell_type": "code",
   "execution_count": 821,
   "metadata": {},
   "outputs": [
    {
     "data": {
      "text/plain": [
       "25.05"
      ]
     },
     "execution_count": 821,
     "metadata": {},
     "output_type": "execute_result"
    }
   ],
   "source": [
    "train[train.monthly_charges<60].monthly_charges.quantile(0.5)"
   ]
  },
  {
   "cell_type": "code",
   "execution_count": 249,
   "metadata": {},
   "outputs": [
    {
     "data": {
      "text/plain": [
       "406"
      ]
     },
     "execution_count": 249,
     "metadata": {},
     "output_type": "execute_result"
    }
   ],
   "source": [
    "train[train.monthly_charges < train.monthly_charges.quantile(0.5)].churn.sum()"
   ]
  },
  {
   "cell_type": "code",
   "execution_count": 271,
   "metadata": {},
   "outputs": [
    {
     "data": {
      "text/html": [
       "<div>\n",
       "<style scoped>\n",
       "    .dataframe tbody tr th:only-of-type {\n",
       "        vertical-align: middle;\n",
       "    }\n",
       "\n",
       "    .dataframe tbody tr th {\n",
       "        vertical-align: top;\n",
       "    }\n",
       "\n",
       "    .dataframe thead th {\n",
       "        text-align: right;\n",
       "    }\n",
       "</style>\n",
       "<table border=\"1\" class=\"dataframe\">\n",
       "  <thead>\n",
       "    <tr style=\"text-align: right;\">\n",
       "      <th></th>\n",
       "      <th>payment_type_id</th>\n",
       "      <th>internet_service_type_id</th>\n",
       "      <th>contract_type_id</th>\n",
       "      <th>customer_id</th>\n",
       "      <th>gender</th>\n",
       "      <th>senior_citizen</th>\n",
       "      <th>partner</th>\n",
       "      <th>dependents</th>\n",
       "      <th>tenure</th>\n",
       "      <th>phone_service</th>\n",
       "      <th>...</th>\n",
       "      <th>streaming_tv</th>\n",
       "      <th>streaming_movies</th>\n",
       "      <th>paperless_billing</th>\n",
       "      <th>monthly_charges</th>\n",
       "      <th>total_charges</th>\n",
       "      <th>churn</th>\n",
       "      <th>contract_type</th>\n",
       "      <th>internet_service_type</th>\n",
       "      <th>payment_type</th>\n",
       "      <th>tenure_years</th>\n",
       "    </tr>\n",
       "  </thead>\n",
       "  <tbody>\n",
       "    <tr>\n",
       "      <th>5217</th>\n",
       "      <td>4</td>\n",
       "      <td>2</td>\n",
       "      <td>3</td>\n",
       "      <td>3134-DSHVC</td>\n",
       "      <td>Female</td>\n",
       "      <td>0</td>\n",
       "      <td>0</td>\n",
       "      <td>0</td>\n",
       "      <td>63</td>\n",
       "      <td>1</td>\n",
       "      <td>...</td>\n",
       "      <td>1</td>\n",
       "      <td>0</td>\n",
       "      <td>0</td>\n",
       "      <td>98.0</td>\n",
       "      <td>6218.45</td>\n",
       "      <td>0</td>\n",
       "      <td>Two year</td>\n",
       "      <td>Fiber optic</td>\n",
       "      <td>Credit card (automatic)</td>\n",
       "      <td>5.0</td>\n",
       "    </tr>\n",
       "    <tr>\n",
       "      <th>5496</th>\n",
       "      <td>3</td>\n",
       "      <td>2</td>\n",
       "      <td>3</td>\n",
       "      <td>9586-JGQKH</td>\n",
       "      <td>Female</td>\n",
       "      <td>0</td>\n",
       "      <td>1</td>\n",
       "      <td>0</td>\n",
       "      <td>64</td>\n",
       "      <td>1</td>\n",
       "      <td>...</td>\n",
       "      <td>1</td>\n",
       "      <td>1</td>\n",
       "      <td>1</td>\n",
       "      <td>105.4</td>\n",
       "      <td>6794.75</td>\n",
       "      <td>0</td>\n",
       "      <td>Two year</td>\n",
       "      <td>Fiber optic</td>\n",
       "      <td>Bank transfer (automatic)</td>\n",
       "      <td>5.0</td>\n",
       "    </tr>\n",
       "  </tbody>\n",
       "</table>\n",
       "<p>2 rows × 25 columns</p>\n",
       "</div>"
      ],
      "text/plain": [
       "      payment_type_id  internet_service_type_id  contract_type_id customer_id  \\\n",
       "5217                4                         2                 3  3134-DSHVC   \n",
       "5496                3                         2                 3  9586-JGQKH   \n",
       "\n",
       "      gender  senior_citizen  partner  dependents  tenure  phone_service  ...  \\\n",
       "5217  Female               0        0           0      63              1  ...   \n",
       "5496  Female               0        1           0      64              1  ...   \n",
       "\n",
       "     streaming_tv  streaming_movies  paperless_billing  monthly_charges  \\\n",
       "5217            1                 0                  0             98.0   \n",
       "5496            1                 1                  1            105.4   \n",
       "\n",
       "      total_charges  churn  contract_type  internet_service_type  \\\n",
       "5217        6218.45      0       Two year            Fiber optic   \n",
       "5496        6794.75      0       Two year            Fiber optic   \n",
       "\n",
       "                   payment_type  tenure_years  \n",
       "5217    Credit card (automatic)           5.0  \n",
       "5496  Bank transfer (automatic)           5.0  \n",
       "\n",
       "[2 rows x 25 columns]"
      ]
     },
     "execution_count": 271,
     "metadata": {},
     "output_type": "execute_result"
    }
   ],
   "source": [
    "train.head(2)"
   ]
  },
  {
   "cell_type": "code",
   "execution_count": 503,
   "metadata": {},
   "outputs": [
    {
     "data": {
      "text/plain": [
       "<matplotlib.axes._subplots.AxesSubplot at 0x13a0e4290>"
      ]
     },
     "execution_count": 503,
     "metadata": {},
     "output_type": "execute_result"
    },
    {
     "data": {
      "image/png": "[encoded data removed]",
      "text/plain": [
       "<Figure size 1152x432 with 4 Axes>"
      ]
     },
     "metadata": {
      "needs_background": "light"
     },
     "output_type": "display_data"
    }
   ],
   "source": [
    "plt.figure(figsize=(16, 6))\n",
    "plt.subplot(221)\n",
    "sns.countplot(x=\"internet_service_type\", hue=\"churn\",\\\n",
    "              data=train[train.monthly_charges > train.monthly_charges.quantile(0.5)][train.tenure_years <=2])\n",
    "plt.subplot(222)\n",
    "sns.countplot(x=\"senior_citizen\", hue=\"churn\",\\\n",
    "              data=train[train.monthly_charges > train.monthly_charges.quantile(0.5)][train.tenure_years <=2])\n",
    "\n",
    "plt.subplot(223)\n",
    "sns.countplot(x=\"phone_service\", hue=\"churn\",\\\n",
    "              data=train[train.monthly_charges > train.monthly_charges.quantile(0.5)][train.tenure_years <=2])\n",
    "\n",
    "plt.subplot(224)\n",
    "sns.countplot(x=\"paperless_billing\", hue=\"churn\",\\\n",
    "              data=train[train.monthly_charges > train.monthly_charges.quantile(0.5)][train.tenure_years <=2])\n",
    "\n",
    "\n"
   ]
  },
  {
   "cell_type": "code",
   "execution_count": 286,
   "metadata": {},
   "outputs": [
    {
     "data": {
      "text/plain": [
       "<matplotlib.axes._subplots.AxesSubplot at 0x134cc13d0>"
      ]
     },
     "execution_count": 286,
     "metadata": {},
     "output_type": "execute_result"
    },
    {
     "data": {
      "image/png": "[encoded data removed]",
      "text/plain": [
       "<Figure size 1152x432 with 6 Axes>"
      ]
     },
     "metadata": {
      "needs_background": "light"
     },
     "output_type": "display_data"
    }
   ],
   "source": [
    "plt.figure(figsize=(16, 6))\n",
    "plt.subplot(331)\n",
    "sns.countplot(x=\"contract_type\", hue=\"churn\",\\\n",
    "              data=train[train.monthly_charges > train.monthly_charges.quantile(0.5)][train.tenure_years <=2])\n",
    "plt.subplot(332)\n",
    "sns.countplot(x=\"streaming_movies\", hue=\"churn\",\\\n",
    "              data=train[train.monthly_charges > train.monthly_charges.quantile(0.5)][train.tenure_years <=2])\n",
    "\n",
    "plt.subplot(333)\n",
    "sns.countplot(x=\"tech_support\", hue=\"churn\",\\\n",
    "              data=train[train.monthly_charges > train.monthly_charges.quantile(0.5)][train.tenure_years <=2])\n",
    "\n",
    "plt.subplot(334)\n",
    "sns.countplot(x=\"payment_type\", hue=\"churn\",\\\n",
    "              data=train[train.monthly_charges > train.monthly_charges.quantile(0.5)][train.tenure_years <=2])\n",
    "\n",
    "plt.subplot(335)\n",
    "sns.countplot(x=\"device_protection\", hue=\"churn\",\\\n",
    "              data=train[train.monthly_charges > train.monthly_charges.quantile(0.5)][train.tenure_years <=2])\n",
    "plt.subplot(336)\n",
    "sns.countplot(x=\"tech_support\", hue=\"churn\",\\\n",
    "              data=train[train.monthly_charges > train.monthly_charges.quantile(0.5)][train.tenure_years <=2])"
   ]
  },
  {
   "cell_type": "markdown",
   "metadata": {},
   "source": [
    "### Is there a price threshold for specific services where the likelihood of churn increases once price for those services goes past that point? If so, what is that point for what service(s)?"
   ]
  },
  {
   "cell_type": "code",
   "execution_count": 849,
   "metadata": {},
   "outputs": [
    {
     "name": "stdout",
     "output_type": "stream",
     "text": [
      "428\n",
      "41.85198598130846\n",
      "67.2\n",
      "23.45\n",
      "0\n",
      "nan\n",
      "nan\n",
      "nan\n",
      "0\n",
      "nan\n",
      "nan\n",
      "nan\n"
     ]
    }
   ],
   "source": [
    "for i in range (1 , 4):\n",
    "    print(train[train.phone_service == 0][train.internet_service_type_id ==i].monthly_charges.count())\n",
    "    print(train[train.phone_service == 0][train.internet_service_type_id ==i].monthly_charges.mean())\n",
    "    print(train[train.phone_service == 0][train.internet_service_type_id ==i].monthly_charges.max())\n",
    "    print(train[train.phone_service == 0][train.internet_service_type_id ==i].monthly_charges.min())"
   ]
  },
  {
   "cell_type": "code",
   "execution_count": 811,
   "metadata": {},
   "outputs": [
    {
     "data": {
      "text/plain": [
       "0    152\n",
       "1     81\n",
       "Name: churn, dtype: int64"
      ]
     },
     "execution_count": 811,
     "metadata": {},
     "output_type": "execute_result"
    }
   ],
   "source": [
    "train[train.phone_service == 0][train.internet_service_type_id ==1][train.tenure_years <=2].churn.value_counts()"
   ]
  },
  {
   "cell_type": "code",
   "execution_count": 812,
   "metadata": {},
   "outputs": [
    {
     "data": {
      "text/plain": [
       "0    443\n",
       "1    174\n",
       "Name: churn, dtype: int64"
      ]
     },
     "execution_count": 812,
     "metadata": {},
     "output_type": "execute_result"
    }
   ],
   "source": [
    "train[train.phone_service == 1][train.internet_service_type_id ==1][train.tenure_years <=2].churn.value_counts()"
   ]
  },
  {
   "cell_type": "code",
   "execution_count": 813,
   "metadata": {},
   "outputs": [
    {
     "data": {
      "text/plain": [
       "1    656\n",
       "0    464\n",
       "Name: churn, dtype: int64"
      ]
     },
     "execution_count": 813,
     "metadata": {},
     "output_type": "execute_result"
    }
   ],
   "source": [
    "train[train.phone_service == 1][train.internet_service_type_id ==2][train.tenure_years <=2].churn.value_counts()"
   ]
  },
  {
   "cell_type": "code",
   "execution_count": 814,
   "metadata": {},
   "outputs": [
    {
     "data": {
      "text/plain": [
       "0    507\n",
       "1     73\n",
       "Name: churn, dtype: int64"
      ]
     },
     "execution_count": 814,
     "metadata": {},
     "output_type": "execute_result"
    }
   ],
   "source": [
    "train[train.phone_service == 1][train.internet_service_type_id ==3][train.tenure_years <=2].churn.value_counts()"
   ]
  },
  {
   "cell_type": "code",
   "execution_count": 383,
   "metadata": {},
   "outputs": [
    {
     "data": {
      "text/plain": [
       "1    656\n",
       "0    464\n",
       "Name: churn, dtype: int64"
      ]
     },
     "execution_count": 383,
     "metadata": {},
     "output_type": "execute_result"
    }
   ],
   "source": [
    "fo = train[train.phone_service == 1][train.internet_service_type_id ==2][train.tenure_years <=2]\n",
    "fo1 = train[train.phone_service == 0][train.internet_service_type_id ==1][train.tenure_years <=2]\n",
    "fo.churn.value_counts()"
   ]
  },
  {
   "cell_type": "code",
   "execution_count": 384,
   "metadata": {},
   "outputs": [],
   "source": [
    "fo = fo.sort_values(by = 'monthly_charges')\n",
    "fo1 = fo1.sort_values(by = 'monthly_charges')"
   ]
  },
  {
   "cell_type": "code",
   "execution_count": 385,
   "metadata": {},
   "outputs": [],
   "source": [
    "fo['cumsum'] = fo.churn.cumsum()/fo.shape[0]\n",
    "fo1['cumsum'] = fo1.churn.cumsum()/fo1.shape[0]"
   ]
  },
  {
   "cell_type": "code",
   "execution_count": 526,
   "metadata": {},
   "outputs": [],
   "source": [
    "# sns.lineplot(x = 'monthly_charges', y = 'cumsum', data = fo, label = 'phone and fiber optic')\n",
    "# sns.lineplot(x = 'monthly_charges', y = 'cumsum', data = fo1, label =  'DSL only')\n",
    "# plt.title('% Cumulative Churn Rate as function of monthly charges')"
   ]
  },
  {
   "cell_type": "markdown",
   "metadata": {},
   "source": []
  },
  {
   "cell_type": "code",
   "execution_count": 421,
   "metadata": {},
   "outputs": [],
   "source": [
    "fo = train[train.phone_service == 1][train.internet_service_type_id ==2][train.tenure_years <=2]\n",
    "fo['monthly_bin'] = pd.cut(fo.monthly_charges, bins=10)"
   ]
  },
  {
   "cell_type": "code",
   "execution_count": 424,
   "metadata": {},
   "outputs": [
    {
     "data": {
      "text/html": [
       "<div>\n",
       "<style scoped>\n",
       "    .dataframe tbody tr th:only-of-type {\n",
       "        vertical-align: middle;\n",
       "    }\n",
       "\n",
       "    .dataframe tbody tr th {\n",
       "        vertical-align: top;\n",
       "    }\n",
       "\n",
       "    .dataframe thead th {\n",
       "        text-align: right;\n",
       "    }\n",
       "</style>\n",
       "<table border=\"1\" class=\"dataframe\">\n",
       "  <thead>\n",
       "    <tr style=\"text-align: right;\">\n",
       "      <th></th>\n",
       "      <th>payment_type_id</th>\n",
       "      <th>internet_service_type_id</th>\n",
       "      <th>contract_type_id</th>\n",
       "      <th>customer_id</th>\n",
       "      <th>gender</th>\n",
       "      <th>senior_citizen</th>\n",
       "      <th>partner</th>\n",
       "      <th>dependents</th>\n",
       "      <th>tenure</th>\n",
       "      <th>phone_service</th>\n",
       "      <th>...</th>\n",
       "      <th>streaming_movies</th>\n",
       "      <th>paperless_billing</th>\n",
       "      <th>monthly_charges</th>\n",
       "      <th>total_charges</th>\n",
       "      <th>churn</th>\n",
       "      <th>contract_type</th>\n",
       "      <th>internet_service_type</th>\n",
       "      <th>payment_type</th>\n",
       "      <th>tenure_years</th>\n",
       "      <th>monthly_bin</th>\n",
       "    </tr>\n",
       "  </thead>\n",
       "  <tbody>\n",
       "    <tr>\n",
       "      <th>4517</th>\n",
       "      <td>1</td>\n",
       "      <td>2</td>\n",
       "      <td>1</td>\n",
       "      <td>9874-QLCLH</td>\n",
       "      <td>Female</td>\n",
       "      <td>0</td>\n",
       "      <td>1</td>\n",
       "      <td>1</td>\n",
       "      <td>17</td>\n",
       "      <td>1</td>\n",
       "      <td>...</td>\n",
       "      <td>1</td>\n",
       "      <td>1</td>\n",
       "      <td>104.2</td>\n",
       "      <td>1743.50</td>\n",
       "      <td>1</td>\n",
       "      <td>Month-to-month</td>\n",
       "      <td>Fiber optic</td>\n",
       "      <td>Electronic check</td>\n",
       "      <td>1.0</td>\n",
       "      <td>(101.7, 106.55]</td>\n",
       "    </tr>\n",
       "    <tr>\n",
       "      <th>4298</th>\n",
       "      <td>2</td>\n",
       "      <td>2</td>\n",
       "      <td>1</td>\n",
       "      <td>8802-UNOJF</td>\n",
       "      <td>Male</td>\n",
       "      <td>1</td>\n",
       "      <td>0</td>\n",
       "      <td>0</td>\n",
       "      <td>12</td>\n",
       "      <td>1</td>\n",
       "      <td>...</td>\n",
       "      <td>0</td>\n",
       "      <td>1</td>\n",
       "      <td>83.8</td>\n",
       "      <td>1029.75</td>\n",
       "      <td>1</td>\n",
       "      <td>Month-to-month</td>\n",
       "      <td>Fiber optic</td>\n",
       "      <td>Mailed check</td>\n",
       "      <td>1.0</td>\n",
       "      <td>(82.3, 87.15]</td>\n",
       "    </tr>\n",
       "  </tbody>\n",
       "</table>\n",
       "<p>2 rows × 26 columns</p>\n",
       "</div>"
      ],
      "text/plain": [
       "      payment_type_id  internet_service_type_id  contract_type_id customer_id  \\\n",
       "4517                1                         2                 1  9874-QLCLH   \n",
       "4298                2                         2                 1  8802-UNOJF   \n",
       "\n",
       "      gender  senior_citizen  partner  dependents  tenure  phone_service  ...  \\\n",
       "4517  Female               0        1           1      17              1  ...   \n",
       "4298    Male               1        0           0      12              1  ...   \n",
       "\n",
       "     streaming_movies  paperless_billing  monthly_charges  total_charges  \\\n",
       "4517                1                  1            104.2        1743.50   \n",
       "4298                0                  1             83.8        1029.75   \n",
       "\n",
       "      churn   contract_type  internet_service_type      payment_type  \\\n",
       "4517      1  Month-to-month            Fiber optic  Electronic check   \n",
       "4298      1  Month-to-month            Fiber optic      Mailed check   \n",
       "\n",
       "      tenure_years      monthly_bin  \n",
       "4517           1.0  (101.7, 106.55]  \n",
       "4298           1.0    (82.3, 87.15]  \n",
       "\n",
       "[2 rows x 26 columns]"
      ]
     },
     "execution_count": 424,
     "metadata": {},
     "output_type": "execute_result"
    }
   ],
   "source": [
    "fo.head(2)"
   ]
  },
  {
   "cell_type": "code",
   "execution_count": 435,
   "metadata": {},
   "outputs": [
    {
     "data": {
      "text/html": [
       "<div>\n",
       "<style scoped>\n",
       "    .dataframe tbody tr th:only-of-type {\n",
       "        vertical-align: middle;\n",
       "    }\n",
       "\n",
       "    .dataframe tbody tr th {\n",
       "        vertical-align: top;\n",
       "    }\n",
       "\n",
       "    .dataframe thead th {\n",
       "        text-align: right;\n",
       "    }\n",
       "</style>\n",
       "<table border=\"1\" class=\"dataframe\">\n",
       "  <thead>\n",
       "    <tr style=\"text-align: right;\">\n",
       "      <th></th>\n",
       "      <th>monthly_bin</th>\n",
       "      <th>churn</th>\n",
       "    </tr>\n",
       "  </thead>\n",
       "  <tbody>\n",
       "    <tr>\n",
       "      <th>0</th>\n",
       "      <td>(67.702, 72.6]</td>\n",
       "      <td>0.573427</td>\n",
       "    </tr>\n",
       "    <tr>\n",
       "      <th>1</th>\n",
       "      <td>(72.6, 77.45]</td>\n",
       "      <td>0.627778</td>\n",
       "    </tr>\n",
       "    <tr>\n",
       "      <th>2</th>\n",
       "      <td>(77.45, 82.3]</td>\n",
       "      <td>0.598765</td>\n",
       "    </tr>\n",
       "    <tr>\n",
       "      <th>3</th>\n",
       "      <td>(82.3, 87.15]</td>\n",
       "      <td>0.584906</td>\n",
       "    </tr>\n",
       "    <tr>\n",
       "      <th>4</th>\n",
       "      <td>(87.15, 92.0]</td>\n",
       "      <td>0.527397</td>\n",
       "    </tr>\n",
       "    <tr>\n",
       "      <th>5</th>\n",
       "      <td>(92.0, 96.85]</td>\n",
       "      <td>0.587838</td>\n",
       "    </tr>\n",
       "    <tr>\n",
       "      <th>6</th>\n",
       "      <td>(96.85, 101.7]</td>\n",
       "      <td>0.676190</td>\n",
       "    </tr>\n",
       "    <tr>\n",
       "      <th>7</th>\n",
       "      <td>(101.7, 106.55]</td>\n",
       "      <td>0.559322</td>\n",
       "    </tr>\n",
       "    <tr>\n",
       "      <th>8</th>\n",
       "      <td>(106.55, 111.4]</td>\n",
       "      <td>0.214286</td>\n",
       "    </tr>\n",
       "    <tr>\n",
       "      <th>9</th>\n",
       "      <td>(111.4, 116.25]</td>\n",
       "      <td>0.000000</td>\n",
       "    </tr>\n",
       "  </tbody>\n",
       "</table>\n",
       "</div>"
      ],
      "text/plain": [
       "       monthly_bin     churn\n",
       "0   (67.702, 72.6]  0.573427\n",
       "1    (72.6, 77.45]  0.627778\n",
       "2    (77.45, 82.3]  0.598765\n",
       "3    (82.3, 87.15]  0.584906\n",
       "4    (87.15, 92.0]  0.527397\n",
       "5    (92.0, 96.85]  0.587838\n",
       "6   (96.85, 101.7]  0.676190\n",
       "7  (101.7, 106.55]  0.559322\n",
       "8  (106.55, 111.4]  0.214286\n",
       "9  (111.4, 116.25]  0.000000"
      ]
     },
     "execution_count": 435,
     "metadata": {},
     "output_type": "execute_result"
    }
   ],
   "source": [
    "fo = fo.groupby('monthly_bin').churn.mean().reset_index()\n",
    "fo"
   ]
  },
  {
   "cell_type": "code",
   "execution_count": 434,
   "metadata": {},
   "outputs": [
    {
     "data": {
      "text/plain": [
       "<matplotlib.axes._subplots.AxesSubplot at 0x139b5d290>"
      ]
     },
     "execution_count": 434,
     "metadata": {},
     "output_type": "execute_result"
    },
    {
     "data": {
      "image/png": "[encoded data removed]",
      "text/plain": [
       "<Figure size 432x288 with 1 Axes>"
      ]
     },
     "metadata": {
      "needs_background": "light"
     },
     "output_type": "display_data"
    }
   ],
   "source": [
    "sns.barplot(x = 'monthly_bin', y = 'churn', data = fo)"
   ]
  },
  {
   "cell_type": "code",
   "execution_count": 485,
   "metadata": {},
   "outputs": [],
   "source": [
    "train_dsl= train[train.contract_type_id == 1][train.internet_service_type == 'DSL'][train.tenure_years <=2]"
   ]
  },
  {
   "cell_type": "code",
   "execution_count": 500,
   "metadata": {},
   "outputs": [],
   "source": [
    "train_fo = train[train.contract_type_id == 1][train.internet_service_type == 'Fiber optic'][train.tenure_years <=2]"
   ]
  },
  {
   "cell_type": "code",
   "execution_count": 501,
   "metadata": {},
   "outputs": [
    {
     "data": {
      "text/plain": [
       "0    438\n",
       "1    236\n",
       "Name: churn, dtype: int64"
      ]
     },
     "execution_count": 501,
     "metadata": {},
     "output_type": "execute_result"
    }
   ],
   "source": [
    "train_dsl.churn.value_counts()"
   ]
  },
  {
   "cell_type": "code",
   "execution_count": 502,
   "metadata": {},
   "outputs": [
    {
     "data": {
      "text/plain": [
       "1    645\n",
       "0    413\n",
       "Name: churn, dtype: int64"
      ]
     },
     "execution_count": 502,
     "metadata": {},
     "output_type": "execute_result"
    }
   ],
   "source": [
    "train_fo.churn.value_counts()"
   ]
  },
  {
   "cell_type": "code",
   "execution_count": 482,
   "metadata": {},
   "outputs": [
    {
     "data": {
      "text/plain": [
       "0    3289\n",
       "1    1211\n",
       "Name: churn, dtype: int64"
      ]
     },
     "execution_count": 482,
     "metadata": {},
     "output_type": "execute_result"
    }
   ],
   "source": [
    "train.churn.value_counts()"
   ]
  },
  {
   "cell_type": "code",
   "execution_count": 505,
   "metadata": {},
   "outputs": [],
   "source": [
    "train_fo['monthly_bin'] = pd.cut(train_fo.monthly_charges, bins =10)"
   ]
  },
  {
   "cell_type": "code",
   "execution_count": 506,
   "metadata": {},
   "outputs": [],
   "source": [
    "train_fo = fo.groupby('monthly_bin').churn.mean().reset_index()"
   ]
  },
  {
   "cell_type": "code",
   "execution_count": 510,
   "metadata": {},
   "outputs": [
    {
     "data": {
      "text/plain": [
       "(array([0, 1, 2, 3, 4, 5, 6, 7, 8, 9]),\n",
       " <a list of 10 Text major ticklabel objects>)"
      ]
     },
     "execution_count": 510,
     "metadata": {},
     "output_type": "execute_result"
    },
    {
     "data": {
      "image/png": "[encoded data removed]",
      "text/plain": [
       "<Figure size 432x288 with 1 Axes>"
      ]
     },
     "metadata": {
      "needs_background": "light"
     },
     "output_type": "display_data"
    }
   ],
   "source": [
    "sns.barplot(x = 'monthly_bin', y = 'churn', data = train_fo, orient=45)\n",
    "plt.xticks(rotation=45)"
   ]
  },
  {
   "cell_type": "code",
   "execution_count": 822,
   "metadata": {},
   "outputs": [
    {
     "data": {
      "text/plain": [
       "Text(0, 0.5, 'no of customers churned')"
      ]
     },
     "execution_count": 822,
     "metadata": {},
     "output_type": "execute_result"
    },
    {
     "data": {
      "image/png": "[encoded data removed]",
      "text/plain": [
       "<Figure size 864x612 with 1 Axes>"
      ]
     },
     "metadata": {
      "needs_background": "light"
     },
     "output_type": "display_data"
    }
   ],
   "source": [
    "#fig, ax = plt.subplots(1, 2, figsize=(15, 3))\n",
    "train[train.churn ==0].tenure.hist(bins = 60, alpha = 0.5, color= 'purple')\n",
    "train[train.churn ==1].tenure.hist(bins = 60, alpha = 0.7, color = 'orange')\n",
    "plt.xlabel('Tenure')\n",
    "plt.ylabel('no of customers churned')\n",
    "#sns.kdeplot(train[train.churn ==1].tenure, bw=1.0) "
   ]
  },
  {
   "cell_type": "code",
   "execution_count": 825,
   "metadata": {},
   "outputs": [
    {
     "data": {
      "text/plain": [
       "Text(0, 0.5, 'no of customers churned')"
      ]
     },
     "execution_count": 825,
     "metadata": {},
     "output_type": "execute_result"
    },
    {
     "data": {
      "image/png": "[encoded data removed]",
      "text/plain": [
       "<Figure size 864x612 with 1 Axes>"
      ]
     },
     "metadata": {
      "needs_background": "light"
     },
     "output_type": "display_data"
    }
   ],
   "source": [
    "plt.hist(train[train.churn ==0].monthly_charges,bins = 60, alpha = 0.7, color = 'purple')\n",
    "plt.hist(train[train.churn ==1].monthly_charges,bins = 60, alpha = 0.7, color = 'orange')\n",
    "plt.xlabel('Monthly Charges')\n",
    "plt.ylabel('no of customers churned')"
   ]
  },
  {
   "cell_type": "code",
   "execution_count": 858,
   "metadata": {},
   "outputs": [
    {
     "data": {
      "text/plain": [
       "Text(0, 0.5, 'no of customers churned')"
      ]
     },
     "execution_count": 858,
     "metadata": {},
     "output_type": "execute_result"
    },
    {
     "data": {
      "image/png": "[encoded data removed]",
      "text/plain": [
       "<Figure size 864x612 with 1 Axes>"
      ]
     },
     "metadata": {
      "needs_background": "light"
     },
     "output_type": "display_data"
    }
   ],
   "source": [
    "plt.hist(train[train.phone_service == 0][train.internet_service_type_id ==1][train.churn ==0].monthly_charges,bins = 30, alpha = 0.7, color = 'purple')\n",
    "plt.hist(train[train.phone_service == 0][train.internet_service_type_id ==1][train.churn ==1].monthly_charges,bins = 60, alpha = 0.7, color = 'orange')\n",
    "plt.xlabel('Monthly Charges')\n",
    "plt.ylabel('no of customers churned')"
   ]
  },
  {
   "cell_type": "code",
   "execution_count": 601,
   "metadata": {},
   "outputs": [
    {
     "data": {
      "text/plain": [
       "Text(0, 0.5, 'no of customers churned')"
      ]
     },
     "execution_count": 601,
     "metadata": {},
     "output_type": "execute_result"
    },
    {
     "data": {
      "image/png": "[encoded data removed]",
      "text/plain": [
       "<Figure size 432x288 with 2 Axes>"
      ]
     },
     "metadata": {
      "needs_background": "light"
     },
     "output_type": "display_data"
    }
   ],
   "source": [
    "\n",
    "f, axes = plt.subplots(1, 2, sharey = True)\n",
    "sns.kdeplot(train[train.churn ==1].monthly_charges, bw=1.5, label = 'churn', ax=axes[0], color = 'orange')\n",
    "sns.kdeplot(train[train.churn ==0].monthly_charges, bw=1.5, label = 'no churn', ax=axes[1], color = 'blue') \n",
    "\n",
    "plt.xlabel('monthly charges')\n",
    "plt.ylabel('no of customers churned')\n"
   ]
  },
  {
   "cell_type": "code",
   "execution_count": 602,
   "metadata": {},
   "outputs": [
    {
     "data": {
      "text/plain": [
       "Text(0, 0.5, 'no of customers churned')"
      ]
     },
     "execution_count": 602,
     "metadata": {},
     "output_type": "execute_result"
    },
    {
     "data": {
      "image/png": "[encoded data removed]",
      "text/plain": [
       "<Figure size 432x288 with 1 Axes>"
      ]
     },
     "metadata": {
      "needs_background": "light"
     },
     "output_type": "display_data"
    }
   ],
   "source": [
    "sns.kdeplot(train[train.churn ==1].total_charges, bw=1.0) \n",
    "plt.xlabel('total_charges')\n",
    "plt.ylabel('no of customers churned')"
   ]
  },
  {
   "cell_type": "code",
   "execution_count": 604,
   "metadata": {},
   "outputs": [
    {
     "name": "stdout",
     "output_type": "stream",
     "text": [
      "<class 'pandas.core.frame.DataFrame'>\n",
      "Int64Index: 4500 entries, 5217 to 1738\n",
      "Data columns (total 25 columns):\n",
      "payment_type_id             4500 non-null int64\n",
      "internet_service_type_id    4500 non-null int64\n",
      "contract_type_id            4500 non-null int64\n",
      "customer_id                 4500 non-null object\n",
      "gender                      4500 non-null object\n",
      "senior_citizen              4500 non-null int64\n",
      "partner                     4500 non-null int64\n",
      "dependents                  4500 non-null int64\n",
      "tenure                      4500 non-null int64\n",
      "phone_service               4500 non-null int64\n",
      "multiple_lines              4500 non-null object\n",
      "online_security             4500 non-null int64\n",
      "online_backup               4500 non-null int64\n",
      "device_protection           4500 non-null int64\n",
      "tech_support                4500 non-null int64\n",
      "streaming_tv                4500 non-null int64\n",
      "streaming_movies            4500 non-null int64\n",
      "paperless_billing           4500 non-null int64\n",
      "monthly_charges             4500 non-null float64\n",
      "total_charges               4500 non-null float64\n",
      "churn                       4500 non-null int64\n",
      "contract_type               4500 non-null object\n",
      "internet_service_type       4500 non-null object\n",
      "payment_type                4500 non-null object\n",
      "tenure_years                4500 non-null float64\n",
      "dtypes: float64(3), int64(16), object(6)\n",
      "memory usage: 1.0+ MB\n"
     ]
    }
   ],
   "source": [
    "train.info()"
   ]
  },
  {
   "cell_type": "code",
   "execution_count": 942,
   "metadata": {},
   "outputs": [],
   "source": [
    "X_train = train[['tenure', 'phone_service', 'tech_support','total_charges', 'internet_service_type_id', 'monthly_charges', 'contract_type_id','payment_type_id']]\n",
    "y_train = train[['churn']]\n",
    "\n",
    "X_validate = validate[['tenure','phone_service', 'tech_support', 'total_charges', 'internet_service_type_id', 'monthly_charges', 'contract_type_id','payment_type_id']]\n",
    "\n",
    "y_validate = validate[['churn']]"
   ]
  },
  {
   "cell_type": "code",
   "execution_count": 943,
   "metadata": {},
   "outputs": [],
   "source": [
    "def scale_minmax(train, test, column_list):\n",
    "    scaler = MinMaxScaler()\n",
    "    column_list_scaled = [col + '_scaled' for col in column_list]\n",
    "    train_scaled = pd.DataFrame(scaler.fit_transform(train[column_list]), \n",
    "                                columns = column_list_scaled, \n",
    "                                index = train.index)\n",
    "    train = train.join(train_scaled)\n",
    "\n",
    "    test_scaled = pd.DataFrame(scaler.transform(test[column_list]), \n",
    "                                columns = column_list_scaled, \n",
    "                                index = test.index)\n",
    "    test = test.join(test_scaled)\n",
    "\n",
    "    return train, test"
   ]
  },
  {
   "cell_type": "code",
   "execution_count": 945,
   "metadata": {},
   "outputs": [],
   "source": [
    "X_train_scaled, X_validate_scaled = scale_minmax(X_train, X_validate, ['tenure', 'total_charges', 'monthly_charges'])\n",
    "\n",
    "X_train_scaled = X_train_scaled.drop(columns = ['tenure', 'total_charges', 'monthly_charges'])\n",
    "\n",
    "\n",
    "X_validate_scaled = X_validate_scaled.drop(columns = ['tenure', 'total_charges', 'monthly_charges'])\n",
    "\n"
   ]
  },
  {
   "cell_type": "code",
   "execution_count": 946,
   "metadata": {},
   "outputs": [
    {
     "data": {
      "text/html": [
       "<div>\n",
       "<style scoped>\n",
       "    .dataframe tbody tr th:only-of-type {\n",
       "        vertical-align: middle;\n",
       "    }\n",
       "\n",
       "    .dataframe tbody tr th {\n",
       "        vertical-align: top;\n",
       "    }\n",
       "\n",
       "    .dataframe thead th {\n",
       "        text-align: right;\n",
       "    }\n",
       "</style>\n",
       "<table border=\"1\" class=\"dataframe\">\n",
       "  <thead>\n",
       "    <tr style=\"text-align: right;\">\n",
       "      <th></th>\n",
       "      <th>phone_service</th>\n",
       "      <th>tech_support</th>\n",
       "      <th>internet_service_type_id</th>\n",
       "      <th>contract_type_id</th>\n",
       "      <th>payment_type_id</th>\n",
       "      <th>tenure_scaled</th>\n",
       "      <th>total_charges_scaled</th>\n",
       "      <th>monthly_charges_scaled</th>\n",
       "    </tr>\n",
       "  </thead>\n",
       "  <tbody>\n",
       "    <tr>\n",
       "      <th>5217</th>\n",
       "      <td>1</td>\n",
       "      <td>0</td>\n",
       "      <td>2</td>\n",
       "      <td>3</td>\n",
       "      <td>4</td>\n",
       "      <td>0.873239</td>\n",
       "      <td>0.716419</td>\n",
       "      <td>0.793532</td>\n",
       "    </tr>\n",
       "    <tr>\n",
       "      <th>5496</th>\n",
       "      <td>1</td>\n",
       "      <td>1</td>\n",
       "      <td>2</td>\n",
       "      <td>3</td>\n",
       "      <td>3</td>\n",
       "      <td>0.887324</td>\n",
       "      <td>0.783015</td>\n",
       "      <td>0.867164</td>\n",
       "    </tr>\n",
       "  </tbody>\n",
       "</table>\n",
       "</div>"
      ],
      "text/plain": [
       "      phone_service  tech_support  internet_service_type_id  contract_type_id  \\\n",
       "5217              1             0                         2                 3   \n",
       "5496              1             1                         2                 3   \n",
       "\n",
       "      payment_type_id  tenure_scaled  total_charges_scaled  \\\n",
       "5217                4       0.873239              0.716419   \n",
       "5496                3       0.887324              0.783015   \n",
       "\n",
       "      monthly_charges_scaled  \n",
       "5217                0.793532  \n",
       "5496                0.867164  "
      ]
     },
     "execution_count": 946,
     "metadata": {},
     "output_type": "execute_result"
    }
   ],
   "source": [
    "X_train_scaled.head(2)"
   ]
  },
  {
   "cell_type": "code",
   "execution_count": 947,
   "metadata": {},
   "outputs": [],
   "source": [
    "logit = LogisticRegression(C=1, random_state = 42)"
   ]
  },
  {
   "cell_type": "code",
   "execution_count": 948,
   "metadata": {},
   "outputs": [
    {
     "data": {
      "text/plain": [
       "LogisticRegression(C=1, class_weight=None, dual=False, fit_intercept=True,\n",
       "                   intercept_scaling=1, l1_ratio=None, max_iter=100,\n",
       "                   multi_class='warn', n_jobs=None, penalty='l2',\n",
       "                   random_state=42, solver='warn', tol=0.0001, verbose=0,\n",
       "                   warm_start=False)"
      ]
     },
     "execution_count": 948,
     "metadata": {},
     "output_type": "execute_result"
    }
   ],
   "source": [
    "logit.fit(X_train_scaled, y_train)"
   ]
  },
  {
   "cell_type": "code",
   "execution_count": 949,
   "metadata": {},
   "outputs": [],
   "source": [
    "y_pred = logit.predict(X_train_scaled)"
   ]
  },
  {
   "cell_type": "code",
   "execution_count": 950,
   "metadata": {},
   "outputs": [
    {
     "data": {
      "text/html": [
       "<div>\n",
       "<style scoped>\n",
       "    .dataframe tbody tr th:only-of-type {\n",
       "        vertical-align: middle;\n",
       "    }\n",
       "\n",
       "    .dataframe tbody tr th {\n",
       "        vertical-align: top;\n",
       "    }\n",
       "\n",
       "    .dataframe thead th {\n",
       "        text-align: right;\n",
       "    }\n",
       "</style>\n",
       "<table border=\"1\" class=\"dataframe\">\n",
       "  <thead>\n",
       "    <tr style=\"text-align: right;\">\n",
       "      <th></th>\n",
       "      <th>no churn</th>\n",
       "      <th>churn</th>\n",
       "    </tr>\n",
       "  </thead>\n",
       "  <tbody>\n",
       "    <tr>\n",
       "      <th>0</th>\n",
       "      <td>0.942914</td>\n",
       "      <td>0.057086</td>\n",
       "    </tr>\n",
       "    <tr>\n",
       "      <th>1</th>\n",
       "      <td>0.955983</td>\n",
       "      <td>0.044017</td>\n",
       "    </tr>\n",
       "    <tr>\n",
       "      <th>2</th>\n",
       "      <td>0.280822</td>\n",
       "      <td>0.719178</td>\n",
       "    </tr>\n",
       "    <tr>\n",
       "      <th>3</th>\n",
       "      <td>0.941221</td>\n",
       "      <td>0.058779</td>\n",
       "    </tr>\n",
       "    <tr>\n",
       "      <th>4</th>\n",
       "      <td>0.935229</td>\n",
       "      <td>0.064771</td>\n",
       "    </tr>\n",
       "  </tbody>\n",
       "</table>\n",
       "</div>"
      ],
      "text/plain": [
       "   no churn     churn\n",
       "0  0.942914  0.057086\n",
       "1  0.955983  0.044017\n",
       "2  0.280822  0.719178\n",
       "3  0.941221  0.058779\n",
       "4  0.935229  0.064771"
      ]
     },
     "execution_count": 950,
     "metadata": {},
     "output_type": "execute_result"
    }
   ],
   "source": [
    "y_pred_proba = logit.predict_proba(X_train_scaled)\n",
    "y_pred_proba = pd.DataFrame(y_pred_proba, columns = ['no churn', 'churn'])\n",
    "y_pred_proba.head()"
   ]
  },
  {
   "cell_type": "code",
   "execution_count": 951,
   "metadata": {},
   "outputs": [
    {
     "data": {
      "text/plain": [
       "array([0, 1])"
      ]
     },
     "execution_count": 951,
     "metadata": {},
     "output_type": "execute_result"
    }
   ],
   "source": [
    "logit.classes_"
   ]
  },
  {
   "cell_type": "code",
   "execution_count": 952,
   "metadata": {},
   "outputs": [
    {
     "data": {
      "text/plain": [
       "payment_type_id             1.980171\n",
       "contract_type_id            0.795844\n",
       "tech_support                0.496970\n",
       "internet_service_type_id   -0.183351\n",
       "phone_service              -0.614965\n",
       "total_charges              -0.800434\n",
       "tenure                     -0.838902\n",
       "monthly_charges            -2.906783\n",
       "dtype: float64"
      ]
     },
     "execution_count": 952,
     "metadata": {},
     "output_type": "execute_result"
    }
   ],
   "source": [
    "weights = pd.Series(logit.coef_[0],\n",
    "index=X_train.columns.values)\n",
    "weights.sort_values(ascending = False)"
   ]
  },
  {
   "cell_type": "code",
   "execution_count": 953,
   "metadata": {},
   "outputs": [
    {
     "name": "stdout",
     "output_type": "stream",
     "text": [
      "              precision    recall  f1-score   support\n",
      "\n",
      "           0       0.84      0.90      0.87      3289\n",
      "           1       0.66      0.53      0.59      1211\n",
      "\n",
      "    accuracy                           0.80      4500\n",
      "   macro avg       0.75      0.72      0.73      4500\n",
      "weighted avg       0.79      0.80      0.79      4500\n",
      "\n"
     ]
    }
   ],
   "source": [
    "print(classification_report(y_train, y_pred))"
   ]
  },
  {
   "cell_type": "code",
   "execution_count": 958,
   "metadata": {},
   "outputs": [
    {
     "name": "stdout",
     "output_type": "stream",
     "text": [
      "              precision    recall  f1-score   support\n",
      "\n",
      "           0       0.88      0.80      0.84      3289\n",
      "           1       0.57      0.71      0.63      1211\n",
      "\n",
      "    accuracy                           0.78      4500\n",
      "   macro avg       0.73      0.76      0.74      4500\n",
      "weighted avg       0.80      0.78      0.78      4500\n",
      "\n"
     ]
    }
   ],
   "source": [
    "y_pred_proba = logit.predict_proba(X_train_scaled)\n",
    "y_pred_proba = pd.DataFrame(y_pred_proba, columns = ['no churn', 'churn'])\n",
    "t = 0.37\n",
    "yhat = (y_pred_proba > t).astype(int)\n",
    "print(classification_report(y_train, yhat.churn))"
   ]
  },
  {
   "cell_type": "code",
   "execution_count": 955,
   "metadata": {},
   "outputs": [
    {
     "data": {
      "image/png": "[encoded data removed]",
      "text/plain": [
       "<Figure size 864x612 with 1 Axes>"
      ]
     },
     "metadata": {
      "needs_background": "light"
     },
     "output_type": "display_data"
    }
   ],
   "source": [
    "logistic_regression_util.plot_metrics_by_thresholds(y_train.churn, y_pred_proba.churn)"
   ]
  },
  {
   "cell_type": "code",
   "execution_count": 963,
   "metadata": {},
   "outputs": [],
   "source": [
    "clf = RandomForestClassifier(bootstrap=True, \n",
    "                            class_weight=None, \n",
    "                            criterion='gini',\n",
    "                            min_samples_leaf=1,\n",
    "                            n_estimators=1000,\n",
    "                            max_depth=8, \n",
    "                            random_state=42)\n",
    "#clf = DecisionTreeClassifier(max_depth=3, random_state=42)"
   ]
  },
  {
   "cell_type": "code",
   "execution_count": 966,
   "metadata": {},
   "outputs": [],
   "source": [
    "clf.fit(X_train_scaled, y_train)\n",
    "#y_pred = clf.predict(X_train_scaled)\n",
    "y_pred = clf.predict(X_validate_scaled)"
   ]
  },
  {
   "cell_type": "code",
   "execution_count": 967,
   "metadata": {},
   "outputs": [
    {
     "data": {
      "text/html": [
       "<div>\n",
       "<style scoped>\n",
       "    .dataframe tbody tr th:only-of-type {\n",
       "        vertical-align: middle;\n",
       "    }\n",
       "\n",
       "    .dataframe tbody tr th {\n",
       "        vertical-align: top;\n",
       "    }\n",
       "\n",
       "    .dataframe thead th {\n",
       "        text-align: right;\n",
       "    }\n",
       "</style>\n",
       "<table border=\"1\" class=\"dataframe\">\n",
       "  <thead>\n",
       "    <tr style=\"text-align: right;\">\n",
       "      <th></th>\n",
       "      <th>0</th>\n",
       "      <th>1</th>\n",
       "      <th>accuracy</th>\n",
       "      <th>macro avg</th>\n",
       "      <th>weighted avg</th>\n",
       "    </tr>\n",
       "  </thead>\n",
       "  <tbody>\n",
       "    <tr>\n",
       "      <th>precision</th>\n",
       "      <td>0.823928</td>\n",
       "      <td>0.610879</td>\n",
       "      <td>0.778667</td>\n",
       "      <td>0.717403</td>\n",
       "      <td>0.766736</td>\n",
       "    </tr>\n",
       "    <tr>\n",
       "      <th>recall</th>\n",
       "      <td>0.886999</td>\n",
       "      <td>0.483444</td>\n",
       "      <td>0.778667</td>\n",
       "      <td>0.685221</td>\n",
       "      <td>0.778667</td>\n",
       "    </tr>\n",
       "    <tr>\n",
       "      <th>f1-score</th>\n",
       "      <td>0.854301</td>\n",
       "      <td>0.539741</td>\n",
       "      <td>0.778667</td>\n",
       "      <td>0.697021</td>\n",
       "      <td>0.769859</td>\n",
       "    </tr>\n",
       "    <tr>\n",
       "      <th>support</th>\n",
       "      <td>823.000000</td>\n",
       "      <td>302.000000</td>\n",
       "      <td>0.778667</td>\n",
       "      <td>1125.000000</td>\n",
       "      <td>1125.000000</td>\n",
       "    </tr>\n",
       "  </tbody>\n",
       "</table>\n",
       "</div>"
      ],
      "text/plain": [
       "                    0           1  accuracy    macro avg  weighted avg\n",
       "precision    0.823928    0.610879  0.778667     0.717403      0.766736\n",
       "recall       0.886999    0.483444  0.778667     0.685221      0.778667\n",
       "f1-score     0.854301    0.539741  0.778667     0.697021      0.769859\n",
       "support    823.000000  302.000000  0.778667  1125.000000   1125.000000"
      ]
     },
     "execution_count": 967,
     "metadata": {},
     "output_type": "execute_result"
    }
   ],
   "source": [
    "pd.DataFrame(classification_report(y_validate, y_pred, output_dict=True))"
   ]
  },
  {
   "cell_type": "code",
   "execution_count": 968,
   "metadata": {},
   "outputs": [],
   "source": [
    "knn = KNeighborsClassifier(n_neighbors=10, weights='uniform')"
   ]
  },
  {
   "cell_type": "code",
   "execution_count": 969,
   "metadata": {},
   "outputs": [
    {
     "data": {
      "text/plain": [
       "KNeighborsClassifier(algorithm='auto', leaf_size=30, metric='minkowski',\n",
       "                     metric_params=None, n_jobs=None, n_neighbors=10, p=2,\n",
       "                     weights='uniform')"
      ]
     },
     "execution_count": 969,
     "metadata": {},
     "output_type": "execute_result"
    }
   ],
   "source": [
    "knn.fit(X_train_scaled, y_train)"
   ]
  },
  {
   "cell_type": "code",
   "execution_count": 970,
   "metadata": {},
   "outputs": [],
   "source": [
    "y_pred = knn.predict(X_train_scaled)"
   ]
  },
  {
   "cell_type": "code",
   "execution_count": 971,
   "metadata": {},
   "outputs": [
    {
     "name": "stdout",
     "output_type": "stream",
     "text": [
      "              precision    recall  f1-score   support\n",
      "\n",
      "           0       0.84      0.94      0.88      3289\n",
      "           1       0.74      0.50      0.60      1211\n",
      "\n",
      "    accuracy                           0.82      4500\n",
      "   macro avg       0.79      0.72      0.74      4500\n",
      "weighted avg       0.81      0.82      0.81      4500\n",
      "\n"
     ]
    }
   ],
   "source": [
    "print(classification_report(y_train, y_pred))"
   ]
  },
  {
   "cell_type": "code",
   "execution_count": 972,
   "metadata": {},
   "outputs": [
    {
     "data": {
      "text/plain": [
       "<matplotlib.axes._subplots.AxesSubplot at 0x15a37c110>"
      ]
     },
     "execution_count": 972,
     "metadata": {},
     "output_type": "execute_result"
    },
    {
     "data": {
      "image/png": "[encoded data removed]",
      "text/plain": [
       "<Figure size 864x612 with 1 Axes>"
      ]
     },
     "metadata": {
      "needs_background": "light"
     },
     "output_type": "display_data"
    }
   ],
   "source": [
    "util.plot_k_vs_f1-score(X_train_scaled, y_train, X_validate_scaled, y_validate)"
   ]
  },
  {
   "cell_type": "code",
   "execution_count": null,
   "metadata": {},
   "outputs": [],
   "source": []
  }
 ],
 "metadata": {
  "kernelspec": {
   "display_name": "Python 3",
   "language": "python",
   "name": "python3"
  },
  "language_info": {
   "codemirror_mode": {
    "name": "ipython",
    "version": 3
   },
   "file_extension": ".py",
   "mimetype": "text/x-python",
   "name": "python",
   "nbconvert_exporter": "python",
   "pygments_lexer": "ipython3",
   "version": "3.7.4"
  }
 },
 "nbformat": 4,
 "nbformat_minor": 2
}
