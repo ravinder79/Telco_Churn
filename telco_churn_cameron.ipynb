{
 "cells": [
  {
   "cell_type": "code",
   "execution_count": 1,
   "metadata": {},
   "outputs": [],
   "source": [
    "import pandas as pd\n",
    "import numpy as np\n",
    "import seaborn as sns\n",
    "import matplotlib.pyplot as plt\n",
    "from env import get_db_url\n",
    "\n",
    "from sklearn.model_selection import train_test_split\n",
    "from sklearn.metrics import confusion_matrix, classification_report\n",
    "from sklearn.preprocessing import MinMaxScaler, OneHotEncoder\n",
    "\n",
    "from sklearn.linear_model import LogisticRegression\n",
    "from sklearn.tree import DecisionTreeClassifier\n",
    "from sklearn.ensemble import RandomForestClassifier\n",
    "from sklearn.neighbors import KNeighborsClassifier\n",
    "\n",
    "from sklearn.feature_selection import SelectKBest, f_regression, RFE"
   ]
  },
  {
   "cell_type": "code",
   "execution_count": 2,
   "metadata": {},
   "outputs": [],
   "source": [
    "url = get_db_url('telco_churn')\n",
    "\n",
    "query = '''\n",
    "SELECT * FROM customers\n",
    "JOIN contract_types USING (contract_type_id)\n",
    "JOIN internet_service_types USING (internet_service_type_id)\n",
    "JOIN payment_types USING (payment_type_id)\n",
    "'''\n",
    "df_orig = pd.read_sql(query, url)"
   ]
  },
  {
   "cell_type": "code",
   "execution_count": 3,
   "metadata": {},
   "outputs": [],
   "source": [
    "df = df_orig.copy()\n",
    "#Encoding gender feature to be used later in modeling\n",
    "df['gender_encoded'] = (df['gender'] == 'Male').astype(int)"
   ]
  },
  {
   "cell_type": "code",
   "execution_count": 4,
   "metadata": {},
   "outputs": [
    {
     "data": {
      "text/plain": [
       "No                     3473\n",
       "Yes                    2044\n",
       "No internet service    1526\n",
       "Name: tech_support, dtype: int64"
      ]
     },
     "execution_count": 4,
     "metadata": {},
     "output_type": "execute_result"
    }
   ],
   "source": [
    "df.tech_support.value_counts()"
   ]
  },
  {
   "cell_type": "code",
   "execution_count": 5,
   "metadata": {},
   "outputs": [],
   "source": [
    "#Creating single variable to represent if the user has 0, 1, or \n",
    "#more than 1 phone line, 0 being if the user has no phone service\n",
    "df['number_of_lines'] = df.multiple_lines.replace({'Yes':2, 'No':1,\\\n",
    "                                        'No phone service':0})\n",
    "\n",
    "df.drop(columns=['multiple_lines','phone_service'], inplace=True)"
   ]
  },
  {
   "cell_type": "code",
   "execution_count": 6,
   "metadata": {},
   "outputs": [],
   "source": [
    "#Drop all total charges that are represented in the data with ' '.\n",
    "df.total_charges.replace(' ', np.nan, inplace=True)\n",
    "df.dropna(inplace=True)\n",
    "df.total_charges = df.total_charges.astype(float)\n",
    "\n",
    "#Encoding yes's and no's to be used later in modeling\n",
    "df.replace('Yes', 1, inplace=True)\n",
    "df.replace('No', 0, inplace=True)\n",
    "df.replace('No internet service', 2, inplace=True)\n",
    "df.replace('No phone service', 2, inplace=True)"
   ]
  },
  {
   "cell_type": "code",
   "execution_count": 7,
   "metadata": {},
   "outputs": [],
   "source": [
    "#Creating new feature, which is tenure in whole years\n",
    "df['tenure_years'] = (df.tenure / 12).astype(int)"
   ]
  },
  {
   "cell_type": "code",
   "execution_count": 8,
   "metadata": {},
   "outputs": [],
   "source": [
    "# Sorting the columns by my preference\n",
    "df = df[['customer_id', 'gender','gender_encoded','senior_citizen',\n",
    "         'partner', 'dependents', 'number_of_lines',\n",
    "         'online_security', 'online_backup', 'device_protection', \n",
    "         'tech_support', 'streaming_tv', 'streaming_movies', \n",
    "         'paperless_billing', 'tenure', 'tenure_years',\n",
    "         'monthly_charges', 'total_charges', 'churn', \n",
    "         'payment_type', 'payment_type_id','internet_service_type', \n",
    "         'internet_service_type_id', \n",
    "         'contract_type', 'contract_type_id', ]]"
   ]
  },
  {
   "cell_type": "code",
   "execution_count": 9,
   "metadata": {},
   "outputs": [],
   "source": [
    "# Split the data into train, test, and validate sets in order to \n",
    "# later evaluate our models\n",
    "train, test = train_test_split(df, train_size = .8, random_state=42)\n",
    "train, validate = train_test_split(train, train_size = .8, \n",
    "                                   random_state=42)"
   ]
  },
  {
   "cell_type": "code",
   "execution_count": 10,
   "metadata": {},
   "outputs": [
    {
     "data": {
      "text/html": [
       "<div>\n",
       "<style scoped>\n",
       "    .dataframe tbody tr th:only-of-type {\n",
       "        vertical-align: middle;\n",
       "    }\n",
       "\n",
       "    .dataframe tbody tr th {\n",
       "        vertical-align: top;\n",
       "    }\n",
       "\n",
       "    .dataframe thead th {\n",
       "        text-align: right;\n",
       "    }\n",
       "</style>\n",
       "<table border=\"1\" class=\"dataframe\">\n",
       "  <thead>\n",
       "    <tr style=\"text-align: right;\">\n",
       "      <th>monthly_charges_bins</th>\n",
       "      <th>0</th>\n",
       "      <th>1</th>\n",
       "      <th>2</th>\n",
       "      <th>3</th>\n",
       "      <th>4</th>\n",
       "      <th>5</th>\n",
       "    </tr>\n",
       "    <tr>\n",
       "      <th>churn</th>\n",
       "      <th></th>\n",
       "      <th></th>\n",
       "      <th></th>\n",
       "      <th></th>\n",
       "      <th></th>\n",
       "      <th></th>\n",
       "    </tr>\n",
       "  </thead>\n",
       "  <tbody>\n",
       "    <tr>\n",
       "      <th>0</th>\n",
       "      <td>0.900693</td>\n",
       "      <td>0.874505</td>\n",
       "      <td>0.730088</td>\n",
       "      <td>0.667371</td>\n",
       "      <td>0.620536</td>\n",
       "      <td>0.734513</td>\n",
       "    </tr>\n",
       "    <tr>\n",
       "      <th>1</th>\n",
       "      <td>0.099307</td>\n",
       "      <td>0.125495</td>\n",
       "      <td>0.269912</td>\n",
       "      <td>0.332629</td>\n",
       "      <td>0.379464</td>\n",
       "      <td>0.265487</td>\n",
       "    </tr>\n",
       "  </tbody>\n",
       "</table>\n",
       "</div>"
      ],
      "text/plain": [
       "monthly_charges_bins         0         1         2         3         4  \\\n",
       "churn                                                                    \n",
       "0                     0.900693  0.874505  0.730088  0.667371  0.620536   \n",
       "1                     0.099307  0.125495  0.269912  0.332629  0.379464   \n",
       "\n",
       "monthly_charges_bins         5  \n",
       "churn                           \n",
       "0                     0.734513  \n",
       "1                     0.265487  "
      ]
     },
     "execution_count": 10,
     "metadata": {},
     "output_type": "execute_result"
    }
   ],
   "source": [
    "# Separate monthly charges into categorical bins to help \n",
    "# with modeling\n",
    "train['monthly_charges_bins'] = pd.cut(train.monthly_charges, \n",
    "                [0,20,40,60,80,100,120],labels=[0,1,2,3,4,5])\n",
    "pd.crosstab(train['churn'], train['monthly_charges_bins'],\n",
    "            normalize='columns')"
   ]
  },
  {
   "cell_type": "code",
   "execution_count": 11,
   "metadata": {},
   "outputs": [
    {
     "name": "stderr",
     "output_type": "stream",
     "text": [
      "/usr/local/anaconda3/lib/python3.7/site-packages/ipykernel_launcher.py:4: SettingWithCopyWarning: \n",
      "A value is trying to be set on a copy of a slice from a DataFrame.\n",
      "Try using .loc[row_indexer,col_indexer] = value instead\n",
      "\n",
      "See the caveats in the documentation: http://pandas.pydata.org/pandas-docs/stable/user_guide/indexing.html#returning-a-view-versus-a-copy\n",
      "  after removing the cwd from sys.path.\n"
     ]
    }
   ],
   "source": [
    "validate['monthly_charges_bins'] = pd.cut(validate.monthly_charges, \n",
    "                [0,20,40,60,80,100,120],labels=[0,1,2,3,4,5])\n",
    "test['monthly_charges_bins'] = pd.cut(test.monthly_charges, \n",
    "                [0,20,40,60,80,100,120],labels=[0,1,2,3,4,5])"
   ]
  },
  {
   "cell_type": "code",
   "execution_count": 12,
   "metadata": {},
   "outputs": [],
   "source": [
    "#Separate train data to use when scaling\n",
    "#This drops non-numeric data\n",
    "train_nums = train[['tenure','monthly_charges','total_charges']]\n",
    "val_nums = validate[['tenure','monthly_charges','total_charges']]\n",
    "test_nums = test[['tenure','monthly_charges','total_charges']]"
   ]
  },
  {
   "cell_type": "code",
   "execution_count": 13,
   "metadata": {},
   "outputs": [
    {
     "data": {
      "text/html": [
       "<div>\n",
       "<style scoped>\n",
       "    .dataframe tbody tr th:only-of-type {\n",
       "        vertical-align: middle;\n",
       "    }\n",
       "\n",
       "    .dataframe tbody tr th {\n",
       "        vertical-align: top;\n",
       "    }\n",
       "\n",
       "    .dataframe thead th {\n",
       "        text-align: right;\n",
       "    }\n",
       "</style>\n",
       "<table border=\"1\" class=\"dataframe\">\n",
       "  <thead>\n",
       "    <tr style=\"text-align: right;\">\n",
       "      <th></th>\n",
       "      <th>tenure</th>\n",
       "      <th>monthly_charges</th>\n",
       "      <th>total_charges</th>\n",
       "    </tr>\n",
       "  </thead>\n",
       "  <tbody>\n",
       "    <tr>\n",
       "      <th>5217</th>\n",
       "      <td>63</td>\n",
       "      <td>98.0</td>\n",
       "      <td>6218.45</td>\n",
       "    </tr>\n",
       "  </tbody>\n",
       "</table>\n",
       "</div>"
      ],
      "text/plain": [
       "      tenure  monthly_charges  total_charges\n",
       "5217      63             98.0        6218.45"
      ]
     },
     "execution_count": 13,
     "metadata": {},
     "output_type": "execute_result"
    }
   ],
   "source": [
    "train_nums.head(1)"
   ]
  },
  {
   "cell_type": "code",
   "execution_count": 14,
   "metadata": {},
   "outputs": [
    {
     "data": {
      "text/html": [
       "<div>\n",
       "<style scoped>\n",
       "    .dataframe tbody tr th:only-of-type {\n",
       "        vertical-align: middle;\n",
       "    }\n",
       "\n",
       "    .dataframe tbody tr th {\n",
       "        vertical-align: top;\n",
       "    }\n",
       "\n",
       "    .dataframe thead th {\n",
       "        text-align: right;\n",
       "    }\n",
       "</style>\n",
       "<table border=\"1\" class=\"dataframe\">\n",
       "  <thead>\n",
       "    <tr style=\"text-align: right;\">\n",
       "      <th></th>\n",
       "      <th>monthly_charges</th>\n",
       "      <th>monthly_charges_bins</th>\n",
       "    </tr>\n",
       "  </thead>\n",
       "  <tbody>\n",
       "    <tr>\n",
       "      <th>5136</th>\n",
       "      <td>109.75</td>\n",
       "      <td>5</td>\n",
       "    </tr>\n",
       "    <tr>\n",
       "      <th>1991</th>\n",
       "      <td>57.50</td>\n",
       "      <td>2</td>\n",
       "    </tr>\n",
       "    <tr>\n",
       "      <th>6010</th>\n",
       "      <td>18.85</td>\n",
       "      <td>0</td>\n",
       "    </tr>\n",
       "    <tr>\n",
       "      <th>2472</th>\n",
       "      <td>84.25</td>\n",
       "      <td>4</td>\n",
       "    </tr>\n",
       "    <tr>\n",
       "      <th>4630</th>\n",
       "      <td>79.25</td>\n",
       "      <td>3</td>\n",
       "    </tr>\n",
       "  </tbody>\n",
       "</table>\n",
       "</div>"
      ],
      "text/plain": [
       "      monthly_charges monthly_charges_bins\n",
       "5136           109.75                    5\n",
       "1991            57.50                    2\n",
       "6010            18.85                    0\n",
       "2472            84.25                    4\n",
       "4630            79.25                    3"
      ]
     },
     "execution_count": 14,
     "metadata": {},
     "output_type": "execute_result"
    }
   ],
   "source": [
    "train[['monthly_charges','monthly_charges_bins']].sample(5)"
   ]
  },
  {
   "cell_type": "code",
   "execution_count": 15,
   "metadata": {},
   "outputs": [
    {
     "data": {
      "text/plain": [
       "0.26578498293515357"
      ]
     },
     "execution_count": 15,
     "metadata": {},
     "output_type": "execute_result"
    }
   ],
   "source": [
    "df.churn.mean()"
   ]
  },
  {
   "cell_type": "code",
   "execution_count": 16,
   "metadata": {},
   "outputs": [
    {
     "data": {
      "text/plain": [
       "<matplotlib.axes._subplots.AxesSubplot at 0x127422250>"
      ]
     },
     "execution_count": 16,
     "metadata": {},
     "output_type": "execute_result"
    },
    {
     "data": {
      "image/png": "[encoded data removed]",
      "text/plain": [
       "<Figure size 864x648 with 1 Axes>"
      ]
     },
     "metadata": {
      "needs_background": "light"
     },
     "output_type": "display_data"
    }
   ],
   "source": [
    "import warnings\n",
    "warnings.simplefilter(action='ignore')\n",
    "plt.rc('figure',figsize=(12,9))\n",
    "sns.lineplot('monthly_charges_bins', 'churn', data = train, \n",
    "             err_style=None,\n",
    "             hue='online_security', palette=['r','b','g'])\n",
    "sns.lineplot('monthly_charges_bins', 'churn', data = train, \n",
    "             err_style=None,\n",
    "             hue='tech_support', palette=['r','b','g'])"
   ]
  },
  {
   "cell_type": "markdown",
   "metadata": {},
   "source": [
    "This shows that people who receive one or more of these 2 services are far less likely to churn than those who do not. We should devote at least some of our marketing to selling these services more often."
   ]
  },
  {
   "cell_type": "code",
   "execution_count": 17,
   "metadata": {},
   "outputs": [
    {
     "data": {
      "text/plain": [
       "(0.1649142224681793, 0.3390271073152618)"
      ]
     },
     "execution_count": 17,
     "metadata": {},
     "output_type": "execute_result"
    }
   ],
   "source": [
    "train[train.paperless_billing==0].churn.mean(),\\\n",
    "train[train.paperless_billing==1].churn.mean()"
   ]
  },
  {
   "cell_type": "markdown",
   "metadata": {},
   "source": [
    "This shows that people with paperless billing are twice as likely to churn as those without."
   ]
  },
  {
   "cell_type": "code",
   "execution_count": 18,
   "metadata": {},
   "outputs": [
    {
     "data": {
      "text/plain": [
       "<matplotlib.axes._subplots.AxesSubplot at 0x128421390>"
      ]
     },
     "execution_count": 18,
     "metadata": {},
     "output_type": "execute_result"
    },
    {
     "data": {
      "image/png": "[encoded data removed]",
      "text/plain": [
       "<Figure size 864x648 with 1 Axes>"
      ]
     },
     "metadata": {
      "needs_background": "light"
     },
     "output_type": "display_data"
    }
   ],
   "source": [
    "sns.lineplot(train.monthly_charges_bins, train.churn)"
   ]
  },
  {
   "cell_type": "code",
   "execution_count": 19,
   "metadata": {},
   "outputs": [
    {
     "data": {
      "text/plain": [
       "gender_encoded                 0.496855\n",
       "senior_citizen                 0.220126\n",
       "partner                        0.486212\n",
       "dependents                     0.248670\n",
       "number_of_lines                1.525399\n",
       "online_security                0.328979\n",
       "online_backup                  0.406386\n",
       "device_protection              0.400581\n",
       "tech_support                   0.338655\n",
       "streaming_tv                   0.485244\n",
       "streaming_movies               0.493469\n",
       "paperless_billing              0.705854\n",
       "tenure                        31.659410\n",
       "tenure_years                   2.204161\n",
       "monthly_charges               81.573682\n",
       "total_charges               2613.868795\n",
       "churn                          0.358007\n",
       "payment_type_id                2.213353\n",
       "internet_service_type_id       1.684567\n",
       "contract_type_id               1.532172\n",
       "dtype: float64"
      ]
     },
     "execution_count": 19,
     "metadata": {},
     "output_type": "execute_result"
    }
   ],
   "source": [
    "train[(train.monthly_charges_bins==3) |\n",
    "     (train.monthly_charges_bins==4)].mean()"
   ]
  },
  {
   "cell_type": "markdown",
   "metadata": {},
   "source": [
    "These numbers are interesting. In these two brackets of monthly charges, the churn rate averages almost 36%, rather than the total average of 26%. Looking deeper, we see that this demographic is very unlikely to be senior citizens or to have any dependents. We can target our marketing then towards childless adults. They are also less likely to be receiving tech support or online_security, both of which we already showed to have a correlation with churn rate, as well as a high chance of using paperless billing, which was also shown to be a large factor in churn."
   ]
  },
  {
   "cell_type": "code",
   "execution_count": 20,
   "metadata": {},
   "outputs": [
    {
     "data": {
      "text/plain": [
       "1    197\n",
       "2    194\n",
       "3     37\n",
       "5      0\n",
       "4      0\n",
       "0      0\n",
       "Name: monthly_charges_bins, dtype: int64"
      ]
     },
     "execution_count": 20,
     "metadata": {},
     "output_type": "execute_result"
    }
   ],
   "source": [
    "train.monthly_charges_bins[train.number_of_lines==0].value_counts()"
   ]
  },
  {
   "cell_type": "code",
   "execution_count": 21,
   "metadata": {},
   "outputs": [
    {
     "data": {
      "text/plain": [
       "392"
      ]
     },
     "execution_count": 21,
     "metadata": {},
     "output_type": "execute_result"
    }
   ],
   "source": [
    "train.churn[train.number_of_lines==1]\\\n",
    "[train.monthly_charges_bins==2].count()"
   ]
  },
  {
   "cell_type": "code",
   "execution_count": 22,
   "metadata": {},
   "outputs": [
    {
     "data": {
      "text/plain": [
       "1"
      ]
     },
     "execution_count": 22,
     "metadata": {},
     "output_type": "execute_result"
    }
   ],
   "source": [
    "train.churn[train.number_of_lines==0]\\\n",
    "[train.monthly_charges_bins==3].sum()"
   ]
  },
  {
   "cell_type": "code",
   "execution_count": 23,
   "metadata": {
    "scrolled": false
   },
   "outputs": [
    {
     "data": {
      "text/plain": [
       "<matplotlib.axes._subplots.AxesSubplot at 0x129572c90>"
      ]
     },
     "execution_count": 23,
     "metadata": {},
     "output_type": "execute_result"
    },
    {
     "data": {
      "image/png": "[encoded data removed]",
      "text/plain": [
       "<Figure size 864x648 with 1 Axes>"
      ]
     },
     "metadata": {
      "needs_background": "light"
     },
     "output_type": "display_data"
    }
   ],
   "source": [
    "sns.lineplot('tenure_years', 'churn', data = train, err_style=None,\n",
    "             hue='partner', palette='Blues')\n",
    "sns.lineplot('tenure_years', 'churn', data = train, err_style=None,\n",
    "             hue='dependents', palette='Reds')"
   ]
  },
  {
   "cell_type": "markdown",
   "metadata": {},
   "source": [
    "This seems to say that the least likely group to churn of these 4 is that with dependents, only being matched by the other groups once tenure reaches more than 5 years. It also shows that having dependents is much more highly correlated with churn than having a partner."
   ]
  },
  {
   "cell_type": "code",
   "execution_count": 24,
   "metadata": {},
   "outputs": [
    {
     "data": {
      "text/plain": [
       "<matplotlib.axes._subplots.AxesSubplot at 0x1297afe50>"
      ]
     },
     "execution_count": 24,
     "metadata": {},
     "output_type": "execute_result"
    },
    {
     "data": {
      "image/png": "[encoded data removed]",
      "text/plain": [
       "<Figure size 864x648 with 2 Axes>"
      ]
     },
     "metadata": {
      "needs_background": "light"
     },
     "output_type": "display_data"
    }
   ],
   "source": [
    "sns.heatmap(train.corr(), cmap='Blues')"
   ]
  },
  {
   "cell_type": "markdown",
   "metadata": {},
   "source": [
    "This shows that the group of columns near the middle are closely correlated with each other, and therefore I believe only one should be used for modeling. This is obviously also true for tenure and tenure_years."
   ]
  },
  {
   "cell_type": "code",
   "execution_count": 25,
   "metadata": {},
   "outputs": [
    {
     "data": {
      "text/plain": [
       "<matplotlib.axes._subplots.AxesSubplot at 0x129c2d890>"
      ]
     },
     "execution_count": 25,
     "metadata": {},
     "output_type": "execute_result"
    },
    {
     "data": {
      "image/png": "[encoded data removed]",
      "text/plain": [
       "<Figure size 864x648 with 2 Axes>"
      ]
     },
     "metadata": {
      "needs_background": "light"
     },
     "output_type": "display_data"
    }
   ],
   "source": [
    "binary_features = train[['online_security','online_backup',\n",
    "                   'device_protection', 'tech_support',\n",
    "                   'streaming_tv','streaming_movies', 'churn']]\n",
    "sns.heatmap(binary_features.corr(), cmap='Blues_r')"
   ]
  },
  {
   "cell_type": "code",
   "execution_count": 26,
   "metadata": {},
   "outputs": [
    {
     "data": {
      "text/plain": [
       "tech_support      -0.333430\n",
       "online_security   -0.327007\n",
       "Name: churn, dtype: float64"
      ]
     },
     "execution_count": 26,
     "metadata": {},
     "output_type": "execute_result"
    }
   ],
   "source": [
    "binary_features.corr().iloc[-1].nsmallest(2)"
   ]
  },
  {
   "cell_type": "code",
   "execution_count": 27,
   "metadata": {},
   "outputs": [
    {
     "data": {
      "text/plain": [
       "contract_type_id    -0.403699\n",
       "tenure              -0.364808\n",
       "tenure_years        -0.356645\n",
       "tech_support        -0.333430\n",
       "online_security     -0.327007\n",
       "online_backup       -0.293977\n",
       "device_protection   -0.289563\n",
       "payment_type_id     -0.266530\n",
       "Name: churn, dtype: float64"
      ]
     },
     "execution_count": 27,
     "metadata": {},
     "output_type": "execute_result"
    }
   ],
   "source": [
    "train.corr().iloc[16].sort_values()[0:8]"
   ]
  },
  {
   "cell_type": "code",
   "execution_count": 28,
   "metadata": {},
   "outputs": [
    {
     "data": {
      "text/plain": [
       "<matplotlib.axes._subplots.AxesSubplot at 0x129f23b50>"
      ]
     },
     "execution_count": 28,
     "metadata": {},
     "output_type": "execute_result"
    },
    {
     "data": {
      "image/png": "[encoded data removed]",
      "text/plain": [
       "<Figure size 864x648 with 1 Axes>"
      ]
     },
     "metadata": {
      "needs_background": "light"
     },
     "output_type": "display_data"
    }
   ],
   "source": [
    "sns.lineplot('tenure_years', 'churn', data = train, err_style=None,\n",
    "        hue='online_security', palette=['Purple','Blue','Green'])\n",
    "sns.lineplot('tenure_years', 'churn', data = train, err_style=None,\n",
    "        hue='tech_support', palette=['Red','Orange','Yellow'])"
   ]
  },
  {
   "cell_type": "markdown",
   "metadata": {},
   "source": [
    "This shows that the two most highly correlated of offered services are so similar that it barely makes a difference, so I will be choosing tech support, since that was slightly more correlated."
   ]
  },
  {
   "cell_type": "code",
   "execution_count": 29,
   "metadata": {},
   "outputs": [
    {
     "data": {
      "text/html": [
       "<div>\n",
       "<style scoped>\n",
       "    .dataframe tbody tr th:only-of-type {\n",
       "        vertical-align: middle;\n",
       "    }\n",
       "\n",
       "    .dataframe tbody tr th {\n",
       "        vertical-align: top;\n",
       "    }\n",
       "\n",
       "    .dataframe thead th {\n",
       "        text-align: right;\n",
       "    }\n",
       "</style>\n",
       "<table border=\"1\" class=\"dataframe\">\n",
       "  <thead>\n",
       "    <tr style=\"text-align: right;\">\n",
       "      <th></th>\n",
       "      <th>customer_id</th>\n",
       "      <th>gender</th>\n",
       "      <th>gender_encoded</th>\n",
       "      <th>senior_citizen</th>\n",
       "      <th>partner</th>\n",
       "      <th>dependents</th>\n",
       "      <th>number_of_lines</th>\n",
       "      <th>online_security</th>\n",
       "      <th>online_backup</th>\n",
       "      <th>device_protection</th>\n",
       "      <th>...</th>\n",
       "      <th>monthly_charges</th>\n",
       "      <th>total_charges</th>\n",
       "      <th>churn</th>\n",
       "      <th>payment_type</th>\n",
       "      <th>payment_type_id</th>\n",
       "      <th>internet_service_type</th>\n",
       "      <th>internet_service_type_id</th>\n",
       "      <th>contract_type</th>\n",
       "      <th>contract_type_id</th>\n",
       "      <th>monthly_charges_bins</th>\n",
       "    </tr>\n",
       "  </thead>\n",
       "  <tbody>\n",
       "    <tr>\n",
       "      <th>5217</th>\n",
       "      <td>3134-DSHVC</td>\n",
       "      <td>Female</td>\n",
       "      <td>0</td>\n",
       "      <td>0</td>\n",
       "      <td>0</td>\n",
       "      <td>0</td>\n",
       "      <td>2</td>\n",
       "      <td>1</td>\n",
       "      <td>1</td>\n",
       "      <td>1</td>\n",
       "      <td>...</td>\n",
       "      <td>98.00</td>\n",
       "      <td>6218.45</td>\n",
       "      <td>0</td>\n",
       "      <td>Credit card (automatic)</td>\n",
       "      <td>4</td>\n",
       "      <td>Fiber optic</td>\n",
       "      <td>2</td>\n",
       "      <td>Two year</td>\n",
       "      <td>3</td>\n",
       "      <td>4</td>\n",
       "    </tr>\n",
       "    <tr>\n",
       "      <th>5496</th>\n",
       "      <td>9586-JGQKH</td>\n",
       "      <td>Female</td>\n",
       "      <td>0</td>\n",
       "      <td>0</td>\n",
       "      <td>1</td>\n",
       "      <td>0</td>\n",
       "      <td>2</td>\n",
       "      <td>0</td>\n",
       "      <td>1</td>\n",
       "      <td>0</td>\n",
       "      <td>...</td>\n",
       "      <td>105.40</td>\n",
       "      <td>6794.75</td>\n",
       "      <td>0</td>\n",
       "      <td>Bank transfer (automatic)</td>\n",
       "      <td>3</td>\n",
       "      <td>Fiber optic</td>\n",
       "      <td>2</td>\n",
       "      <td>Two year</td>\n",
       "      <td>3</td>\n",
       "      <td>5</td>\n",
       "    </tr>\n",
       "    <tr>\n",
       "      <th>4517</th>\n",
       "      <td>9874-QLCLH</td>\n",
       "      <td>Female</td>\n",
       "      <td>0</td>\n",
       "      <td>0</td>\n",
       "      <td>1</td>\n",
       "      <td>1</td>\n",
       "      <td>2</td>\n",
       "      <td>1</td>\n",
       "      <td>0</td>\n",
       "      <td>1</td>\n",
       "      <td>...</td>\n",
       "      <td>104.20</td>\n",
       "      <td>1743.50</td>\n",
       "      <td>1</td>\n",
       "      <td>Electronic check</td>\n",
       "      <td>1</td>\n",
       "      <td>Fiber optic</td>\n",
       "      <td>2</td>\n",
       "      <td>Month-to-month</td>\n",
       "      <td>1</td>\n",
       "      <td>5</td>\n",
       "    </tr>\n",
       "    <tr>\n",
       "      <th>5121</th>\n",
       "      <td>0835-JKADZ</td>\n",
       "      <td>Female</td>\n",
       "      <td>0</td>\n",
       "      <td>0</td>\n",
       "      <td>0</td>\n",
       "      <td>0</td>\n",
       "      <td>2</td>\n",
       "      <td>0</td>\n",
       "      <td>1</td>\n",
       "      <td>1</td>\n",
       "      <td>...</td>\n",
       "      <td>111.25</td>\n",
       "      <td>7984.15</td>\n",
       "      <td>0</td>\n",
       "      <td>Electronic check</td>\n",
       "      <td>1</td>\n",
       "      <td>Fiber optic</td>\n",
       "      <td>2</td>\n",
       "      <td>Two year</td>\n",
       "      <td>3</td>\n",
       "      <td>5</td>\n",
       "    </tr>\n",
       "    <tr>\n",
       "      <th>5322</th>\n",
       "      <td>5693-PIPCS</td>\n",
       "      <td>Male</td>\n",
       "      <td>1</td>\n",
       "      <td>0</td>\n",
       "      <td>0</td>\n",
       "      <td>0</td>\n",
       "      <td>1</td>\n",
       "      <td>0</td>\n",
       "      <td>1</td>\n",
       "      <td>0</td>\n",
       "      <td>...</td>\n",
       "      <td>99.65</td>\n",
       "      <td>4220.35</td>\n",
       "      <td>0</td>\n",
       "      <td>Credit card (automatic)</td>\n",
       "      <td>4</td>\n",
       "      <td>Fiber optic</td>\n",
       "      <td>2</td>\n",
       "      <td>Two year</td>\n",
       "      <td>3</td>\n",
       "      <td>4</td>\n",
       "    </tr>\n",
       "  </tbody>\n",
       "</table>\n",
       "<p>5 rows × 26 columns</p>\n",
       "</div>"
      ],
      "text/plain": [
       "     customer_id  gender  gender_encoded  senior_citizen  partner  dependents  \\\n",
       "5217  3134-DSHVC  Female               0               0        0           0   \n",
       "5496  9586-JGQKH  Female               0               0        1           0   \n",
       "4517  9874-QLCLH  Female               0               0        1           1   \n",
       "5121  0835-JKADZ  Female               0               0        0           0   \n",
       "5322  5693-PIPCS    Male               1               0        0           0   \n",
       "\n",
       "      number_of_lines  online_security  online_backup  device_protection  ...  \\\n",
       "5217                2                1              1                  1  ...   \n",
       "5496                2                0              1                  0  ...   \n",
       "4517                2                1              0                  1  ...   \n",
       "5121                2                0              1                  1  ...   \n",
       "5322                1                0              1                  0  ...   \n",
       "\n",
       "      monthly_charges  total_charges  churn               payment_type  \\\n",
       "5217            98.00        6218.45      0    Credit card (automatic)   \n",
       "5496           105.40        6794.75      0  Bank transfer (automatic)   \n",
       "4517           104.20        1743.50      1           Electronic check   \n",
       "5121           111.25        7984.15      0           Electronic check   \n",
       "5322            99.65        4220.35      0    Credit card (automatic)   \n",
       "\n",
       "      payment_type_id  internet_service_type  internet_service_type_id  \\\n",
       "5217                4            Fiber optic                         2   \n",
       "5496                3            Fiber optic                         2   \n",
       "4517                1            Fiber optic                         2   \n",
       "5121                1            Fiber optic                         2   \n",
       "5322                4            Fiber optic                         2   \n",
       "\n",
       "       contract_type  contract_type_id monthly_charges_bins  \n",
       "5217        Two year                 3                    4  \n",
       "5496        Two year                 3                    5  \n",
       "4517  Month-to-month                 1                    5  \n",
       "5121        Two year                 3                    5  \n",
       "5322        Two year                 3                    4  \n",
       "\n",
       "[5 rows x 26 columns]"
      ]
     },
     "execution_count": 29,
     "metadata": {},
     "output_type": "execute_result"
    }
   ],
   "source": [
    "train.head()"
   ]
  },
  {
   "cell_type": "code",
   "execution_count": 30,
   "metadata": {},
   "outputs": [],
   "source": [
    "# From our earlier explorations these are the features I believe \n",
    "# to be the most likely to correctly predict churn rates\n",
    "features = ['contract_type_id','tenure_years','tech_support',\n",
    "            'payment_type_id','monthly_charges_bins','dependents',\n",
    "           'paperless_billing']\n",
    "X_train = train[features]\n",
    "y_train = train.churn\n",
    "X_val = validate[features]\n",
    "y_val = validate.churn"
   ]
  },
  {
   "cell_type": "code",
   "execution_count": 31,
   "metadata": {},
   "outputs": [
    {
     "data": {
      "text/plain": [
       "['contract_type_id',\n",
       " 'dependents',\n",
       " 'monthly_charges_bins',\n",
       " 'paperless_billing',\n",
       " 'payment_type_id',\n",
       " 'tech_support',\n",
       " 'tenure_years']"
      ]
     },
     "execution_count": 31,
     "metadata": {},
     "output_type": "execute_result"
    }
   ],
   "source": [
    "sorted(features)"
   ]
  },
  {
   "cell_type": "code",
   "execution_count": 32,
   "metadata": {},
   "outputs": [
    {
     "data": {
      "text/plain": [
       "Index(['tenure', 'monthly_charges', 'total_charges'], dtype='object')"
      ]
     },
     "execution_count": 32,
     "metadata": {},
     "output_type": "execute_result"
    }
   ],
   "source": [
    "train_nums.columns"
   ]
  },
  {
   "cell_type": "code",
   "execution_count": 33,
   "metadata": {},
   "outputs": [],
   "source": [
    "# This scales our numeric data to more easily be used in \n",
    "# modeling later\n",
    "scaler = MinMaxScaler().fit(train_nums)\n",
    "train_scaled = pd.DataFrame(scaler.transform(train_nums), \n",
    "                            columns = train_nums.columns.values)\\\n",
    "                            .set_index([train_nums.index.values])\n",
    "val_scaled = pd.DataFrame(scaler.transform(val_nums), \n",
    "                            columns = val_nums.columns.values)\\\n",
    "                            .set_index([val_nums.index.values])"
   ]
  },
  {
   "cell_type": "code",
   "execution_count": 34,
   "metadata": {},
   "outputs": [
    {
     "data": {
      "text/html": [
       "<div>\n",
       "<style scoped>\n",
       "    .dataframe tbody tr th:only-of-type {\n",
       "        vertical-align: middle;\n",
       "    }\n",
       "\n",
       "    .dataframe tbody tr th {\n",
       "        vertical-align: top;\n",
       "    }\n",
       "\n",
       "    .dataframe thead th {\n",
       "        text-align: right;\n",
       "    }\n",
       "</style>\n",
       "<table border=\"1\" class=\"dataframe\">\n",
       "  <thead>\n",
       "    <tr style=\"text-align: right;\">\n",
       "      <th></th>\n",
       "      <th>tenure</th>\n",
       "      <th>monthly_charges</th>\n",
       "      <th>total_charges</th>\n",
       "    </tr>\n",
       "  </thead>\n",
       "  <tbody>\n",
       "    <tr>\n",
       "      <th>5217</th>\n",
       "      <td>0.873239</td>\n",
       "      <td>0.793532</td>\n",
       "      <td>0.716419</td>\n",
       "    </tr>\n",
       "    <tr>\n",
       "      <th>5496</th>\n",
       "      <td>0.887324</td>\n",
       "      <td>0.867164</td>\n",
       "      <td>0.783015</td>\n",
       "    </tr>\n",
       "    <tr>\n",
       "      <th>4517</th>\n",
       "      <td>0.225352</td>\n",
       "      <td>0.855224</td>\n",
       "      <td>0.199299</td>\n",
       "    </tr>\n",
       "    <tr>\n",
       "      <th>5121</th>\n",
       "      <td>0.985915</td>\n",
       "      <td>0.925373</td>\n",
       "      <td>0.920461</td>\n",
       "    </tr>\n",
       "    <tr>\n",
       "      <th>5322</th>\n",
       "      <td>0.563380</td>\n",
       "      <td>0.809950</td>\n",
       "      <td>0.485520</td>\n",
       "    </tr>\n",
       "  </tbody>\n",
       "</table>\n",
       "</div>"
      ],
      "text/plain": [
       "        tenure  monthly_charges  total_charges\n",
       "5217  0.873239         0.793532       0.716419\n",
       "5496  0.887324         0.867164       0.783015\n",
       "4517  0.225352         0.855224       0.199299\n",
       "5121  0.985915         0.925373       0.920461\n",
       "5322  0.563380         0.809950       0.485520"
      ]
     },
     "execution_count": 34,
     "metadata": {},
     "output_type": "execute_result"
    }
   ],
   "source": [
    "train_scaled.head()"
   ]
  },
  {
   "cell_type": "code",
   "execution_count": 35,
   "metadata": {},
   "outputs": [],
   "source": [
    "X_train_scaled = pd.concat([train_scaled,train[features]], axis=1)\n",
    "y_train_scaled = train.churn\n",
    "X_val_scaled = pd.concat([val_scaled,validate[features]], axis=1)\n",
    "y_val_scaled = validate.churn"
   ]
  },
  {
   "cell_type": "code",
   "execution_count": 36,
   "metadata": {},
   "outputs": [
    {
     "data": {
      "text/html": [
       "<div>\n",
       "<style scoped>\n",
       "    .dataframe tbody tr th:only-of-type {\n",
       "        vertical-align: middle;\n",
       "    }\n",
       "\n",
       "    .dataframe tbody tr th {\n",
       "        vertical-align: top;\n",
       "    }\n",
       "\n",
       "    .dataframe thead th {\n",
       "        text-align: right;\n",
       "    }\n",
       "</style>\n",
       "<table border=\"1\" class=\"dataframe\">\n",
       "  <thead>\n",
       "    <tr style=\"text-align: right;\">\n",
       "      <th></th>\n",
       "      <th>tenure</th>\n",
       "      <th>monthly_charges</th>\n",
       "      <th>total_charges</th>\n",
       "      <th>contract_type_id</th>\n",
       "      <th>tenure_years</th>\n",
       "      <th>tech_support</th>\n",
       "      <th>payment_type_id</th>\n",
       "      <th>monthly_charges_bins</th>\n",
       "      <th>dependents</th>\n",
       "      <th>paperless_billing</th>\n",
       "    </tr>\n",
       "  </thead>\n",
       "  <tbody>\n",
       "    <tr>\n",
       "      <th>5217</th>\n",
       "      <td>0.873239</td>\n",
       "      <td>0.793532</td>\n",
       "      <td>0.716419</td>\n",
       "      <td>3</td>\n",
       "      <td>5</td>\n",
       "      <td>0</td>\n",
       "      <td>4</td>\n",
       "      <td>4</td>\n",
       "      <td>0</td>\n",
       "      <td>0</td>\n",
       "    </tr>\n",
       "    <tr>\n",
       "      <th>5496</th>\n",
       "      <td>0.887324</td>\n",
       "      <td>0.867164</td>\n",
       "      <td>0.783015</td>\n",
       "      <td>3</td>\n",
       "      <td>5</td>\n",
       "      <td>1</td>\n",
       "      <td>3</td>\n",
       "      <td>5</td>\n",
       "      <td>0</td>\n",
       "      <td>1</td>\n",
       "    </tr>\n",
       "    <tr>\n",
       "      <th>4517</th>\n",
       "      <td>0.225352</td>\n",
       "      <td>0.855224</td>\n",
       "      <td>0.199299</td>\n",
       "      <td>1</td>\n",
       "      <td>1</td>\n",
       "      <td>0</td>\n",
       "      <td>1</td>\n",
       "      <td>5</td>\n",
       "      <td>1</td>\n",
       "      <td>1</td>\n",
       "    </tr>\n",
       "    <tr>\n",
       "      <th>5121</th>\n",
       "      <td>0.985915</td>\n",
       "      <td>0.925373</td>\n",
       "      <td>0.920461</td>\n",
       "      <td>3</td>\n",
       "      <td>5</td>\n",
       "      <td>1</td>\n",
       "      <td>1</td>\n",
       "      <td>5</td>\n",
       "      <td>0</td>\n",
       "      <td>1</td>\n",
       "    </tr>\n",
       "    <tr>\n",
       "      <th>5322</th>\n",
       "      <td>0.563380</td>\n",
       "      <td>0.809950</td>\n",
       "      <td>0.485520</td>\n",
       "      <td>3</td>\n",
       "      <td>3</td>\n",
       "      <td>1</td>\n",
       "      <td>4</td>\n",
       "      <td>4</td>\n",
       "      <td>0</td>\n",
       "      <td>1</td>\n",
       "    </tr>\n",
       "  </tbody>\n",
       "</table>\n",
       "</div>"
      ],
      "text/plain": [
       "        tenure  monthly_charges  total_charges  contract_type_id  \\\n",
       "5217  0.873239         0.793532       0.716419                 3   \n",
       "5496  0.887324         0.867164       0.783015                 3   \n",
       "4517  0.225352         0.855224       0.199299                 1   \n",
       "5121  0.985915         0.925373       0.920461                 3   \n",
       "5322  0.563380         0.809950       0.485520                 3   \n",
       "\n",
       "      tenure_years  tech_support  payment_type_id monthly_charges_bins  \\\n",
       "5217             5             0                4                    4   \n",
       "5496             5             1                3                    5   \n",
       "4517             1             0                1                    5   \n",
       "5121             5             1                1                    5   \n",
       "5322             3             1                4                    4   \n",
       "\n",
       "      dependents  paperless_billing  \n",
       "5217           0                  0  \n",
       "5496           0                  1  \n",
       "4517           1                  1  \n",
       "5121           0                  1  \n",
       "5322           0                  1  "
      ]
     },
     "execution_count": 36,
     "metadata": {},
     "output_type": "execute_result"
    }
   ],
   "source": [
    "X_train_scaled.head()"
   ]
  },
  {
   "cell_type": "code",
   "execution_count": 37,
   "metadata": {},
   "outputs": [
    {
     "data": {
      "text/plain": [
       "(0.7971111111111111, 0.7875555555555556)"
      ]
     },
     "execution_count": 37,
     "metadata": {},
     "output_type": "execute_result"
    }
   ],
   "source": [
    "model_lr = LogisticRegression(random_state=42).fit(X_train, y_train)\n",
    "model_lr.score(X_train, y_train), model_lr.score(X_val, y_val)"
   ]
  },
  {
   "cell_type": "code",
   "execution_count": 38,
   "metadata": {},
   "outputs": [
    {
     "name": "stdout",
     "output_type": "stream",
     "text": [
      "              precision    recall  f1-score   support\n",
      "\n",
      "           0       0.84      0.89      0.87      3289\n",
      "           1       0.65      0.53      0.59      1211\n",
      "\n",
      "    accuracy                           0.80      4500\n",
      "   macro avg       0.74      0.71      0.73      4500\n",
      "weighted avg       0.79      0.80      0.79      4500\n",
      "\n"
     ]
    }
   ],
   "source": [
    "ypred_lr = model_lr.predict(X_train)\n",
    "print(classification_report(train.churn, ypred_lr))"
   ]
  },
  {
   "cell_type": "code",
   "execution_count": 39,
   "metadata": {},
   "outputs": [
    {
     "data": {
      "text/plain": [
       "(0.7797777777777778, 0.7697777777777778)"
      ]
     },
     "execution_count": 39,
     "metadata": {},
     "output_type": "execute_result"
    }
   ],
   "source": [
    "model_dt = DecisionTreeClassifier(max_depth=3, random_state=42)\\\n",
    "      .fit(X_train, y_train)\n",
    "model_dt.score(X_train, y_train), model_dt.score(X_val, y_val)"
   ]
  },
  {
   "cell_type": "code",
   "execution_count": 40,
   "metadata": {},
   "outputs": [
    {
     "name": "stdout",
     "output_type": "stream",
     "text": [
      "              precision    recall  f1-score   support\n",
      "\n",
      "           0       0.81      0.91      0.86      3289\n",
      "           1       0.63      0.44      0.52      1211\n",
      "\n",
      "    accuracy                           0.78      4500\n",
      "   macro avg       0.72      0.67      0.69      4500\n",
      "weighted avg       0.76      0.78      0.77      4500\n",
      "\n"
     ]
    }
   ],
   "source": [
    "ypred_dt = model_dt.predict(X_train)\n",
    "print(classification_report(train.churn, ypred_dt))"
   ]
  },
  {
   "cell_type": "code",
   "execution_count": 41,
   "metadata": {},
   "outputs": [
    {
     "name": "stdout",
     "output_type": "stream",
     "text": [
      "              precision    recall  f1-score   support\n",
      "\n",
      "           0       0.80      0.91      0.85       823\n",
      "           1       0.61      0.40      0.48       302\n",
      "\n",
      "    accuracy                           0.77      1125\n",
      "   macro avg       0.71      0.65      0.67      1125\n",
      "weighted avg       0.75      0.77      0.75      1125\n",
      "\n"
     ]
    }
   ],
   "source": [
    "ypred_dt = model_dt.predict(X_val)\n",
    "print(classification_report(validate.churn, ypred_dt))"
   ]
  },
  {
   "cell_type": "code",
   "execution_count": 42,
   "metadata": {},
   "outputs": [
    {
     "data": {
      "text/plain": [
       "(0.8013333333333333, 0.7795555555555556)"
      ]
     },
     "execution_count": 42,
     "metadata": {},
     "output_type": "execute_result"
    }
   ],
   "source": [
    "model_rf = RandomForestClassifier(random_state=42, \n",
    "                            min_samples_leaf = 3,\n",
    "                            max_depth = 5).fit(X_train, y_train)\n",
    "model_rf.score(X_train, y_train), model_rf.score(X_val, y_val)"
   ]
  },
  {
   "cell_type": "code",
   "execution_count": 43,
   "metadata": {},
   "outputs": [
    {
     "name": "stdout",
     "output_type": "stream",
     "text": [
      "              precision    recall  f1-score   support\n",
      "\n",
      "           0       0.83      0.91      0.87      3289\n",
      "           1       0.68      0.49      0.57      1211\n",
      "\n",
      "    accuracy                           0.80      4500\n",
      "   macro avg       0.76      0.70      0.72      4500\n",
      "weighted avg       0.79      0.80      0.79      4500\n",
      "\n"
     ]
    }
   ],
   "source": [
    "ypred_rf = model_rf.predict(X_train)\n",
    "print(classification_report(train.churn, ypred_rf))"
   ]
  },
  {
   "cell_type": "code",
   "execution_count": 44,
   "metadata": {},
   "outputs": [
    {
     "name": "stdout",
     "output_type": "stream",
     "text": [
      "              precision    recall  f1-score   support\n",
      "\n",
      "           0       0.81      0.91      0.86       823\n",
      "           1       0.64      0.42      0.51       302\n",
      "\n",
      "    accuracy                           0.78      1125\n",
      "   macro avg       0.72      0.67      0.68      1125\n",
      "weighted avg       0.76      0.78      0.76      1125\n",
      "\n"
     ]
    }
   ],
   "source": [
    "ypred_rf = model_rf.predict(X_val)\n",
    "print(classification_report(validate.churn, ypred_rf))"
   ]
  },
  {
   "cell_type": "code",
   "execution_count": 45,
   "metadata": {},
   "outputs": [
    {
     "data": {
      "text/plain": [
       "(0.8086666666666666, 0.7706666666666667)"
      ]
     },
     "execution_count": 45,
     "metadata": {},
     "output_type": "execute_result"
    }
   ],
   "source": [
    "model_kn = KNeighborsClassifier().fit(X_train, y_train)\n",
    "model_kn.score(X_train, y_train), model_kn.score(X_val, y_val)"
   ]
  },
  {
   "cell_type": "code",
   "execution_count": 46,
   "metadata": {},
   "outputs": [
    {
     "name": "stdout",
     "output_type": "stream",
     "text": [
      "              precision    recall  f1-score   support\n",
      "\n",
      "           0       0.86      0.88      0.87      3289\n",
      "           1       0.65      0.61      0.63      1211\n",
      "\n",
      "    accuracy                           0.81      4500\n",
      "   macro avg       0.76      0.75      0.75      4500\n",
      "weighted avg       0.81      0.81      0.81      4500\n",
      "\n"
     ]
    }
   ],
   "source": [
    "ypred_kn = model_kn.predict(X_train)\n",
    "print(classification_report(train.churn, ypred_kn))"
   ]
  },
  {
   "cell_type": "code",
   "execution_count": 47,
   "metadata": {},
   "outputs": [
    {
     "name": "stdout",
     "output_type": "stream",
     "text": [
      "              precision    recall  f1-score   support\n",
      "\n",
      "           0       0.83      0.86      0.85       823\n",
      "           1       0.58      0.53      0.56       302\n",
      "\n",
      "    accuracy                           0.77      1125\n",
      "   macro avg       0.71      0.70      0.70      1125\n",
      "weighted avg       0.77      0.77      0.77      1125\n",
      "\n"
     ]
    }
   ],
   "source": [
    "ypred_kn = model_kn.predict(X_val)\n",
    "print(classification_report(validate.churn, ypred_kn))"
   ]
  },
  {
   "cell_type": "code",
   "execution_count": 48,
   "metadata": {},
   "outputs": [
    {
     "data": {
      "text/plain": [
       "(0.8448888888888889, 0.7582222222222222)"
      ]
     },
     "execution_count": 48,
     "metadata": {},
     "output_type": "execute_result"
    }
   ],
   "source": [
    "model_kn_scaled = KNeighborsClassifier().fit(X_train_scaled, \n",
    "                                       y_train_scaled)\n",
    "model_kn_scaled.score(X_train_scaled, y_train_scaled),\\\n",
    "model_kn_scaled.score(X_val_scaled, y_val_scaled)"
   ]
  },
  {
   "cell_type": "code",
   "execution_count": 49,
   "metadata": {},
   "outputs": [
    {
     "name": "stdout",
     "output_type": "stream",
     "text": [
      "              precision    recall  f1-score   support\n",
      "\n",
      "           0       0.88      0.92      0.90      3289\n",
      "           1       0.74      0.65      0.69      1211\n",
      "\n",
      "    accuracy                           0.84      4500\n",
      "   macro avg       0.81      0.78      0.79      4500\n",
      "weighted avg       0.84      0.84      0.84      4500\n",
      "\n"
     ]
    }
   ],
   "source": [
    "ypred_kn_scaled = model_kn_scaled.predict(X_train_scaled)\n",
    "print(classification_report(train.churn, ypred_kn_scaled))"
   ]
  },
  {
   "cell_type": "code",
   "execution_count": 50,
   "metadata": {},
   "outputs": [
    {
     "name": "stdout",
     "output_type": "stream",
     "text": [
      "              precision    recall  f1-score   support\n",
      "\n",
      "           0       0.82      0.86      0.84       823\n",
      "           1       0.56      0.48      0.51       302\n",
      "\n",
      "    accuracy                           0.76      1125\n",
      "   macro avg       0.69      0.67      0.68      1125\n",
      "weighted avg       0.75      0.76      0.75      1125\n",
      "\n"
     ]
    }
   ],
   "source": [
    "ypred_kn_scaled = model_kn_scaled.predict(X_val_scaled)\n",
    "print(classification_report(validate.churn, ypred_kn_scaled))"
   ]
  },
  {
   "cell_type": "markdown",
   "metadata": {},
   "source": [
    "If we consider churn to be our positive, then there is a higher cost of false negatives since we would lose a customer that we predicted we would stay, rather than perhaps giving some kind of reward or discount to someone who would have stayed regardless. If that is the case, then a high recall should be our focus.\n",
    "\n",
    "Looking at the reports for all the models we tested, random forest gave us the highest recall, so that is the model I would choose to go with in the future for new data."
   ]
  },
  {
   "cell_type": "code",
   "execution_count": null,
   "metadata": {},
   "outputs": [],
   "source": []
  }
 ],
 "metadata": {
  "kernelspec": {
   "display_name": "Python 3",
   "language": "python",
   "name": "python3"
  },
  "language_info": {
   "codemirror_mode": {
    "name": "ipython",
    "version": 3
   },
   "file_extension": ".py",
   "mimetype": "text/x-python",
   "name": "python",
   "nbconvert_exporter": "python",
   "pygments_lexer": "ipython3",
   "version": "3.7.4"
  }
 },
 "nbformat": 4,
 "nbformat_minor": 2
}
